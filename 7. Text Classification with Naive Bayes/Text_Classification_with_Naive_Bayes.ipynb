{
  "cells": [
    {
      "cell_type": "markdown",
      "metadata": {
        "id": "rtpP9lMxqTv-"
      },
      "source": [
        "# AIM :- Text Classification using naive Bayesian approach."
      ]
    },
    {
      "cell_type": "markdown",
      "metadata": {
        "id": "j6DNLq65qTv_"
      },
      "source": [
        "# Importing necessary libraries"
      ]
    },
    {
      "cell_type": "code",
      "execution_count": null,
      "metadata": {
        "id": "NDkVtosvqTv_"
      },
      "outputs": [],
      "source": [
        "import numpy as np\n",
        "import pandas as pd\n",
        "import matplotlib.pyplot as plt\n",
        "import seaborn as sns\n",
        "%matplotlib inline\n",
        "import nltk\n",
        "from nltk.corpus import stopwords\n",
        "from sklearn.feature_extraction.text import TfidfVectorizer\n",
        "from sklearn.pipeline import Pipeline\n",
        "from sklearn.naive_bayes import MultinomialNB\n",
        "from sklearn.model_selection import train_test_split\n",
        "from sklearn.metrics import classification_report"
      ]
    },
    {
      "cell_type": "code",
      "execution_count": null,
      "metadata": {
        "id": "radOAUQhqTwB",
        "outputId": "e340615f-546c-483b-cdee-d7c931e3e9bf"
      },
      "outputs": [
        {
          "data": {
            "text/html": [
              "<div>\n",
              "<style scoped>\n",
              "    .dataframe tbody tr th:only-of-type {\n",
              "        vertical-align: middle;\n",
              "    }\n",
              "\n",
              "    .dataframe tbody tr th {\n",
              "        vertical-align: top;\n",
              "    }\n",
              "\n",
              "    .dataframe thead th {\n",
              "        text-align: right;\n",
              "    }\n",
              "</style>\n",
              "<table border=\"1\" class=\"dataframe\">\n",
              "  <thead>\n",
              "    <tr style=\"text-align: right;\">\n",
              "      <th></th>\n",
              "      <th>label</th>\n",
              "      <th>message</th>\n",
              "    </tr>\n",
              "  </thead>\n",
              "  <tbody>\n",
              "    <tr>\n",
              "      <th>0</th>\n",
              "      <td>ham</td>\n",
              "      <td>Go until jurong point, crazy.. Available only ...</td>\n",
              "    </tr>\n",
              "    <tr>\n",
              "      <th>1</th>\n",
              "      <td>ham</td>\n",
              "      <td>Ok lar... Joking wif u oni...</td>\n",
              "    </tr>\n",
              "    <tr>\n",
              "      <th>2</th>\n",
              "      <td>spam</td>\n",
              "      <td>Free entry in 2 a wkly comp to win FA Cup fina...</td>\n",
              "    </tr>\n",
              "    <tr>\n",
              "      <th>3</th>\n",
              "      <td>ham</td>\n",
              "      <td>U dun say so early hor... U c already then say...</td>\n",
              "    </tr>\n",
              "    <tr>\n",
              "      <th>4</th>\n",
              "      <td>ham</td>\n",
              "      <td>Nah I don't think he goes to usf, he lives aro...</td>\n",
              "    </tr>\n",
              "  </tbody>\n",
              "</table>\n",
              "</div>"
            ],
            "text/plain": [
              "  label                                            message\n",
              "0   ham  Go until jurong point, crazy.. Available only ...\n",
              "1   ham                      Ok lar... Joking wif u oni...\n",
              "2  spam  Free entry in 2 a wkly comp to win FA Cup fina...\n",
              "3   ham  U dun say so early hor... U c already then say...\n",
              "4   ham  Nah I don't think he goes to usf, he lives aro..."
            ]
          },
          "execution_count": 2,
          "metadata": {},
          "output_type": "execute_result"
        }
      ],
      "source": [
        "df = pd.read_csv('spam.csv', encoding='latin-1')[['v1', 'v2']]\n",
        "df.columns = ['label', 'message']\n",
        "df.head()"
      ]
    },
    {
      "cell_type": "code",
      "execution_count": null,
      "metadata": {
        "id": "mBXUUIbKqTwD",
        "outputId": "8aa5b687-d579-4ebe-8ba6-34f47abab8cd"
      },
      "outputs": [
        {
          "data": {
            "text/html": [
              "<div>\n",
              "<style scoped>\n",
              "    .dataframe tbody tr th:only-of-type {\n",
              "        vertical-align: middle;\n",
              "    }\n",
              "\n",
              "    .dataframe tbody tr th {\n",
              "        vertical-align: top;\n",
              "    }\n",
              "\n",
              "    .dataframe thead tr th {\n",
              "        text-align: left;\n",
              "    }\n",
              "\n",
              "    .dataframe thead tr:last-of-type th {\n",
              "        text-align: right;\n",
              "    }\n",
              "</style>\n",
              "<table border=\"1\" class=\"dataframe\">\n",
              "  <thead>\n",
              "    <tr>\n",
              "      <th></th>\n",
              "      <th colspan=\"4\" halign=\"left\">message</th>\n",
              "    </tr>\n",
              "    <tr>\n",
              "      <th></th>\n",
              "      <th>count</th>\n",
              "      <th>unique</th>\n",
              "      <th>top</th>\n",
              "      <th>freq</th>\n",
              "    </tr>\n",
              "    <tr>\n",
              "      <th>label</th>\n",
              "      <th></th>\n",
              "      <th></th>\n",
              "      <th></th>\n",
              "      <th></th>\n",
              "    </tr>\n",
              "  </thead>\n",
              "  <tbody>\n",
              "    <tr>\n",
              "      <th>ham</th>\n",
              "      <td>4825</td>\n",
              "      <td>4516</td>\n",
              "      <td>Sorry, I'll call later</td>\n",
              "      <td>30</td>\n",
              "    </tr>\n",
              "    <tr>\n",
              "      <th>spam</th>\n",
              "      <td>747</td>\n",
              "      <td>653</td>\n",
              "      <td>Please call our customer service representativ...</td>\n",
              "      <td>4</td>\n",
              "    </tr>\n",
              "  </tbody>\n",
              "</table>\n",
              "</div>"
            ],
            "text/plain": [
              "      message                                                               \n",
              "        count unique                                                top freq\n",
              "label                                                                       \n",
              "ham      4825   4516                             Sorry, I'll call later   30\n",
              "spam      747    653  Please call our customer service representativ...    4"
            ]
          },
          "execution_count": 3,
          "metadata": {},
          "output_type": "execute_result"
        }
      ],
      "source": [
        "df.groupby('label').describe()"
      ]
    },
    {
      "cell_type": "markdown",
      "metadata": {
        "id": "yizKEuSWqTwE"
      },
      "source": [
        "# Visualization of dataset"
      ]
    },
    {
      "cell_type": "code",
      "execution_count": null,
      "metadata": {
        "id": "zohNchvfqTwE",
        "outputId": "349a509c-3bf3-488b-f8b5-48c15d6e16a6"
      },
      "outputs": [
        {
          "data": {
            "text/plain": [
              "<matplotlib.axes._subplots.AxesSubplot at 0x2112094b608>"
            ]
          },
          "execution_count": 4,
          "metadata": {},
          "output_type": "execute_result"
        },
        {
          "data": {
            "image/png": "[encoded data removed]",
            "text/plain": [
              "<Figure size 432x288 with 1 Axes>"
            ]
          },
          "metadata": {
            "needs_background": "light"
          },
          "output_type": "display_data"
        }
      ],
      "source": [
        "sns.countplot(data=df, x='label')"
      ]
    },
    {
      "cell_type": "markdown",
      "metadata": {
        "id": "ZfnHq52lqTwE"
      },
      "source": [
        "# Pre-processing"
      ]
    },
    {
      "cell_type": "code",
      "execution_count": null,
      "metadata": {
        "id": "we0p3inAqTwF"
      },
      "outputs": [],
      "source": [
        "def toLower(sentence):\n",
        "    return sentence.lower()\n",
        "\n",
        "def tokenizer(sentence):\n",
        "    tokens = list(set(nltk.word_tokenize(sentence)))\n",
        "    return tokens\n",
        "\n",
        "def stopwords_removal(tokens):\n",
        "    stop_words = nltk.corpus.stopwords.words('english')\n",
        "    stop_words.extend([',','?','\"\"',\"''\",'.','!', \"'\",'\"',\"'d\",\"'ll\",'[',']','--',':',';','///','@', '``',\n",
        "                       '#', '$', '%', '&', \"'re\", \"'s\", '(', ')', '*', '**', '**the', '-', '/', '//',\n",
        "                       '§', '§§','...','–', '—', '‘', '’', '“', '”', '•', '─',\"'m\", \"'ve\", '***'])\n",
        "    filtered_tokens = [i for i in tokens if not i in stop_words]\n",
        "    return filtered_tokens\n",
        "\n",
        "def stemming(tokens):\n",
        "    stemmer = nltk.stem.porter.PorterStemmer()\n",
        "    stemmed_tokens = [stemmer.stem(i) for i in tokens]\n",
        "    return stemmed_tokens\n",
        "\n",
        "def pre_process(text):\n",
        "    tokens = [word for sent in nltk.sent_tokenize(text) for word in nltk.word_tokenize(sent)]\n",
        "    tokens = stopwords_removal(tokens)\n",
        "    stems = stemming(tokens)\n",
        "    return stems"
      ]
    },
    {
      "cell_type": "code",
      "execution_count": null,
      "metadata": {
        "id": "AQE15va1qTwG",
        "outputId": "df31f4d5-9da9-4e56-955c-cef1f3713dca"
      },
      "outputs": [
        {
          "data": {
            "text/plain": [
              "0     [Go, jurong, point, crazy.., avail, bugi, n, g...\n",
              "1                          [Ok, lar, joke, wif, u, oni]\n",
              "2     [free, entri, 2, wkli, comp, win, FA, cup, fin...\n",
              "3         [U, dun, say, earli, hor, U, c, alreadi, say]\n",
              "4     [nah, I, n't, think, goe, usf, live, around, t...\n",
              "5     [freemsg, hey, darl, 3, week, word, back, I, l...\n",
              "6     [even, brother, like, speak, they, treat, like...\n",
              "7     [As, per, request, 'mell, mell, oru, minnaminu...\n",
              "8     [winner, As, valu, network, custom, select, re...\n",
              "9     [had, mobil, 11, month, U, R, entitl, updat, l...\n",
              "10    [I, gon, na, home, soon, n't, want, talk, stuf...\n",
              "11    [six, chanc, win, cash, from, 100, 20,000, pou...\n",
              "12    [urgent, you, 1, week, free, membership, å£100...\n",
              "13    [I, search, right, word, thank, breather, I, p...\n",
              "14           [I, have, A, date, ON, sunday, with, will]\n",
              "Name: message, dtype: object"
            ]
          },
          "execution_count": 6,
          "metadata": {},
          "output_type": "execute_result"
        }
      ],
      "source": [
        "df['message'][:15].apply(pre_process)"
      ]
    },
    {
      "cell_type": "markdown",
      "metadata": {
        "id": "6vSKMQXMqTwH"
      },
      "source": [
        "# Creating Tf-idf Vectorizer"
      ]
    },
    {
      "cell_type": "code",
      "execution_count": null,
      "metadata": {
        "id": "NzIVDF_hqTwH"
      },
      "outputs": [],
      "source": [
        "tfidfv = TfidfVectorizer(analyzer=pre_process)\n",
        "data = tfidfv.fit_transform(df['message'])"
      ]
    },
    {
      "cell_type": "code",
      "execution_count": null,
      "metadata": {
        "id": "ItPPqG1zqTwH",
        "outputId": "8adb2897-616e-4361-e066-adb80a947ddf"
      },
      "outputs": [
        {
          "name": "stdout",
          "output_type": "stream",
          "text": [
            "Free entry in 2 a wkly comp to win FA Cup final tkts 21st May 2005. Text FA to 87121 to receive entry question(std txt rate)T&C's apply 08452810075over18's\n"
          ]
        }
      ],
      "source": [
        "mess = df.iloc[2]['message']\n",
        "print(mess)"
      ]
    },
    {
      "cell_type": "code",
      "execution_count": null,
      "metadata": {
        "id": "dyv22UvVqTwI",
        "outputId": "a0d23e60-777c-4450-8c0d-c8611431b9ac"
      },
      "outputs": [
        {
          "name": "stdout",
          "output_type": "stream",
          "text": [
            "  (0, 8269)\t0.1862767344382167\n",
            "  (0, 8234)\t0.1425814600440779\n",
            "  (0, 7793)\t0.12074489968523497\n",
            "  (0, 7615)\t0.21585993786649796\n",
            "  (0, 7472)\t0.11573060515474674\n",
            "  (0, 7165)\t0.19719501461763816\n",
            "  (0, 6376)\t0.15855135671728685\n",
            "  (0, 6330)\t0.1642414440835781\n",
            "  (0, 6282)\t0.16270229419265972\n",
            "  (0, 5100)\t0.1549556511232214\n",
            "  (0, 3616)\t0.1133549213294916\n",
            "  (0, 3486)\t0.1642414440835781\n",
            "  (0, 3262)\t0.3519271973030762\n",
            "  (0, 2750)\t0.2000321406903793\n",
            "  (0, 2571)\t0.192285497620941\n",
            "  (0, 1677)\t0.1642414440835781\n",
            "  (0, 1245)\t0.1455765208347183\n",
            "  (0, 1138)\t0.4592306882373211\n",
            "  (0, 1109)\t0.14763307653786537\n",
            "  (0, 1021)\t0.21585993786649796\n",
            "  (0, 614)\t0.22186870104922227\n",
            "  (0, 602)\t0.22186870104922227\n",
            "  (0, 583)\t0.09813226854611577\n",
            "  (0, 230)\t0.22961534411866055\n"
          ]
        }
      ],
      "source": [
        "print(tfidfv.transform([mess]))"
      ]
    },
    {
      "cell_type": "markdown",
      "metadata": {
        "id": "Ejznu2lmqTwI"
      },
      "source": [
        "# Creating pipeline for model (Vetorizer+MultinomialNB)"
      ]
    },
    {
      "cell_type": "code",
      "execution_count": null,
      "metadata": {
        "id": "7JdfeLVlqTwI"
      },
      "outputs": [],
      "source": [
        "spam_filter = Pipeline([\n",
        "    ('vectorizer', TfidfVectorizer(analyzer=pre_process)), # messages to weighted TFIDF score\n",
        "    ('classifier', MultinomialNB())                    # train on TFIDF vectors with Naive Bayes\n",
        "])"
      ]
    },
    {
      "cell_type": "code",
      "execution_count": null,
      "metadata": {
        "id": "6j8KlgfnqTwI"
      },
      "outputs": [],
      "source": [
        "x_train, x_test, y_train, y_test = train_test_split(df['message'], df['label'], test_size=0.25, random_state = 21)"
      ]
    },
    {
      "cell_type": "code",
      "execution_count": null,
      "metadata": {
        "id": "dn9Cgv6cqTwJ",
        "outputId": "341d0d0e-f679-4138-fb29-1e794800ff8a"
      },
      "outputs": [
        {
          "data": {
            "text/plain": [
              "Pipeline(memory=None,\n",
              "         steps=[('vectorizer',\n",
              "                 TfidfVectorizer(analyzer=<function pre_process at 0x0000021120B00EE8>,\n",
              "                                 binary=False, decode_error='strict',\n",
              "                                 dtype=<class 'numpy.float64'>,\n",
              "                                 encoding='utf-8', input='content',\n",
              "                                 lowercase=True, max_df=1.0, max_features=None,\n",
              "                                 min_df=1, ngram_range=(1, 1), norm='l2',\n",
              "                                 preprocessor=None, smooth_idf=True,\n",
              "                                 stop_words=None, strip_accents=None,\n",
              "                                 sublinear_tf=False,\n",
              "                                 token_pattern='(?u)\\\\b\\\\w\\\\w+\\\\b',\n",
              "                                 tokenizer=None, use_idf=True,\n",
              "                                 vocabulary=None)),\n",
              "                ('classifier',\n",
              "                 MultinomialNB(alpha=1.0, class_prior=None, fit_prior=True))],\n",
              "         verbose=False)"
            ]
          },
          "execution_count": 12,
          "metadata": {},
          "output_type": "execute_result"
        }
      ],
      "source": [
        "spam_filter.fit(x_train, y_train)"
      ]
    },
    {
      "cell_type": "code",
      "execution_count": null,
      "metadata": {
        "id": "qcv2SISBqTwJ"
      },
      "outputs": [],
      "source": [
        "predictions = spam_filter.predict(x_test)"
      ]
    },
    {
      "cell_type": "code",
      "execution_count": null,
      "metadata": {
        "id": "-EzLd7RzqTwJ",
        "outputId": "61536ed3-9eb4-42da-b018-b145d7a26dda"
      },
      "outputs": [
        {
          "name": "stdout",
          "output_type": "stream",
          "text": [
            "Total number of test cases 1393\n",
            "Number of wrong of predictions 51\n"
          ]
        }
      ],
      "source": [
        "count = 0\n",
        "for i in range(len(y_test)):\n",
        "    if y_test.iloc[i] != predictions[i]:\n",
        "        count += 1\n",
        "print('Total number of test cases', len(y_test))\n",
        "print('Number of wrong of predictions', count)"
      ]
    },
    {
      "cell_type": "markdown",
      "metadata": {
        "id": "Iej09G72qTwN"
      },
      "source": [
        "# Result Evaluation"
      ]
    },
    {
      "cell_type": "code",
      "execution_count": null,
      "metadata": {
        "id": "9wEd5suNqTwN",
        "outputId": "5918d096-ed77-4eba-aa62-f3f4a4eb5959"
      },
      "outputs": [
        {
          "name": "stdout",
          "output_type": "stream",
          "text": [
            "              precision    recall  f1-score   support\n",
            "\n",
            "         ham       1.00      0.96      0.98      1261\n",
            "        spam       0.72      0.99      0.84       132\n",
            "\n",
            "    accuracy                           0.96      1393\n",
            "   macro avg       0.86      0.98      0.91      1393\n",
            "weighted avg       0.97      0.96      0.97      1393\n",
            "\n"
          ]
        }
      ],
      "source": [
        "print(classification_report(predictions, y_test))"
      ]
    },
    {
      "cell_type": "markdown",
      "metadata": {
        "id": "P3lHH_AWqTwO"
      },
      "source": [
        "# For custom input"
      ]
    },
    {
      "cell_type": "code",
      "execution_count": null,
      "metadata": {
        "id": "U45s0CSFqTwO"
      },
      "outputs": [],
      "source": [
        "def detect_spam(s):\n",
        "    return spam_filter.predict([s])[0]"
      ]
    },
    {
      "cell_type": "code",
      "execution_count": null,
      "metadata": {
        "id": "dpLdHHP5qTwO",
        "outputId": "d567342e-7caf-4407-c887-1a02bab863d8"
      },
      "outputs": [
        {
          "name": "stdout",
          "output_type": "stream",
          "text": [
            "Enter message for classification in spam/non-spam\n",
            "Free entry in 2 a wkly comp to win FA Cup final tkts 21st May 2005. Text FA to 87121 to receive entry question(std txt rate)T&C's apply 08452810075over18's\n"
          ]
        },
        {
          "data": {
            "text/plain": [
              "'spam'"
            ]
          },
          "execution_count": 17,
          "metadata": {},
          "output_type": "execute_result"
        }
      ],
      "source": [
        "x = input('Enter message for classification in spam/non-spam\\n')\n",
        "detect_spam(x)"
      ]
    },
    {
      "cell_type": "markdown",
      "metadata": {
        "id": "wCwtThnGqTwO"
      },
      "source": [
        "# Learning Outcomes"
      ]
    },
    {
      "cell_type": "markdown",
      "metadata": {
        "id": "w3tXYskJqTwO"
      },
      "source": [
        "    1. I got to learn how naive bayes works with text data and it relation with previous input.\n",
        "    2. I got to learn how to create pipeline for model which directly do all the necessary things.\n",
        "    3. I got to leran different types of metrics like macro avg. and weighted avg."
      ]
    },
    {
      "cell_type": "code",
      "execution_count": null,
      "metadata": {
        "id": "Dui9YKfGqTwO"
      },
      "outputs": [],
      "source": []
    }
  ],
  "metadata": {
    "kernelspec": {
      "display_name": "Python 3",
      "language": "python",
      "name": "python3"
    },
    "language_info": {
      "codemirror_mode": {
        "name": "ipython",
        "version": 3
      },
      "file_extension": ".py",
      "mimetype": "text/x-python",
      "name": "python",
      "nbconvert_exporter": "python",
      "pygments_lexer": "ipython3",
      "version": "3.7.6"
    },
    "colab": {
      "provenance": []
    }
  },
  "nbformat": 4,
  "nbformat_minor": 0
}