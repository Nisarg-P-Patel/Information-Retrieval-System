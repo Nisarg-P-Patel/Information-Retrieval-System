{
  "cells": [
    {
      "cell_type": "markdown",
      "metadata": {
        "id": "t4dxWnmtqPhv"
      },
      "source": [
        "# AIM :- Singular Value Decomposition"
      ]
    },
    {
      "cell_type": "markdown",
      "metadata": {
        "id": "WL2P7mnWqPhw"
      },
      "source": [
        "Dimensionality reduction using Singular Value Decomposition."
      ]
    },
    {
      "cell_type": "markdown",
      "metadata": {
        "id": "STbWhj0GqPhw"
      },
      "source": [
        "# Packages Used"
      ]
    },
    {
      "cell_type": "code",
      "execution_count": null,
      "metadata": {
        "id": "G2uOu2bwqPhx"
      },
      "outputs": [],
      "source": [
        "# Importing necessary libraries\n",
        "\n",
        "import nltk\n",
        "from nltk.corpus import stopwords\n",
        "from sklearn.feature_extraction.text import TfidfVectorizer\n",
        "from scipy.sparse.linalg import svds\n",
        "import pandas as pd\n",
        "import numpy as np\n",
        "from sklearn.decomposition import TruncatedSVD\n",
        "from sklearn.metrics.pairwise import cosine_similarity as cs"
      ]
    },
    {
      "cell_type": "markdown",
      "metadata": {
        "id": "A4trg8GDqPhy"
      },
      "source": [
        "# Importing data from json file"
      ]
    },
    {
      "cell_type": "code",
      "execution_count": null,
      "metadata": {
        "id": "VAfHDyrMqPhz",
        "outputId": "83dbe825-4f25-4de0-cf47-ac98f5c3731d"
      },
      "outputs": [
        {
          "data": {
            "text/html": [
              "<div>\n",
              "<style scoped>\n",
              "    .dataframe tbody tr th:only-of-type {\n",
              "        vertical-align: middle;\n",
              "    }\n",
              "\n",
              "    .dataframe tbody tr th {\n",
              "        vertical-align: top;\n",
              "    }\n",
              "\n",
              "    .dataframe thead th {\n",
              "        text-align: right;\n",
              "    }\n",
              "</style>\n",
              "<table border=\"1\" class=\"dataframe\">\n",
              "  <thead>\n",
              "    <tr style=\"text-align: right;\">\n",
              "      <th></th>\n",
              "      <th>id</th>\n",
              "      <th>title</th>\n",
              "      <th>contents</th>\n",
              "      <th>date</th>\n",
              "      <th>topics</th>\n",
              "      <th>components</th>\n",
              "    </tr>\n",
              "  </thead>\n",
              "  <tbody>\n",
              "    <tr>\n",
              "      <th>0</th>\n",
              "      <td>None</td>\n",
              "      <td>Convicted Bomb Plotter Sentenced to 30 Years</td>\n",
              "      <td>PORTLAND, Oregon. – Mohamed Osman Mohamud, 23,...</td>\n",
              "      <td>2014-10-01T00:00:00-04:00</td>\n",
              "      <td>[]</td>\n",
              "      <td>[National Security Division (NSD)]</td>\n",
              "    </tr>\n",
              "    <tr>\n",
              "      <th>1</th>\n",
              "      <td>12-919</td>\n",
              "      <td>$1 Million in Restitution Payments Announced t...</td>\n",
              "      <td>WASHINGTON – North Carolina’s Waccamaw River...</td>\n",
              "      <td>2012-07-25T00:00:00-04:00</td>\n",
              "      <td>[]</td>\n",
              "      <td>[Environment and Natural Resources Division]</td>\n",
              "    </tr>\n",
              "    <tr>\n",
              "      <th>2</th>\n",
              "      <td>11-1002</td>\n",
              "      <td>$1 Million Settlement Reached for Natural Reso...</td>\n",
              "      <td>BOSTON– A $1-million settlement has been...</td>\n",
              "      <td>2011-08-03T00:00:00-04:00</td>\n",
              "      <td>[]</td>\n",
              "      <td>[Environment and Natural Resources Division]</td>\n",
              "    </tr>\n",
              "    <tr>\n",
              "      <th>3</th>\n",
              "      <td>10-015</td>\n",
              "      <td>10 Las Vegas Men Indicted \\r\\nfor Falsifying V...</td>\n",
              "      <td>WASHINGTON—A federal grand jury in Las Vegas...</td>\n",
              "      <td>2010-01-08T00:00:00-05:00</td>\n",
              "      <td>[]</td>\n",
              "      <td>[Environment and Natural Resources Division]</td>\n",
              "    </tr>\n",
              "    <tr>\n",
              "      <th>4</th>\n",
              "      <td>18-898</td>\n",
              "      <td>$100 Million Settlement Will Speed Cleanup Wor...</td>\n",
              "      <td>The U.S. Department of Justice, the U.S. Envir...</td>\n",
              "      <td>2018-07-09T00:00:00-04:00</td>\n",
              "      <td>[Environment]</td>\n",
              "      <td>[Environment and Natural Resources Division]</td>\n",
              "    </tr>\n",
              "  </tbody>\n",
              "</table>\n",
              "</div>"
            ],
            "text/plain": [
              "        id                                              title  \\\n",
              "0     None       Convicted Bomb Plotter Sentenced to 30 Years   \n",
              "1  12-919   $1 Million in Restitution Payments Announced t...   \n",
              "2  11-1002  $1 Million Settlement Reached for Natural Reso...   \n",
              "3   10-015  10 Las Vegas Men Indicted \\r\\nfor Falsifying V...   \n",
              "4   18-898  $100 Million Settlement Will Speed Cleanup Wor...   \n",
              "\n",
              "                                            contents  \\\n",
              "0  PORTLAND, Oregon. – Mohamed Osman Mohamud, 23,...   \n",
              "1    WASHINGTON – North Carolina’s Waccamaw River...   \n",
              "2        BOSTON– A $1-million settlement has been...   \n",
              "3    WASHINGTON—A federal grand jury in Las Vegas...   \n",
              "4  The U.S. Department of Justice, the U.S. Envir...   \n",
              "\n",
              "                        date         topics  \\\n",
              "0  2014-10-01T00:00:00-04:00             []   \n",
              "1  2012-07-25T00:00:00-04:00             []   \n",
              "2  2011-08-03T00:00:00-04:00             []   \n",
              "3  2010-01-08T00:00:00-05:00             []   \n",
              "4  2018-07-09T00:00:00-04:00  [Environment]   \n",
              "\n",
              "                                     components  \n",
              "0            [National Security Division (NSD)]  \n",
              "1  [Environment and Natural Resources Division]  \n",
              "2  [Environment and Natural Resources Division]  \n",
              "3  [Environment and Natural Resources Division]  \n",
              "4  [Environment and Natural Resources Division]  "
            ]
          },
          "execution_count": 2,
          "metadata": {},
          "output_type": "execute_result"
        }
      ],
      "source": [
        "df = pd.read_json('Department of Justice 2009-2018 Press Releases.json', lines=True)\n",
        "df.head()"
      ]
    },
    {
      "cell_type": "code",
      "execution_count": null,
      "metadata": {
        "id": "-H8ciRBWqPh0",
        "outputId": "87f96bc1-03e5-4100-feb9-b5d511115920"
      },
      "outputs": [
        {
          "name": "stdout",
          "output_type": "stream",
          "text": [
            "<class 'pandas.core.frame.DataFrame'>\n",
            "RangeIndex: 13087 entries, 0 to 13086\n",
            "Data columns (total 6 columns):\n",
            " #   Column      Non-Null Count  Dtype \n",
            "---  ------      --------------  ----- \n",
            " 0   id          12810 non-null  object\n",
            " 1   title       13087 non-null  object\n",
            " 2   contents    13087 non-null  object\n",
            " 3   date        13087 non-null  object\n",
            " 4   topics      13087 non-null  object\n",
            " 5   components  13087 non-null  object\n",
            "dtypes: object(6)\n",
            "memory usage: 613.6+ KB\n"
          ]
        }
      ],
      "source": [
        "df.info()"
      ]
    },
    {
      "cell_type": "markdown",
      "metadata": {
        "id": "vfcyH3e5qPh0"
      },
      "source": [
        "# Data Pre-processing"
      ]
    },
    {
      "cell_type": "code",
      "execution_count": null,
      "metadata": {
        "id": "69-jVw-wqPh1"
      },
      "outputs": [],
      "source": [
        "def toLower(sentence):\n",
        "    return sentence.lower()\n",
        "\n",
        "def tokenizer(sentence):\n",
        "    tokens = list(set(nltk.word_tokenize(sentence)))\n",
        "    return tokens\n",
        "\n",
        "def stopwords_removal(tokens):\n",
        "    stop_words = nltk.corpus.stopwords.words('english')\n",
        "    stop_words.extend([',','?','\"\"',\"''\",'.','!', \"'\",'\"',\"'d\",\"'ll\",'[',']','--',':',';','///','@', '``',\n",
        "                       '#', '$', '%', '&', \"'re\", \"'s\", '(', ')', '*', '**', '**the', '-', '/', '//',\n",
        "                       '§', '§§','...','–', '—', '‘', '’', '“', '”', '•', '─',\"'m\", \"'ve\", '***'])\n",
        "    filtered_tokens = [i for i in tokens if not i in stop_words]\n",
        "    return filtered_tokens\n",
        "\n",
        "def stemming(tokens):\n",
        "    stemmer = nltk.stem.porter.PorterStemmer()\n",
        "    stemmed_tokens = [stemmer.stem(i) for i in tokens]\n",
        "    return stemmed_tokens\n",
        "\n",
        "def pre_process(text):\n",
        "    tokens = [word for sent in nltk.sent_tokenize(text) for word in nltk.word_tokenize(sent)]\n",
        "    tokens = stopwords_removal(tokens)\n",
        "    stems = stemming(tokens)\n",
        "    return stems"
      ]
    },
    {
      "cell_type": "markdown",
      "metadata": {
        "id": "NFYrvwzIqPh2"
      },
      "source": [
        "# Creating TF-IDF vector"
      ]
    },
    {
      "cell_type": "code",
      "execution_count": null,
      "metadata": {
        "id": "gni33nz-qPh2",
        "outputId": "56c6fb15-5cd9-4ef3-f293-4a607701d062"
      },
      "outputs": [
        {
          "name": "stdout",
          "output_type": "stream",
          "text": [
            "(1000, 1000)\n"
          ]
        }
      ],
      "source": [
        "#define vectorizer parameters\n",
        "tfidf_vectorizer = TfidfVectorizer(max_features=1000,min_df = 5,max_df = 0.95,tokenizer=pre_process)\n",
        "\n",
        "tfidf_matrix = tfidf_vectorizer.fit_transform(df.contents[:1000]) #fit the vectorizer to synopses\n",
        "\n",
        "print(tfidf_matrix.shape)"
      ]
    },
    {
      "cell_type": "code",
      "execution_count": null,
      "metadata": {
        "id": "63q8eHdVqPh3",
        "outputId": "e15c071a-635b-439e-d705-2efa74e51dfb"
      },
      "outputs": [
        {
          "name": "stdout",
          "output_type": "stream",
          "text": [
            "['iraq', 'isi', 'island', 'issu', 'item', 'j.', 'jackson', 'jame', 'jan.', 'januari', 'jason', 'jeff', 'jersey', 'john', 'johnson', 'join', 'joint', 'joseph', 'jr.', 'judg', 'judgment', 'juli', 'june', 'juri', 'jurisdict', 'justic', 'juvenil', 'k.', 'keep', 'kenneth', 'key', 'kickback', 'kill', 'know', 'known', 'l.', 'la', 'labor', 'land', 'lanni', 'larg', 'largest', 'last', 'later', 'launch', 'launder', 'law', 'lawsuit', 'lead', 'leader', 'leadership', 'learn', 'least', 'led', 'legal', 'legisl', 'lesli', 'level', 'life', 'like', 'limit', 'line', 'list', 'litig', 'live', 'lo', 'local', 'locat', 'long', 'look', 'loretta', 'loss', 'lynch', 'm.', 'made', 'mail', 'maintain', 'major', 'make', 'man', 'manag', 'mandatori', 'mani', 'manufactur', 'march', 'mari', 'mark', 'market', 'marshal', 'maryland', 'mass', 'massachusett', 'materi', 'matter', 'matthew', 'maximum', 'may', 'mean', 'media', 'medic']\n"
          ]
        }
      ],
      "source": [
        "terms = tfidf_vectorizer.get_feature_names()\n",
        "print(terms[500:600])"
      ]
    },
    {
      "cell_type": "markdown",
      "metadata": {
        "id": "UklixFPrqPh3"
      },
      "source": [
        "# Implementing SVD for dimension reduction"
      ]
    },
    {
      "cell_type": "code",
      "execution_count": null,
      "metadata": {
        "id": "7tTeOVmQqPh3",
        "outputId": "c4a09384-7100-4aad-edc8-67cb066c3dad"
      },
      "outputs": [
        {
          "name": "stdout",
          "output_type": "stream",
          "text": [
            "<class 'scipy.sparse.csr.csr_matrix'>\n"
          ]
        }
      ],
      "source": [
        "print(type(tfidf_matrix))"
      ]
    },
    {
      "cell_type": "code",
      "execution_count": null,
      "metadata": {
        "id": "_mssADU9qPh3",
        "outputId": "281de875-554e-4457-a46d-a431967756cd"
      },
      "outputs": [
        {
          "name": "stdout",
          "output_type": "stream",
          "text": [
            "[[0.         0.         0.         ... 0.         0.03361153 0.        ]\n",
            " [0.0575137  0.         0.         ... 0.         0.         0.        ]\n",
            " [0.         0.         0.03660433 ... 0.         0.         0.        ]\n",
            " ...\n",
            " [0.         0.         0.         ... 0.         0.         0.        ]\n",
            " [0.         0.         0.         ... 0.         0.         0.        ]\n",
            " [0.         0.         0.         ... 0.         0.         0.        ]]\n",
            "(1000, 1000)\n"
          ]
        }
      ],
      "source": [
        "A = tfidf_matrix[:]\n",
        "print(A.toarray())\n",
        "print(A.shape)"
      ]
    },
    {
      "cell_type": "code",
      "execution_count": null,
      "metadata": {
        "id": "BLAChtO_qPh4",
        "outputId": "e38eed8d-7735-4de2-ce6c-a13586128a49"
      },
      "outputs": [
        {
          "name": "stdout",
          "output_type": "stream",
          "text": [
            "[[-0.03207787 -0.00141767  0.03337429 ... -0.02455407 -0.02166643\n",
            "   0.02733934]\n",
            " [-0.00155395  0.02390624 -0.00220712 ...  0.01506205 -0.01897435\n",
            "   0.02452758]\n",
            " [ 0.0359787  -0.03712263 -0.08938989 ...  0.03070949 -0.02230946\n",
            "   0.02034995]\n",
            " ...\n",
            " [-0.01652088 -0.05701718 -0.01534954 ...  0.00170475 -0.03007071\n",
            "   0.02276049]\n",
            " [-0.0066499  -0.0219085  -0.00069967 ... -0.00393887 -0.02607862\n",
            "   0.02186175]\n",
            " [-0.00616041  0.02154413 -0.04202505 ...  0.00649058 -0.02787535\n",
            "   0.01996485]]\n",
            "\n",
            "[ 0.48165118  0.48274497  0.48561584  0.48706087  0.48733693  0.48875606\n",
            "  0.48959054  0.49158655  0.49423379  0.49520584  0.49565786  0.49598863\n",
            "  0.49794388  0.49892476  0.50112651  0.5025861   0.50381426  0.5069102\n",
            "  0.50783039  0.50852032  0.50920669  0.50972133  0.51165689  0.51426271\n",
            "  0.51490325  0.51669964  0.5171164   0.51868817  0.52145026  0.52229675\n",
            "  0.52396516  0.52440278  0.52636889  0.52766542  0.52903957  0.53009376\n",
            "  0.5323325   0.53338839  0.53418718  0.53522491  0.53784     0.53949026\n",
            "  0.54088224  0.54144003  0.54312098  0.54477661  0.5455387   0.54740222\n",
            "  0.54926463  0.55097889  0.552406    0.55317978  0.55412038  0.55561295\n",
            "  0.56134962  0.56208023  0.56252414  0.56484769  0.56582592  0.56658695\n",
            "  0.56983722  0.57021873  0.57158196  0.5722922   0.57317006  0.57592444\n",
            "  0.57708229  0.57890052  0.57984248  0.58150575  0.58311692  0.58332705\n",
            "  0.58623881  0.58657924  0.5880643   0.59081485  0.59148667  0.59472754\n",
            "  0.5953668   0.59590723  0.59761645  0.60066876  0.60148274  0.6024542\n",
            "  0.60430881  0.60512307  0.60782385  0.61089294  0.61156494  0.61496028\n",
            "  0.61591614  0.61622749  0.6173197   0.61868663  0.61901587  0.62041764\n",
            "  0.62333311  0.62488472  0.62654788  0.62720724  0.62851861  0.6287372\n",
            "  0.63047632  0.63228585  0.63423587  0.63679996  0.63881987  0.64002662\n",
            "  0.64158309  0.64276694  0.64394887  0.6462834   0.64830617  0.65079809\n",
            "  0.65191392  0.65302542  0.65322053  0.65719911  0.65939206  0.66125145\n",
            "  0.6615163   0.6642555   0.66462816  0.66626121  0.66765628  0.67013725\n",
            "  0.67176177  0.67232048  0.67444897  0.67877566  0.68128893  0.68180812\n",
            "  0.68232511  0.6844647   0.68791163  0.68929011  0.69032213  0.69228189\n",
            "  0.69332598  0.69531692  0.69579508  0.69905152  0.70101638  0.70305062\n",
            "  0.70464597  0.70662749  0.70765732  0.71097737  0.71253293  0.71642223\n",
            "  0.71731305  0.71905894  0.71936393  0.720647    0.72138802  0.72554834\n",
            "  0.72752632  0.7290099   0.72907468  0.73008458  0.73210316  0.73552513\n",
            "  0.73758837  0.73962122  0.74133433  0.74226349  0.74507575  0.74679868\n",
            "  0.74883554  0.75170538  0.75365217  0.75494297  0.75573657  0.7577757\n",
            "  0.76095984  0.76234025  0.76355249  0.76451716  0.76632647  0.76839748\n",
            "  0.76952223  0.77140675  0.77242006  0.775303    0.77823249  0.77928801\n",
            "  0.78174978  0.78462     0.78595734  0.78750991  0.7880583   0.79074492\n",
            "  0.79258175  0.79537113  0.79804324  0.79950433  0.80213661  0.8044194\n",
            "  0.80561013  0.808275    0.80938347  0.81349316  0.81598444  0.8176934\n",
            "  0.81881428  0.82022473  0.82426227  0.82628571  0.82843611  0.82900305\n",
            "  0.83201276  0.8339411   0.83605864  0.83761601  0.83995682  0.84145328\n",
            "  0.84464561  0.84641225  0.84968235  0.85090337  0.85428158  0.85490626\n",
            "  0.8571931   0.85729262  0.86042788  0.86156797  0.86402986  0.86736268\n",
            "  0.86946261  0.87099644  0.87196606  0.87547121  0.87861089  0.88119136\n",
            "  0.88209287  0.88225857  0.88607917  0.89013693  0.89201863  0.89383972\n",
            "  0.89578681  0.89637702  0.89948883  0.90258788  0.90604868  0.90694137\n",
            "  0.90831217  0.91232323  0.91459172  0.91762214  0.92051132  0.92159526\n",
            "  0.92447621  0.92521121  0.92756791  0.93003812  0.93302261  0.93504958\n",
            "  0.93757885  0.94061185  0.94190939  0.94707953  0.94816113  0.94974445\n",
            "  0.95311454  0.95525238  0.95674398  0.95942129  0.96136692  0.96456329\n",
            "  0.96942982  0.97068233  0.97347814  0.97353923  0.97817015  0.98027776\n",
            "  0.98243807  0.98492506  0.98854764  0.98981611  0.99271054  0.99320179\n",
            "  0.99821168  0.99888212  1.00273959  1.00547903  1.00736391  1.00965547\n",
            "  1.01262151  1.0131181   1.01845112  1.02007727  1.022247    1.02589266\n",
            "  1.02912416  1.03170404  1.03312152  1.03458711  1.03789166  1.03888876\n",
            "  1.0420702   1.04495742  1.04781973  1.05068441  1.05501935  1.0596758\n",
            "  1.06232591  1.06512909  1.06693493  1.07124443  1.0719693   1.07731284\n",
            "  1.0780971   1.08704949  1.08977364  1.09093648  1.09556868  1.09812241\n",
            "  1.09962065  1.10716329  1.11071739  1.11469681  1.1162688   1.12009452\n",
            "  1.1222952   1.12281394  1.12691263  1.1329126   1.13642859  1.13699133\n",
            "  1.13783756  1.14288333  1.14792932  1.14904518  1.15312945  1.15631882\n",
            "  1.15966543  1.16211207  1.16451011  1.16688378  1.17272945  1.17580376\n",
            "  1.18160606  1.18442039  1.18662338  1.18961357  1.19266826  1.19648722\n",
            "  1.20017066  1.20180928  1.20468375  1.20713267  1.21304653  1.2167264\n",
            "  1.22101516  1.22538671  1.22661961  1.23374922  1.238775    1.24042964\n",
            "  1.24448665  1.24599103  1.24686678  1.25236507  1.25840341  1.2607972\n",
            "  1.26437915  1.27106274  1.27348788  1.28281742  1.29119716  1.29333994\n",
            "  1.29579065  1.29788234  1.30271927  1.30857664  1.31352634  1.31942417\n",
            "  1.32203175  1.32967973  1.33730682  1.34104635  1.34417063  1.34989927\n",
            "  1.35511745  1.35940322  1.36815624  1.36980249  1.37771298  1.38571358\n",
            "  1.38682034  1.39707761  1.39793693  1.40323131  1.41122588  1.41385541\n",
            "  1.42040987  1.42717551  1.4326213   1.43522425  1.44069184  1.44696705\n",
            "  1.45072719  1.46152978  1.46493053  1.4668182   1.47883653  1.48772798\n",
            "  1.49058799  1.49635292  1.50105691  1.51125883  1.5188731   1.52071866\n",
            "  1.52829395  1.53264105  1.53501277  1.54793491  1.54919804  1.54992132\n",
            "  1.55642611  1.56898355  1.57012297  1.58280285  1.59365855  1.59900244\n",
            "  1.60621616  1.61276254  1.62360397  1.62890324  1.63580692  1.64129329\n",
            "  1.6495592   1.66809488  1.67220101  1.68291936  1.69144868  1.70082043\n",
            "  1.7046362   1.71082882  1.71840169  1.72649695  1.7345882   1.75208464\n",
            "  1.7689825   1.77684386  1.79007718  1.79983295  1.81386756  1.82118749\n",
            "  1.84046294  1.85888654  1.87204594  1.87997867  1.89039357  1.90754657\n",
            "  1.92993476  1.93685271  1.96833608  1.98966014  1.9972366   2.00867235\n",
            "  2.03865487  2.0506862   2.07530565  2.1048621   2.12224591  2.1300249\n",
            "  2.16366178  2.20904883  2.22025721  2.24103513  2.2883682   2.30276167\n",
            "  2.32840961  2.39240265  2.44838767  2.47232698  2.49946737  2.51519747\n",
            "  2.55688866  2.60161644  2.63253547  2.72576619  2.78337703  2.881135\n",
            "  3.02620767  3.04950949  3.15467863  3.24651782  3.33689703  3.4152371\n",
            "  3.43998087  3.83519091  3.93881678  4.0837089   4.66835796  4.83790459\n",
            "  7.42898238 10.97453929]\n",
            "\n",
            "[[-0.01354446 -0.0531262  -0.01276532 ...  0.00035431 -0.02278198\n",
            "   0.01157294]\n",
            " [-0.04557643  0.01547916 -0.03276377 ...  0.03966872  0.05900017\n",
            "  -0.02791522]\n",
            " [ 0.01848774  0.00511309 -0.02019421 ...  0.00580663 -0.0104821\n",
            "  -0.00871994]\n",
            " ...\n",
            " [-0.00272189 -0.01442881  0.00104487 ... -0.05155631  0.00297452\n",
            "   0.01911229]\n",
            " [-0.00530958  0.01315707  0.00044538 ... -0.04943664 -0.00034897\n",
            "  -0.0191604 ]\n",
            " [ 0.01515437  0.02486158  0.00809742 ...  0.04892247  0.0148033\n",
            "   0.00997281]]\n"
          ]
        }
      ],
      "source": [
        "U, s, VT = svds(A,k=500)\n",
        "print(U)\n",
        "print()\n",
        "print(s)\n",
        "print()\n",
        "print(VT)"
      ]
    },
    {
      "cell_type": "code",
      "execution_count": null,
      "metadata": {
        "id": "Oe4SekyoqPh4",
        "outputId": "7e829f98-b162-43be-a0fb-9e1d19f9ad18"
      },
      "outputs": [
        {
          "name": "stdout",
          "output_type": "stream",
          "text": [
            "(1000, 500) (500,) (500, 1000)\n"
          ]
        }
      ],
      "source": [
        "print(U.shape,s.shape,VT.shape)"
      ]
    },
    {
      "cell_type": "code",
      "execution_count": null,
      "metadata": {
        "id": "bHDHAPcQqPh4",
        "outputId": "a209e518-218d-4426-e5d6-e57713b8ec1a"
      },
      "outputs": [
        {
          "name": "stdout",
          "output_type": "stream",
          "text": [
            "[[ 0.30003669 -0.16095952  0.11879024 ...  0.03291008  0.01354934\n",
            "  -0.01580087]\n",
            " [ 0.26917892 -0.14096012 -0.07286874 ... -0.00452893 -0.00675109\n",
            "  -0.00701817]\n",
            " [ 0.22333133 -0.16573662 -0.14856959 ... -0.00443479 -0.01413006\n",
            "   0.0137724 ]\n",
            " ...\n",
            " [ 0.24978592 -0.22339477 -0.0082474  ...  0.00672511 -0.00157481\n",
            "  -0.0123192 ]\n",
            " [ 0.23992262 -0.19373762  0.01905586 ... -0.01274408 -0.03863373\n",
            "  -0.00073805]\n",
            " [ 0.219105   -0.20708548 -0.03140082 ...  0.00077568 -0.01969546\n",
            "   0.0059317 ]]\n"
          ]
        }
      ],
      "source": [
        "svd = TruncatedSVD(n_components=500)\n",
        "svd.fit(A)\n",
        "result = svd.transform(A)\n",
        "print(result)"
      ]
    },
    {
      "cell_type": "code",
      "execution_count": null,
      "metadata": {
        "id": "fYEdcIZ7qPh5",
        "outputId": "6eefcce9-128c-408c-86d4-b4599667c328"
      },
      "outputs": [
        {
          "name": "stdout",
          "output_type": "stream",
          "text": [
            "(1000, 500)\n"
          ]
        }
      ],
      "source": [
        "print(result.shape)"
      ]
    },
    {
      "cell_type": "markdown",
      "metadata": {
        "id": "aE8OM61SqPh5"
      },
      "source": [
        "# Concept Space"
      ]
    },
    {
      "cell_type": "code",
      "execution_count": null,
      "metadata": {
        "id": "2Jr4b0M4qPh5",
        "outputId": "37b975f6-a08a-4f3d-8f37-b1fd1f34ea9c"
      },
      "outputs": [
        {
          "name": "stdout",
          "output_type": "stream",
          "text": [
            "(1000, 5)\n",
            "(5, 1000)\n",
            "(5, 5)\n"
          ]
        }
      ],
      "source": [
        "# Concept space\n",
        "k=5\n",
        "\n",
        "U_k = U[:,:k]\n",
        "V_k = VT[:k,:]\n",
        "result_k = result[:k,:k]\n",
        "\n",
        "print(U_k.shape)\n",
        "print(V_k.shape)\n",
        "print(result_k.shape)"
      ]
    },
    {
      "cell_type": "code",
      "execution_count": null,
      "metadata": {
        "id": "ECQAYdmUqPh5",
        "outputId": "c4a2d749-efb0-4303-931d-582ccefec485"
      },
      "outputs": [
        {
          "name": "stdout",
          "output_type": "stream",
          "text": [
            "(1, 1000)\n"
          ]
        }
      ],
      "source": [
        "query = ['Department of Justice']\n",
        "query_matrix = tfidf_vectorizer.transform(query).toarray()\n",
        "print(query_matrix.shape)\n",
        "# print(query_matrix)"
      ]
    },
    {
      "cell_type": "code",
      "execution_count": null,
      "metadata": {
        "id": "m3e-gYCaqPh6",
        "outputId": "cd503521-e6fe-4a29-a309-ca8f3ee3a674"
      },
      "outputs": [
        {
          "name": "stdout",
          "output_type": "stream",
          "text": [
            "(5, 5)\n",
            "(1, 5)\n"
          ]
        }
      ],
      "source": [
        "inverse = np.linalg.inv(result_k)\n",
        "print(inverse.shape)\n",
        "q_t = query_matrix[:]\n",
        "q_k = np.dot(np.dot(q_t,U_k),inverse)\n",
        "print(q_k.shape)"
      ]
    },
    {
      "cell_type": "code",
      "execution_count": null,
      "metadata": {
        "id": "vv6k2I3yqPh6",
        "outputId": "cba648a9-fae1-4c74-b11e-b18c5285490b"
      },
      "outputs": [
        {
          "name": "stdout",
          "output_type": "stream",
          "text": [
            "(1000, 5)\n"
          ]
        }
      ],
      "source": [
        "V_k_final = np.transpose(V_k)\n",
        "print(V_k_final.shape)"
      ]
    },
    {
      "cell_type": "code",
      "execution_count": null,
      "metadata": {
        "id": "QVeFAtc_qPh6"
      },
      "outputs": [],
      "source": [
        "similarity = []\n",
        "for x in range(1000):\n",
        "    similarity.extend(cs([V_k_final[x]],q_k))"
      ]
    },
    {
      "cell_type": "code",
      "execution_count": null,
      "metadata": {
        "id": "2B7e5sVFqPh6",
        "outputId": "fa773233-0103-44f0-b35b-1e85bc45d5ed"
      },
      "outputs": [
        {
          "name": "stdout",
          "output_type": "stream",
          "text": [
            "Highest similarity [0.9748728]\n",
            "Lowest similarity [-0.99144246]\n"
          ]
        }
      ],
      "source": [
        "similarity.sort()\n",
        "print('Highest similarity',similarity[-1])\n",
        "print('Lowest similarity',similarity[0])"
      ]
    },
    {
      "cell_type": "markdown",
      "metadata": {
        "id": "-WfWal98qPh7"
      },
      "source": [
        "# Learning Outcomes"
      ]
    },
    {
      "cell_type": "markdown",
      "metadata": {
        "id": "71j95hLIqPh7"
      },
      "source": [
        "    1. In this practical, we learned how we can use Dimensality reduction using SVD\n",
        "    2. We learned to turn matrix into lower dimension using soncept space\n",
        "    3. Get to know that TF-IDF gives sparse metrix\n",
        "    4. Get to know the working of SVD\n",
        "    5. Using dimnesionality reduction techniques like PCA, SVD we can increase performance of our IR system\n",
        "    6. Through SVD performnce based on retrieval time is increased by nearly 4 times compared to Tf-IDF matrix."
      ]
    },
    {
      "cell_type": "code",
      "execution_count": null,
      "metadata": {
        "id": "CU1ExkIiqPh7"
      },
      "outputs": [],
      "source": []
    }
  ],
  "metadata": {
    "kernelspec": {
      "display_name": "Python 3",
      "language": "python",
      "name": "python3"
    },
    "language_info": {
      "codemirror_mode": {
        "name": "ipython",
        "version": 3
      },
      "file_extension": ".py",
      "mimetype": "text/x-python",
      "name": "python",
      "nbconvert_exporter": "python",
      "pygments_lexer": "ipython3",
      "version": "3.7.6"
    },
    "colab": {
      "provenance": []
    }
  },
  "nbformat": 4,
  "nbformat_minor": 0
}