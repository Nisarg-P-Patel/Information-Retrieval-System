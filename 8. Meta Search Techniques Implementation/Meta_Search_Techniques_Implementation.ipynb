{
  "cells": [
    {
      "cell_type": "markdown",
      "metadata": {
        "id": "VwjovdTaqVPB"
      },
      "source": [
        "# AIM :- Implement meta search techniques on given data."
      ]
    },
    {
      "cell_type": "markdown",
      "metadata": {
        "id": "DCtDxW7dqVPB"
      },
      "source": [
        "# Objective"
      ]
    },
    {
      "cell_type": "markdown",
      "metadata": {
        "id": "VjJ9bvlFqVPC"
      },
      "source": [
        "Given a set of rankings by different evaluators, perform following meta search techniques and determine the final ranking.\n",
        "    1. Borda\n",
        "    2. Condorcet\n",
        "    3. Reciprocal"
      ]
    },
    {
      "cell_type": "markdown",
      "metadata": {
        "id": "Q4I0BAAaqVPD"
      },
      "source": [
        "# Asking number of search engine"
      ]
    },
    {
      "cell_type": "code",
      "execution_count": null,
      "metadata": {
        "id": "e53c3aUPqVPE",
        "outputId": "a425758d-12af-4194-83ce-e35f6710da1f"
      },
      "outputs": [
        {
          "name": "stdout",
          "output_type": "stream",
          "text": [
            "Enter number of system\n",
            "5\n"
          ]
        }
      ],
      "source": [
        "#taking number of system\n",
        "\n",
        "system = int(input(\"Enter number of system\\n\"))"
      ]
    },
    {
      "cell_type": "markdown",
      "metadata": {
        "id": "xedb0mabqVPG"
      },
      "source": [
        "# Asking number of maximum pages"
      ]
    },
    {
      "cell_type": "code",
      "execution_count": null,
      "metadata": {
        "id": "4jukIKSTqVPG",
        "outputId": "f18d25e6-230b-46c3-bb85-3fbc8e54d4c0"
      },
      "outputs": [
        {
          "name": "stdout",
          "output_type": "stream",
          "text": [
            "Enter number of pages\n",
            "4\n"
          ]
        }
      ],
      "source": [
        "#taking number of pages\n",
        "\n",
        "pages = int(input(\"Enter number of pages\\n\"))"
      ]
    },
    {
      "cell_type": "markdown",
      "metadata": {
        "id": "vrNpyJnxqVPH"
      },
      "source": [
        "# Taking input from user"
      ]
    },
    {
      "cell_type": "code",
      "execution_count": null,
      "metadata": {
        "id": "LP56XGHgqVPI",
        "outputId": "d8ff73f0-bbde-43c1-cfbc-ebb8d0de5b0b"
      },
      "outputs": [
        {
          "name": "stdout",
          "output_type": "stream",
          "text": [
            "Enter the page order saperated by ','\n",
            "Enter the value of system 1\n",
            "a,b,c,d\n",
            "Enter the value of system 2\n",
            "b,a,d,c\n",
            "Enter the value of system 3\n",
            "c,b,a,d\n",
            "Enter the value of system 4\n",
            "c,b,d\n",
            "Enter the value of system 5\n",
            "c,b\n"
          ]
        }
      ],
      "source": [
        "#taking input from the user\n",
        "\n",
        "print(\"Enter the page order saperated by ','\")\n",
        "final_data = []\n",
        "for x in range(system):\n",
        "    temp = (input(\"Enter the value of system \"+str(x+1)+\"\\n\").lower()).split(\",\")\n",
        "    final_data.append(temp)"
      ]
    },
    {
      "cell_type": "code",
      "execution_count": null,
      "metadata": {
        "id": "FYT96dnCqVPI",
        "outputId": "1bb6b9ea-30bd-46c6-ed29-320c91e5b0ac"
      },
      "outputs": [
        {
          "data": {
            "text/plain": [
              "[['a', 'b', 'c', 'd'],\n",
              " ['b', 'a', 'd', 'c'],\n",
              " ['c', 'b', 'a', 'd'],\n",
              " ['c', 'b', 'd'],\n",
              " ['c', 'b']]"
            ]
          },
          "execution_count": 4,
          "metadata": {},
          "output_type": "execute_result"
        }
      ],
      "source": [
        "#printing fetched data\n",
        "\n",
        "final_data"
      ]
    },
    {
      "cell_type": "markdown",
      "metadata": {
        "id": "6tK_NckrqVPJ"
      },
      "source": [
        "# Implementing Borda Search Engine"
      ]
    },
    {
      "cell_type": "code",
      "execution_count": null,
      "metadata": {
        "id": "Ve0Pk1BUqVPJ",
        "outputId": "00db32f0-6dc7-4f21-a7a3-e73f869bf510"
      },
      "outputs": [
        {
          "name": "stdout",
          "output_type": "stream",
          "text": [
            "Final ranking is:\n",
            "['b', 'c', 'a', 'd']\n"
          ]
        }
      ],
      "source": [
        "#applying Borda Method\n",
        "\n",
        "not_fetched = []\n",
        "\n",
        "score = [0.0 for x in range(pages)]\n",
        "# print(score)\n",
        "for x in range(len(final_data)):\n",
        "    if len(final_data[x]) != pages:\n",
        "        extra = pages-len(final_data[x])\n",
        "        extra = float(extra*(extra+1)/2)\n",
        "        temp_1 = [chr(x) for x in range(97,97+pages)]\n",
        "        for y in range(len(final_data[x])):\n",
        "            score[ord(final_data[x][y])-97] += pages-y\n",
        "            temp_1.remove(final_data[x][y])\n",
        "        not_fetched.append(temp_1)\n",
        "        for y in range(len(temp_1)):\n",
        "            score[ord(temp_1[y])-97] += float(extra/len(temp_1))\n",
        "    else:\n",
        "        for y in range(len(final_data[x])):\n",
        "            score[ord(final_data[x][y])-97] += pages-y\n",
        "# print(score)\n",
        "temp = score[:]\n",
        "temp.sort()\n",
        "final = [chr(score.index(x)+97) for x in temp[::-1]]\n",
        "print('Final ranking is:')\n",
        "print(final)"
      ]
    },
    {
      "cell_type": "markdown",
      "metadata": {
        "id": "HGigMM3iqVPK"
      },
      "source": [
        "# Implementing Condorcet Search Engine"
      ]
    },
    {
      "cell_type": "code",
      "execution_count": null,
      "metadata": {
        "id": "uJndc_N5qVPK",
        "outputId": "563f8e8d-1e3f-4cf7-d260-cc1f9a01987c"
      },
      "outputs": [
        {
          "name": "stdout",
          "output_type": "stream",
          "text": [
            "Final ranking is:\n",
            "['c', 'b', 'a', 'd']\n"
          ]
        }
      ],
      "source": [
        "#applying Condorcet Ranking\n",
        "\n",
        "score = []\n",
        "for x in range(pages):\n",
        "    temp = []\n",
        "    for y in range(pages):\n",
        "        temp.append([0,0,0])\n",
        "    score.append(temp)\n",
        "# print(score)\n",
        "for x in range(len(final_data)):\n",
        "    for y in range(len(final_data[x])):\n",
        "        for z in range(len(final_data[x])):\n",
        "            if y<z:\n",
        "                score[ord(final_data[x][y])-97][ord(final_data[x][z])-97][0] +=1\n",
        "            elif y>z:\n",
        "                score[ord(final_data[x][y])-97][ord(final_data[x][z])-97][1] +=1\n",
        "\n",
        "for x in range(len(not_fetched)):\n",
        "    temp_1 = [chr(x) for x in range(97,97+pages)]\n",
        "    for y in range(len(not_fetched[x])):\n",
        "        temp_1.remove(not_fetched[x][y])\n",
        "    for z in range(len(temp_1)):\n",
        "        for w in range(len(not_fetched[x])):\n",
        "            score[ord(temp_1[z])-97][ord(not_fetched[x][w])-97][0] += 1\n",
        "            score[ord(not_fetched[x][w])-97][ord(temp_1[z])-97][1] += 1\n",
        "    for y in range(len(temp_1)):\n",
        "        for z in range(y,len(temp_1)):\n",
        "            score[ord(temp_1[y])-97][ord(temp_1[z])-97][2] +=1\n",
        "\n",
        "final_score = [[0,0,0] for x in range(pages)]\n",
        "for x in range(len(score)):\n",
        "    for y in range(len(score[x])):\n",
        "        if score[x][y][0]>score[x][y][1]:\n",
        "            final_score[x][0] += 1\n",
        "        elif score[x][y][0]<score[x][y][1]:\n",
        "            final_score[x][1] += 1\n",
        "        elif x==y:\n",
        "            continue\n",
        "        else:\n",
        "            final_score[x][2] += 1\n",
        "temp = final_score[:]\n",
        "temp.sort()\n",
        "final = [chr(final_score.index(x)+97) for x in temp[::-1]]\n",
        "print('Final ranking is:')\n",
        "print(final)"
      ]
    },
    {
      "cell_type": "markdown",
      "metadata": {
        "id": "cjzjvH9fqVPL"
      },
      "source": [
        "# Implementing Reciprocal Search Engine"
      ]
    },
    {
      "cell_type": "code",
      "execution_count": null,
      "metadata": {
        "id": "BUf7sVKBqVPL",
        "outputId": "7bb5a754-41c4-4a50-a72c-803fd72e2952"
      },
      "outputs": [
        {
          "name": "stdout",
          "output_type": "stream",
          "text": [
            "Final ranking is:\n",
            "['c', 'b', 'a', 'd']\n"
          ]
        }
      ],
      "source": [
        "# applying Reciprocal Ranking\n",
        "\n",
        "score = [0.0 for x in range(pages)]\n",
        "for x in range(len(final_data)):\n",
        "    for y in range(len(final_data[x])):\n",
        "        score[ord(final_data[x][y])-97] += (1/(y+1))\n",
        "# print(score)\n",
        "temp = score[:]\n",
        "temp.sort()\n",
        "final = [chr(score.index(x)+97) for x in temp[::-1]]\n",
        "print('Final ranking is:')\n",
        "print(final)"
      ]
    },
    {
      "cell_type": "markdown",
      "metadata": {
        "id": "udSnna-GqVPM"
      },
      "source": [
        "# Learning Outcomes"
      ]
    },
    {
      "cell_type": "markdown",
      "metadata": {
        "id": "B-4_3N1TqVPM"
      },
      "source": [
        "1. I got to learn how meta search engine works.\n",
        "2. I got to learn how different algorithms can be applied to the same.\n",
        "3. I got to learn process of each and every search engine and it's procedures."
      ]
    }
  ],
  "metadata": {
    "kernelspec": {
      "display_name": "Python 3",
      "language": "python",
      "name": "python3"
    },
    "language_info": {
      "codemirror_mode": {
        "name": "ipython",
        "version": 3
      },
      "file_extension": ".py",
      "mimetype": "text/x-python",
      "name": "python",
      "nbconvert_exporter": "python",
      "pygments_lexer": "ipython3",
      "version": "3.7.6"
    },
    "colab": {
      "provenance": []
    }
  },
  "nbformat": 4,
  "nbformat_minor": 0
}