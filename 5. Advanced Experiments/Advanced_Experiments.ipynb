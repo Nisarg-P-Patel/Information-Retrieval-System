{
  "cells": [
    {
      "cell_type": "markdown",
      "metadata": {
        "id": "9_K3qivHqOHd"
      },
      "source": [
        "# AIM :- Exploring Virtual Labs for advanced experiments."
      ]
    },
    {
      "cell_type": "markdown",
      "metadata": {
        "id": "dYECZAmQqOHd"
      },
      "source": [
        "    1.Check this link and complete Practical 4 (mandatory) and any other practical from that list.\n",
        "    2.Prepare a presentation of maximum 10 slides based on your understanding on these two practicals.\n",
        "    3.You may explore other resources from Internet if needed.\n",
        "    4.Everyone will be individually evaluated based on one to one interaction.\n"
      ]
    },
    {
      "cell_type": "markdown",
      "metadata": {
        "id": "1mDY_vYmqOHe"
      },
      "source": [
        "# Packages Used"
      ]
    },
    {
      "cell_type": "code",
      "execution_count": null,
      "metadata": {
        "id": "qdIqxHevqOHe"
      },
      "outputs": [],
      "source": [
        "import pandas as pd\n",
        "import nltk\n",
        "from sklearn.feature_extraction.text import CountVectorizer, TfidfVectorizer"
      ]
    },
    {
      "cell_type": "markdown",
      "metadata": {
        "id": "XnirO3lfqOHg"
      },
      "source": [
        "# Fetching data in document"
      ]
    },
    {
      "cell_type": "code",
      "execution_count": null,
      "metadata": {
        "id": "EVCLRcmaqOHg"
      },
      "outputs": [],
      "source": [
        "document = [\"One Two Six Four Three EOS EOS Two Six One Five Six One EOS Three Six Four Five Six EOS Six Five Four Three Six Two EOS Five Two Three Two Three EOS EOS Two Five Three One Two One EOS\"]\n",
        "\n",
        "# document = [ 'You book a flight eos I read a book eos You read eos']"
      ]
    },
    {
      "cell_type": "markdown",
      "metadata": {
        "id": "kV7kLOIAqOHg"
      },
      "source": [
        "# Pre-Processing of raw data"
      ]
    },
    {
      "cell_type": "code",
      "execution_count": null,
      "metadata": {
        "id": "HvgH0ZIJqOHh"
      },
      "outputs": [],
      "source": [
        "def toLower(sentence):\n",
        "    return sentence.lower()\n",
        "\n",
        "def tokenizer(sentence):\n",
        "    tokens = list(set(nltk.word_tokenize(sentence)))\n",
        "    return tokens\n",
        "\n",
        "def stopwords_removal(tokens):\n",
        "    stop_words = nltk.corpus.stopwords.words('english')\n",
        "    stop_words.extend([',','?','\"\"',\"''\",'.','!', \"'\",'\"',\"'d\",\"'ll\",'[',']','--',':',';','///'])\n",
        "    filtered_tokens = [i for i in tokens if not i in stop_words]\n",
        "    return filtered_tokens\n",
        "\n",
        "def stemming(tokens):\n",
        "    stemmer = nltk.stem.porter.PorterStemmer()\n",
        "    stemmed_tokens = [stemmer.stem(i) for i in tokens]\n",
        "    return stemmed_tokens\n",
        "\n",
        "def pre_process(text):\n",
        "    tokens = [word for sent in nltk.sent_tokenize(text) for word in nltk.word_tokenize(sent)]\n",
        "#     tokens = stopwords_removal(tokens)\n",
        "    stems = stemming(tokens)\n",
        "    return stems"
      ]
    },
    {
      "cell_type": "markdown",
      "metadata": {
        "id": "hI3k3OPIqOHh"
      },
      "source": [
        "# Finding bigram probablity of the document without smooting"
      ]
    },
    {
      "cell_type": "code",
      "execution_count": null,
      "metadata": {
        "id": "PqVoWyx0qOHh",
        "outputId": "fdc90c45-d1a4-4175-c32d-9649f9d66843"
      },
      "outputs": [
        {
          "name": "stdout",
          "output_type": "stream",
          "text": [
            "(1, 28)\n"
          ]
        }
      ],
      "source": [
        "#define vectorizer parameters\n",
        "tfidf_vectorizer = TfidfVectorizer(\n",
        "    use_idf=True,tokenizer=pre_process,\n",
        "    smooth_idf=False,\n",
        "    ngram_range=(2,2))\n",
        "\n",
        "tfidf_matrix = tfidf_vectorizer.fit_transform(document) #fit the vectorizer to synopses\n",
        "\n",
        "print(tfidf_matrix.shape)"
      ]
    },
    {
      "cell_type": "code",
      "execution_count": null,
      "metadata": {
        "id": "utiNDvRuqOHi",
        "outputId": "749267fe-b7bf-486b-94f8-8990b2425088"
      },
      "outputs": [
        {
          "data": {
            "text/html": [
              "<div>\n",
              "<style scoped>\n",
              "    .dataframe tbody tr th:only-of-type {\n",
              "        vertical-align: middle;\n",
              "    }\n",
              "\n",
              "    .dataframe tbody tr th {\n",
              "        vertical-align: top;\n",
              "    }\n",
              "\n",
              "    .dataframe thead th {\n",
              "        text-align: right;\n",
              "    }\n",
              "</style>\n",
              "<table border=\"1\" class=\"dataframe\">\n",
              "  <thead>\n",
              "    <tr style=\"text-align: right;\">\n",
              "      <th></th>\n",
              "      <th>eo eo</th>\n",
              "      <th>eo five</th>\n",
              "      <th>eo six</th>\n",
              "      <th>eo three</th>\n",
              "      <th>eo two</th>\n",
              "      <th>five four</th>\n",
              "      <th>five six</th>\n",
              "      <th>five three</th>\n",
              "      <th>five two</th>\n",
              "      <th>four five</th>\n",
              "      <th>...</th>\n",
              "      <th>six two</th>\n",
              "      <th>three eo</th>\n",
              "      <th>three one</th>\n",
              "      <th>three six</th>\n",
              "      <th>three two</th>\n",
              "      <th>two eo</th>\n",
              "      <th>two five</th>\n",
              "      <th>two one</th>\n",
              "      <th>two six</th>\n",
              "      <th>two three</th>\n",
              "    </tr>\n",
              "  </thead>\n",
              "  <tbody>\n",
              "    <tr>\n",
              "      <th>0</th>\n",
              "      <td>0.25</td>\n",
              "      <td>0.125</td>\n",
              "      <td>0.125</td>\n",
              "      <td>0.125</td>\n",
              "      <td>0.25</td>\n",
              "      <td>0.125</td>\n",
              "      <td>0.25</td>\n",
              "      <td>0.125</td>\n",
              "      <td>0.125</td>\n",
              "      <td>0.125</td>\n",
              "      <td>...</td>\n",
              "      <td>0.125</td>\n",
              "      <td>0.25</td>\n",
              "      <td>0.125</td>\n",
              "      <td>0.25</td>\n",
              "      <td>0.125</td>\n",
              "      <td>0.125</td>\n",
              "      <td>0.125</td>\n",
              "      <td>0.125</td>\n",
              "      <td>0.25</td>\n",
              "      <td>0.25</td>\n",
              "    </tr>\n",
              "  </tbody>\n",
              "</table>\n",
              "<p>1 rows × 28 columns</p>\n",
              "</div>"
            ],
            "text/plain": [
              "   eo eo  eo five  eo six  eo three  eo two  five four  five six  five three  \\\n",
              "0   0.25    0.125   0.125     0.125    0.25      0.125      0.25       0.125   \n",
              "\n",
              "   five two  four five  ...  six two  three eo  three one  three six  \\\n",
              "0     0.125      0.125  ...    0.125      0.25      0.125       0.25   \n",
              "\n",
              "   three two  two eo  two five  two one  two six  two three  \n",
              "0      0.125   0.125     0.125    0.125     0.25       0.25  \n",
              "\n",
              "[1 rows x 28 columns]"
            ]
          },
          "execution_count": 5,
          "metadata": {},
          "output_type": "execute_result"
        }
      ],
      "source": [
        "df = pd.DataFrame(tfidf_matrix.toarray(),columns=tfidf_vectorizer.get_feature_names())\n",
        "df"
      ]
    },
    {
      "cell_type": "markdown",
      "metadata": {
        "id": "5EuX8dSoqOHj"
      },
      "source": [
        "# Defining function for counting probablity of input sentence according to corpus"
      ]
    },
    {
      "cell_type": "code",
      "execution_count": null,
      "metadata": {
        "id": "fzb0hjC2qOHj"
      },
      "outputs": [],
      "source": [
        "def prob():\n",
        "    input_sequence = input()\n",
        "    input_sequence = pre_process(input_sequence)\n",
        "    print(input_sequence)\n",
        "    prob = 1\n",
        "    for x in range(len(input_sequence)-1):\n",
        "        temp=\"\".join(input_sequence[x])+\" \"+\"\".join(input_sequence[x+1])\n",
        "        if temp in tfidf_vectorizer.get_feature_names():\n",
        "            prob*=df.loc[:,temp]\n",
        "        else:\n",
        "            prob=0\n",
        "            print(temp,' is not a feature of vocab sequence.')\n",
        "            break\n",
        "    print(float(prob))"
      ]
    },
    {
      "cell_type": "code",
      "execution_count": null,
      "metadata": {
        "id": "rdgseIj3qOHj",
        "outputId": "7b9069e7-e486-4afa-c0df-c9e9fd6af7a3"
      },
      "outputs": [
        {
          "name": "stdout",
          "output_type": "stream",
          "text": [
            "three one two\n",
            "['three', 'one', 'two']\n",
            "0.03125\n"
          ]
        }
      ],
      "source": [
        "prob()"
      ]
    },
    {
      "cell_type": "markdown",
      "metadata": {
        "id": "buTqUUW4qOHj"
      },
      "source": [
        "# Finding bigram probablity of the document with smooting"
      ]
    },
    {
      "cell_type": "code",
      "execution_count": null,
      "metadata": {
        "id": "RuT9QzxlqOHj",
        "outputId": "f686e624-f0c5-417f-884e-c4b8dbcc3cbe"
      },
      "outputs": [
        {
          "name": "stdout",
          "output_type": "stream",
          "text": [
            "(1, 28)\n"
          ]
        }
      ],
      "source": [
        "#define vectorizer parameters\n",
        "tfidf_vectorizer = TfidfVectorizer(\n",
        "    use_idf=True,tokenizer=pre_process,\n",
        "    smooth_idf=True,\n",
        "    ngram_range=(2,2))\n",
        "\n",
        "tfidf_matrix = tfidf_vectorizer.fit_transform(document) #fit the vectorizer to synopses\n",
        "\n",
        "print(tfidf_matrix.shape)"
      ]
    },
    {
      "cell_type": "code",
      "execution_count": null,
      "metadata": {
        "id": "cxxMJ7PIqOHk",
        "outputId": "2dc5fcfe-0490-4566-adfe-9ac24198870d"
      },
      "outputs": [
        {
          "data": {
            "text/html": [
              "<div>\n",
              "<style scoped>\n",
              "    .dataframe tbody tr th:only-of-type {\n",
              "        vertical-align: middle;\n",
              "    }\n",
              "\n",
              "    .dataframe tbody tr th {\n",
              "        vertical-align: top;\n",
              "    }\n",
              "\n",
              "    .dataframe thead th {\n",
              "        text-align: right;\n",
              "    }\n",
              "</style>\n",
              "<table border=\"1\" class=\"dataframe\">\n",
              "  <thead>\n",
              "    <tr style=\"text-align: right;\">\n",
              "      <th></th>\n",
              "      <th>eo eo</th>\n",
              "      <th>eo five</th>\n",
              "      <th>eo six</th>\n",
              "      <th>eo three</th>\n",
              "      <th>eo two</th>\n",
              "      <th>five four</th>\n",
              "      <th>five six</th>\n",
              "      <th>five three</th>\n",
              "      <th>five two</th>\n",
              "      <th>four five</th>\n",
              "      <th>...</th>\n",
              "      <th>six two</th>\n",
              "      <th>three eo</th>\n",
              "      <th>three one</th>\n",
              "      <th>three six</th>\n",
              "      <th>three two</th>\n",
              "      <th>two eo</th>\n",
              "      <th>two five</th>\n",
              "      <th>two one</th>\n",
              "      <th>two six</th>\n",
              "      <th>two three</th>\n",
              "    </tr>\n",
              "  </thead>\n",
              "  <tbody>\n",
              "    <tr>\n",
              "      <th>0</th>\n",
              "      <td>0.25</td>\n",
              "      <td>0.125</td>\n",
              "      <td>0.125</td>\n",
              "      <td>0.125</td>\n",
              "      <td>0.25</td>\n",
              "      <td>0.125</td>\n",
              "      <td>0.25</td>\n",
              "      <td>0.125</td>\n",
              "      <td>0.125</td>\n",
              "      <td>0.125</td>\n",
              "      <td>...</td>\n",
              "      <td>0.125</td>\n",
              "      <td>0.25</td>\n",
              "      <td>0.125</td>\n",
              "      <td>0.25</td>\n",
              "      <td>0.125</td>\n",
              "      <td>0.125</td>\n",
              "      <td>0.125</td>\n",
              "      <td>0.125</td>\n",
              "      <td>0.25</td>\n",
              "      <td>0.25</td>\n",
              "    </tr>\n",
              "  </tbody>\n",
              "</table>\n",
              "<p>1 rows × 28 columns</p>\n",
              "</div>"
            ],
            "text/plain": [
              "   eo eo  eo five  eo six  eo three  eo two  five four  five six  five three  \\\n",
              "0   0.25    0.125   0.125     0.125    0.25      0.125      0.25       0.125   \n",
              "\n",
              "   five two  four five  ...  six two  three eo  three one  three six  \\\n",
              "0     0.125      0.125  ...    0.125      0.25      0.125       0.25   \n",
              "\n",
              "   three two  two eo  two five  two one  two six  two three  \n",
              "0      0.125   0.125     0.125    0.125     0.25       0.25  \n",
              "\n",
              "[1 rows x 28 columns]"
            ]
          },
          "execution_count": 11,
          "metadata": {},
          "output_type": "execute_result"
        }
      ],
      "source": [
        "df = pd.DataFrame(tfidf_matrix.toarray(),columns=tfidf_vectorizer.get_feature_names())\n",
        "df"
      ]
    },
    {
      "cell_type": "code",
      "execution_count": null,
      "metadata": {
        "id": "WQ-E54KYqOHk",
        "outputId": "3d693c5a-2d61-4b6e-9193-d4d4336b35a0"
      },
      "outputs": [
        {
          "name": "stdout",
          "output_type": "stream",
          "text": [
            "one three two\n",
            "['one', 'three', 'two']\n",
            "one three  is not a feature of vocab sequence.\n",
            "0.0\n"
          ]
        }
      ],
      "source": [
        "prob()"
      ]
    },
    {
      "cell_type": "code",
      "execution_count": null,
      "metadata": {
        "id": "cGbKkymvqOHk"
      },
      "outputs": [],
      "source": []
    }
  ],
  "metadata": {
    "kernelspec": {
      "display_name": "Python 3",
      "language": "python",
      "name": "python3"
    },
    "language_info": {
      "codemirror_mode": {
        "name": "ipython",
        "version": 3
      },
      "file_extension": ".py",
      "mimetype": "text/x-python",
      "name": "python",
      "nbconvert_exporter": "python",
      "pygments_lexer": "ipython3",
      "version": "3.7.6"
    },
    "colab": {
      "provenance": []
    }
  },
  "nbformat": 4,
  "nbformat_minor": 0
}