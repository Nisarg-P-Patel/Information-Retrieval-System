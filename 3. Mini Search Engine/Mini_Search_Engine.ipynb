{
  "cells": [
    {
      "cell_type": "markdown",
      "metadata": {
        "id": "VEjQBjpAqL9W"
      },
      "source": [
        "# Aim:- Make a mini search engine"
      ]
    },
    {
      "cell_type": "markdown",
      "metadata": {
        "id": "akuClshYqL9X"
      },
      "source": [
        "Sub Task :-\n",
        "    1. Generate TF-IDF vectors for give corpus\n",
        "    2. 2-3 Domains of documents (In this Name of Player is considered :- )\n",
        "    3. Search plot as query and suggest similar Player from Dataset\n",
        "    4. GUI Implementation Optional"
      ]
    },
    {
      "cell_type": "markdown",
      "metadata": {
        "id": "V4A12qTQqL9X"
      },
      "source": [
        "# Packages Used"
      ]
    },
    {
      "cell_type": "markdown",
      "metadata": {
        "id": "EZGp4SaSqL9X"
      },
      "source": [
        "NLTK :-\n",
        "    Used for basic text pre processing structure.\n",
        "    \n",
        "Sklearn :-\n",
        "    For generating tfidf matrix, cosine_similarity\n",
        "    \n",
        "Pandas:-\n",
        "    For accessing the data & filtering it"
      ]
    },
    {
      "cell_type": "code",
      "execution_count": null,
      "metadata": {
        "id": "5WYfiQQEqL9Y"
      },
      "outputs": [],
      "source": [
        "# Importing necessary libraries\n",
        "\n",
        "import nltk\n",
        "from nltk.corpus import stopwords\n",
        "from sklearn.feature_extraction.text import TfidfVectorizer\n",
        "from sklearn.metrics.pairwise import cosine_similarity\n",
        "\n",
        "import pandas as pd"
      ]
    },
    {
      "cell_type": "markdown",
      "metadata": {
        "id": "Wz3hUpqhqL9Z"
      },
      "source": [
        "# Fetching the data from csv file"
      ]
    },
    {
      "cell_type": "code",
      "execution_count": null,
      "metadata": {
        "id": "D4xnT-9QqL9Z",
        "outputId": "fc513954-bb77-4b74-982f-bd7aabe86976"
      },
      "outputs": [
        {
          "data": {
            "text/html": [
              "<div>\n",
              "<style scoped>\n",
              "    .dataframe tbody tr th:only-of-type {\n",
              "        vertical-align: middle;\n",
              "    }\n",
              "\n",
              "    .dataframe tbody tr th {\n",
              "        vertical-align: top;\n",
              "    }\n",
              "\n",
              "    .dataframe thead th {\n",
              "        text-align: right;\n",
              "    }\n",
              "</style>\n",
              "<table border=\"1\" class=\"dataframe\">\n",
              "  <thead>\n",
              "    <tr style=\"text-align: right;\">\n",
              "      <th></th>\n",
              "      <th>Dataline</th>\n",
              "      <th>Play</th>\n",
              "      <th>PlayerLinenumber</th>\n",
              "      <th>ActSceneLine</th>\n",
              "      <th>Player</th>\n",
              "      <th>PlayerLine</th>\n",
              "    </tr>\n",
              "  </thead>\n",
              "  <tbody>\n",
              "    <tr>\n",
              "      <th>0</th>\n",
              "      <td>1</td>\n",
              "      <td>Henry IV</td>\n",
              "      <td>NaN</td>\n",
              "      <td>NaN</td>\n",
              "      <td>NaN</td>\n",
              "      <td>ACT I</td>\n",
              "    </tr>\n",
              "    <tr>\n",
              "      <th>1</th>\n",
              "      <td>2</td>\n",
              "      <td>Henry IV</td>\n",
              "      <td>NaN</td>\n",
              "      <td>NaN</td>\n",
              "      <td>NaN</td>\n",
              "      <td>SCENE I. London. The palace.</td>\n",
              "    </tr>\n",
              "    <tr>\n",
              "      <th>2</th>\n",
              "      <td>3</td>\n",
              "      <td>Henry IV</td>\n",
              "      <td>NaN</td>\n",
              "      <td>NaN</td>\n",
              "      <td>NaN</td>\n",
              "      <td>Enter KING HENRY, LORD JOHN OF LANCASTER, the ...</td>\n",
              "    </tr>\n",
              "    <tr>\n",
              "      <th>3</th>\n",
              "      <td>4</td>\n",
              "      <td>Henry IV</td>\n",
              "      <td>1.0</td>\n",
              "      <td>1.1.1</td>\n",
              "      <td>KING HENRY IV</td>\n",
              "      <td>So shaken as we are, so wan with care,</td>\n",
              "    </tr>\n",
              "    <tr>\n",
              "      <th>4</th>\n",
              "      <td>5</td>\n",
              "      <td>Henry IV</td>\n",
              "      <td>1.0</td>\n",
              "      <td>1.1.2</td>\n",
              "      <td>KING HENRY IV</td>\n",
              "      <td>Find we a time for frighted peace to pant,</td>\n",
              "    </tr>\n",
              "  </tbody>\n",
              "</table>\n",
              "</div>"
            ],
            "text/plain": [
              "   Dataline      Play  PlayerLinenumber ActSceneLine         Player  \\\n",
              "0         1  Henry IV               NaN          NaN            NaN   \n",
              "1         2  Henry IV               NaN          NaN            NaN   \n",
              "2         3  Henry IV               NaN          NaN            NaN   \n",
              "3         4  Henry IV               1.0        1.1.1  KING HENRY IV   \n",
              "4         5  Henry IV               1.0        1.1.2  KING HENRY IV   \n",
              "\n",
              "                                          PlayerLine  \n",
              "0                                              ACT I  \n",
              "1                       SCENE I. London. The palace.  \n",
              "2  Enter KING HENRY, LORD JOHN OF LANCASTER, the ...  \n",
              "3             So shaken as we are, so wan with care,  \n",
              "4         Find we a time for frighted peace to pant,  "
            ]
          },
          "execution_count": 2,
          "metadata": {},
          "output_type": "execute_result"
        }
      ],
      "source": [
        "df = pd.read_csv(\"Shakespeare_data.csv\")\n",
        "df.head()"
      ]
    },
    {
      "cell_type": "markdown",
      "metadata": {
        "id": "dE4iYJkXqL9a"
      },
      "source": [
        "# Filtering the data for the purpose"
      ]
    },
    {
      "cell_type": "code",
      "execution_count": null,
      "metadata": {
        "id": "hklEzYL6qL9a",
        "outputId": "a22ca9b9-c2b9-40d9-9fb4-6370f67a8ebe"
      },
      "outputs": [
        {
          "data": {
            "text/html": [
              "<div>\n",
              "<style scoped>\n",
              "    .dataframe tbody tr th:only-of-type {\n",
              "        vertical-align: middle;\n",
              "    }\n",
              "\n",
              "    .dataframe tbody tr th {\n",
              "        vertical-align: top;\n",
              "    }\n",
              "\n",
              "    .dataframe thead th {\n",
              "        text-align: right;\n",
              "    }\n",
              "</style>\n",
              "<table border=\"1\" class=\"dataframe\">\n",
              "  <thead>\n",
              "    <tr style=\"text-align: right;\">\n",
              "      <th></th>\n",
              "      <th>Play</th>\n",
              "      <th>Player</th>\n",
              "      <th>PlayerLine</th>\n",
              "    </tr>\n",
              "  </thead>\n",
              "  <tbody>\n",
              "    <tr>\n",
              "      <th>0</th>\n",
              "      <td>Henry IV</td>\n",
              "      <td>NaN</td>\n",
              "      <td>ACT I</td>\n",
              "    </tr>\n",
              "    <tr>\n",
              "      <th>1</th>\n",
              "      <td>Henry IV</td>\n",
              "      <td>NaN</td>\n",
              "      <td>SCENE I. London. The palace.</td>\n",
              "    </tr>\n",
              "    <tr>\n",
              "      <th>2</th>\n",
              "      <td>Henry IV</td>\n",
              "      <td>NaN</td>\n",
              "      <td>Enter KING HENRY, LORD JOHN OF LANCASTER, the ...</td>\n",
              "    </tr>\n",
              "    <tr>\n",
              "      <th>3</th>\n",
              "      <td>Henry IV</td>\n",
              "      <td>KING HENRY IV</td>\n",
              "      <td>So shaken as we are, so wan with care,</td>\n",
              "    </tr>\n",
              "    <tr>\n",
              "      <th>4</th>\n",
              "      <td>Henry IV</td>\n",
              "      <td>KING HENRY IV</td>\n",
              "      <td>Find we a time for frighted peace to pant,</td>\n",
              "    </tr>\n",
              "  </tbody>\n",
              "</table>\n",
              "</div>"
            ],
            "text/plain": [
              "       Play         Player                                         PlayerLine\n",
              "0  Henry IV            NaN                                              ACT I\n",
              "1  Henry IV            NaN                       SCENE I. London. The palace.\n",
              "2  Henry IV            NaN  Enter KING HENRY, LORD JOHN OF LANCASTER, the ...\n",
              "3  Henry IV  KING HENRY IV             So shaken as we are, so wan with care,\n",
              "4  Henry IV  KING HENRY IV         Find we a time for frighted peace to pant,"
            ]
          },
          "execution_count": 3,
          "metadata": {},
          "output_type": "execute_result"
        }
      ],
      "source": [
        "del [df['Dataline'],df['PlayerLinenumber'],df['ActSceneLine']]\n",
        "df.head()"
      ]
    },
    {
      "cell_type": "code",
      "execution_count": null,
      "metadata": {
        "id": "Rdwy00CQqL9b",
        "outputId": "130be46f-260f-4d1b-9ed7-013e648d2df7"
      },
      "outputs": [
        {
          "data": {
            "text/plain": [
              "GLOUCESTER        1920\n",
              "HAMLET            1582\n",
              "IAGO              1161\n",
              "FALSTAFF          1117\n",
              "KING HENRY V      1086\n",
              "BRUTUS            1051\n",
              "OTHELLO            928\n",
              "MARK ANTONY        927\n",
              "KING HENRY VI      917\n",
              "DUKE VINCENTIO     909\n",
              "Name: Player, dtype: int64"
            ]
          },
          "execution_count": 4,
          "metadata": {},
          "output_type": "execute_result"
        }
      ],
      "source": [
        "df['Player'].value_counts()[:10]"
      ]
    },
    {
      "cell_type": "code",
      "execution_count": null,
      "metadata": {
        "id": "JvhVVCwTqL9b",
        "outputId": "62942144-4f71-4617-89e9-8c5a352f9f20"
      },
      "outputs": [
        {
          "data": {
            "text/html": [
              "<div>\n",
              "<style scoped>\n",
              "    .dataframe tbody tr th:only-of-type {\n",
              "        vertical-align: middle;\n",
              "    }\n",
              "\n",
              "    .dataframe tbody tr th {\n",
              "        vertical-align: top;\n",
              "    }\n",
              "\n",
              "    .dataframe thead th {\n",
              "        text-align: right;\n",
              "    }\n",
              "</style>\n",
              "<table border=\"1\" class=\"dataframe\">\n",
              "  <thead>\n",
              "    <tr style=\"text-align: right;\">\n",
              "      <th></th>\n",
              "      <th>Play</th>\n",
              "      <th>Player</th>\n",
              "      <th>PlayerLine</th>\n",
              "    </tr>\n",
              "  </thead>\n",
              "  <tbody>\n",
              "    <tr>\n",
              "      <th>114</th>\n",
              "      <td>Henry IV</td>\n",
              "      <td>FALSTAFF</td>\n",
              "      <td>Now, Hal, what time of day is it, lad?</td>\n",
              "    </tr>\n",
              "    <tr>\n",
              "      <th>126</th>\n",
              "      <td>Henry IV</td>\n",
              "      <td>FALSTAFF</td>\n",
              "      <td>Indeed, you come near me now, Hal, for we that...</td>\n",
              "    </tr>\n",
              "    <tr>\n",
              "      <th>127</th>\n",
              "      <td>Henry IV</td>\n",
              "      <td>FALSTAFF</td>\n",
              "      <td>purses go by the moon and the seven stars, and...</td>\n",
              "    </tr>\n",
              "    <tr>\n",
              "      <th>128</th>\n",
              "      <td>Henry IV</td>\n",
              "      <td>FALSTAFF</td>\n",
              "      <td>by Phoebus, he,'that wandering knight so fair....</td>\n",
              "    </tr>\n",
              "    <tr>\n",
              "      <th>129</th>\n",
              "      <td>Henry IV</td>\n",
              "      <td>FALSTAFF</td>\n",
              "      <td>I prithee, sweet wag, when thou art king, as, God</td>\n",
              "    </tr>\n",
              "  </tbody>\n",
              "</table>\n",
              "</div>"
            ],
            "text/plain": [
              "         Play    Player                                         PlayerLine\n",
              "114  Henry IV  FALSTAFF             Now, Hal, what time of day is it, lad?\n",
              "126  Henry IV  FALSTAFF  Indeed, you come near me now, Hal, for we that...\n",
              "127  Henry IV  FALSTAFF  purses go by the moon and the seven stars, and...\n",
              "128  Henry IV  FALSTAFF  by Phoebus, he,'that wandering knight so fair....\n",
              "129  Henry IV  FALSTAFF  I prithee, sweet wag, when thou art king, as, God"
            ]
          },
          "execution_count": 5,
          "metadata": {},
          "output_type": "execute_result"
        }
      ],
      "source": [
        "requires = {'GLOUCESTER':0,'HAMLET':1,'IAGO':2,'FALSTAFF':3,'KING HENRY V':4,'BRUTUS':5,'OTHELLO':6,'MARK ANTONY':7,'KING HENRY VI':8,'DUKE VINCENTIO':9}\n",
        "df = df[df['Player'].isin(requires)]\n",
        "df.head()\n",
        "# df['Player'].value_counts()"
      ]
    },
    {
      "cell_type": "code",
      "execution_count": null,
      "metadata": {
        "id": "R3gi3vJXqL9b",
        "outputId": "fa7ea235-0e64-495e-c2b2-34bf1d419feb"
      },
      "outputs": [
        {
          "name": "stdout",
          "output_type": "stream",
          "text": [
            "Size of dataset :- 11598\n"
          ]
        }
      ],
      "source": [
        "print('Size of dataset :-',len(df))"
      ]
    },
    {
      "cell_type": "code",
      "execution_count": null,
      "metadata": {
        "id": "aEIH8Ka5qL9c",
        "outputId": "9db3f8ff-d71c-439d-986f-6bd8abde0dab"
      },
      "outputs": [
        {
          "name": "stdout",
          "output_type": "stream",
          "text": [
            "              Play      Player  \\\n",
            "0         Henry IV    FALSTAFF   \n",
            "1         Henry IV    FALSTAFF   \n",
            "2         Henry IV    FALSTAFF   \n",
            "3         Henry IV    FALSTAFF   \n",
            "4         Henry IV    FALSTAFF   \n",
            "...            ...         ...   \n",
            "11593  Richard III  GLOUCESTER   \n",
            "11594  Richard III  GLOUCESTER   \n",
            "11595  Richard III  GLOUCESTER   \n",
            "11596  Richard III  GLOUCESTER   \n",
            "11597  Richard III  GLOUCESTER   \n",
            "\n",
            "                                              PlayerLine  \n",
            "0                 Now, Hal, what time of day is it, lad?  \n",
            "1      Indeed, you come near me now, Hal, for we that...  \n",
            "2      purses go by the moon and the seven stars, and...  \n",
            "3      by Phoebus, he,'that wandering knight so fair....  \n",
            "4      I prithee, sweet wag, when thou art king, as, God  \n",
            "...                                                  ...  \n",
            "11593   Farewell, good cousin, farewell, gentle friends.  \n",
            "11594                                             Exeunt  \n",
            "11595                                             ACT IV  \n",
            "11596                         SCENE I. Before the Tower.  \n",
            "11597  Enter, on one side, QUEEN ELIZABETH, DUCHESS O...  \n",
            "\n",
            "[11598 rows x 3 columns]\n"
          ]
        }
      ],
      "source": [
        "df.reset_index(drop=True,inplace=True)\n",
        "print(df)"
      ]
    },
    {
      "cell_type": "code",
      "execution_count": null,
      "metadata": {
        "id": "Qep4xJDSqL9c",
        "outputId": "49cdf6be-be17-447a-cba2-e05b85dc1696"
      },
      "outputs": [
        {
          "data": {
            "text/html": [
              "<div>\n",
              "<style scoped>\n",
              "    .dataframe tbody tr th:only-of-type {\n",
              "        vertical-align: middle;\n",
              "    }\n",
              "\n",
              "    .dataframe tbody tr th {\n",
              "        vertical-align: top;\n",
              "    }\n",
              "\n",
              "    .dataframe thead th {\n",
              "        text-align: right;\n",
              "    }\n",
              "</style>\n",
              "<table border=\"1\" class=\"dataframe\">\n",
              "  <thead>\n",
              "    <tr style=\"text-align: right;\">\n",
              "      <th></th>\n",
              "      <th>Play</th>\n",
              "      <th>PlayerLine</th>\n",
              "    </tr>\n",
              "    <tr>\n",
              "      <th>Player</th>\n",
              "      <th></th>\n",
              "      <th></th>\n",
              "    </tr>\n",
              "  </thead>\n",
              "  <tbody>\n",
              "    <tr>\n",
              "      <th>BRUTUS</th>\n",
              "      <td>Coriolanus</td>\n",
              "      <td>He has no equal.</td>\n",
              "    </tr>\n",
              "    <tr>\n",
              "      <th>DUKE VINCENTIO</th>\n",
              "      <td>Measure for measure</td>\n",
              "      <td>Escalus.</td>\n",
              "    </tr>\n",
              "    <tr>\n",
              "      <th>FALSTAFF</th>\n",
              "      <td>Henry IV</td>\n",
              "      <td>Now, Hal, what time of day is it, lad?</td>\n",
              "    </tr>\n",
              "    <tr>\n",
              "      <th>GLOUCESTER</th>\n",
              "      <td>Henry VI Part 1</td>\n",
              "      <td>England ne'er had a king until his time.</td>\n",
              "    </tr>\n",
              "    <tr>\n",
              "      <th>HAMLET</th>\n",
              "      <td>Hamlet</td>\n",
              "      <td>[Aside]  A little more than kin, and less than...</td>\n",
              "    </tr>\n",
              "    <tr>\n",
              "      <th>IAGO</th>\n",
              "      <td>Othello</td>\n",
              "      <td>'Sblood, but you will not hear me:</td>\n",
              "    </tr>\n",
              "    <tr>\n",
              "      <th>KING HENRY V</th>\n",
              "      <td>Henry V</td>\n",
              "      <td>Where is my gracious Lord of Canterbury?</td>\n",
              "    </tr>\n",
              "    <tr>\n",
              "      <th>KING HENRY VI</th>\n",
              "      <td>Henry VI Part 1</td>\n",
              "      <td>Uncles of Gloucester and of Winchester,</td>\n",
              "    </tr>\n",
              "    <tr>\n",
              "      <th>MARK ANTONY</th>\n",
              "      <td>Antony and Cleopatra</td>\n",
              "      <td>There's beggary in the love that can be reckon'd.</td>\n",
              "    </tr>\n",
              "    <tr>\n",
              "      <th>OTHELLO</th>\n",
              "      <td>Othello</td>\n",
              "      <td>'Tis better as it is.</td>\n",
              "    </tr>\n",
              "  </tbody>\n",
              "</table>\n",
              "</div>"
            ],
            "text/plain": [
              "                                Play  \\\n",
              "Player                                 \n",
              "BRUTUS                    Coriolanus   \n",
              "DUKE VINCENTIO   Measure for measure   \n",
              "FALSTAFF                    Henry IV   \n",
              "GLOUCESTER           Henry VI Part 1   \n",
              "HAMLET                        Hamlet   \n",
              "IAGO                         Othello   \n",
              "KING HENRY V                 Henry V   \n",
              "KING HENRY VI        Henry VI Part 1   \n",
              "MARK ANTONY     Antony and Cleopatra   \n",
              "OTHELLO                      Othello   \n",
              "\n",
              "                                                       PlayerLine  \n",
              "Player                                                             \n",
              "BRUTUS                                           He has no equal.  \n",
              "DUKE VINCENTIO                                           Escalus.  \n",
              "FALSTAFF                   Now, Hal, what time of day is it, lad?  \n",
              "GLOUCESTER               England ne'er had a king until his time.  \n",
              "HAMLET          [Aside]  A little more than kin, and less than...  \n",
              "IAGO                           'Sblood, but you will not hear me:  \n",
              "KING HENRY V             Where is my gracious Lord of Canterbury?  \n",
              "KING HENRY VI             Uncles of Gloucester and of Winchester,  \n",
              "MARK ANTONY     There's beggary in the love that can be reckon'd.  \n",
              "OTHELLO                                     'Tis better as it is.  "
            ]
          },
          "execution_count": 8,
          "metadata": {},
          "output_type": "execute_result"
        }
      ],
      "source": [
        "temp=df.groupby('Player')\n",
        "temp.first()"
      ]
    },
    {
      "cell_type": "markdown",
      "metadata": {
        "id": "mGaSpcXYqL9c"
      },
      "source": [
        "# Pre-processing the data"
      ]
    },
    {
      "cell_type": "code",
      "execution_count": null,
      "metadata": {
        "id": "HQKzSioqqL9c"
      },
      "outputs": [],
      "source": [
        "def toLower(sentence):\n",
        "    return sentence.lower()\n",
        "\n",
        "def tokenizer(sentence):\n",
        "    tokens = list(set(nltk.word_tokenize(sentence)))\n",
        "    return tokens\n",
        "\n",
        "def stopwords_removal(tokens):\n",
        "    stop_words = nltk.corpus.stopwords.words('english')\n",
        "    stop_words.extend([',','?','\"\"',\"''\",'.','!', \"'\",'\"',\"'d\",\"'ll\",'[',']','--',':',';','///'])\n",
        "    filtered_tokens = [i for i in tokens if not i in stop_words]\n",
        "    return filtered_tokens\n",
        "\n",
        "def stemming(tokens):\n",
        "    stemmer = nltk.stem.porter.PorterStemmer()\n",
        "    stemmed_tokens = [stemmer.stem(i) for i in tokens]\n",
        "    return stemmed_tokens\n",
        "\n",
        "def pre_process(text):\n",
        "    tokens = [word for sent in nltk.sent_tokenize(text) for word in nltk.word_tokenize(sent)]\n",
        "    tokens = stopwords_removal(tokens)\n",
        "    stems = stemming(tokens)\n",
        "    return stems\n",
        ""
      ]
    },
    {
      "cell_type": "code",
      "execution_count": null,
      "metadata": {
        "id": "VlVENCNSqL9d",
        "outputId": "0b71232a-9fde-4ffc-8c42-ddfbc86f2a46"
      },
      "outputs": [
        {
          "name": "stdout",
          "output_type": "stream",
          "text": [
            "(11598, 6282)\n"
          ]
        }
      ],
      "source": [
        "#define vectorizer parameters\n",
        "tfidf_vectorizer = TfidfVectorizer(max_features=15000,\n",
        "                                 use_idf=True,tokenizer=pre_process)\n",
        "\n",
        "tfidf_matrix = tfidf_vectorizer.fit_transform(df['PlayerLine']) #fit the vectorizer to synopses\n",
        "\n",
        "print(tfidf_matrix.shape)"
      ]
    },
    {
      "cell_type": "code",
      "execution_count": null,
      "metadata": {
        "id": "0lO6-yCrqL9d",
        "outputId": "3888a4b0-93f7-49cc-cf0f-5f9cbc059d37"
      },
      "outputs": [
        {
          "name": "stdout",
          "output_type": "stream",
          "text": [
            "[\"'a\", \"'adieu\", \"'agrippa\", \"'all\", \"'an\", \"'as'\", \"'bi\", \"'bout\", \"'brutu\", \"'cert\", \"'content\", \"'curs\", \"'do\", \"'down\", \"'em\", \"'england\", \"'enough\", \"'faith\", \"'fli\", \"'for\", \"'fore\", \"'gainst\", \"'god\", \"'good\", \"'greed\", \"'harri\", \"'havior\", \"'help\", \"'hem\", \"'ho\", \"'if\", \"'impon\", \"'imprimi\", \"'inde\", \"'it\", \"'jealousi\", \"'larum\", \"'love\", \"'m\", \"'man\", \"'margaret\", \"'mongst\", \"'no\", \"'non\", \"'now\", \"'one\", \"'peac\", \"'putter\", \"'re\", \"'s\", \"'sblood\", \"'scape\", \"'scuse\", \"'seem\", \"'sees\", \"'shall\", \"'sleep\", \"'speak\", \"'stablish\", \"'stand\", \"'stroy\", \"'sweet\", \"'swound\", \"'t\", \"'te\", \"'that\", \"'the\", \"'there\", \"'these\", \"'thi\", \"'thou\", \"'to\", \"'to-morrow\", \"'tween\", \"'twere\", \"'twill\", \"'twixt\", \"'twould\", \"'ve\", \"'we\", \"'well\", \"'while\", \"'who\", \"'whore\", \"'your\", \"'zound\", 'a-b', 'a-bird', 'a-curs', 'a-day', 'a-do', 'a-front', 'a-kil', 'a-piec', 'abandon', 'abhor', 'abhorson', 'abid', 'abil', 'abject', 'abl', 'aboard', 'abod', 'abomin', 'abound', 'abridg', 'abroach', 'abroad', 'abrook', 'absenc', 'absent', 'absolut', 'abstin', 'abstract', 'absurd', 'abus', 'abysm', 'accent', 'accept', 'accessari', 'accid', 'accommod', 'accompani', 'accomplish', 'accord', 'accordingli', 'account', 'accoutr', 'accumul', 'accurs', 'accurst', 'accus', 'ach', 'achiev', 'acknowledg', 'acknown', 'acquaint', 'acquir', 'acquit', 'acquitt', 'acr', 'across', 'act', 'action', 'action.', 'actium', 'activ', 'actor', 'ad', 'adam', 'add', 'adder', 'addit', 'address', 'addrest', 'adieu', 'adjoin', 'adjudg', 'admir', 'admit', 'admitt', 'admonish', 'ado', 'adopt', 'ador', 'adoreth', 'adorn', 'adul', 'advanc', 'advantag', 'adventur', 'advers', 'adversari', 'advertis', 'advic', 'advis', 'aedil', 'aenea', 'aeri', 'afar', 'afeard', 'affabl', 'affair', 'affect', \"affect'st\", 'affianc', 'affin', 'affirm', 'afflict', 'afford', 'affright', 'afloat', 'afoot', 'afor', 'afraid', 'after-dinn', 'afternoon', 'afterward', 'age', 'aggrav', 'agincourt', 'agnis', 'ago', 'agoni', 'agre', 'agrippa', 'ah', 'aid', 'aim', 'aimest', 'air', 'ajax', 'ala', 'alabast', 'alack', 'alacr', 'alarum', 'alban', 'albani', 'albeit', 'alcid', 'alderman', 'alencon', 'aleppo', 'alexa', 'alexand', 'alexandria', 'alic', 'alik', 'aliv', 'allay', 'allegi', 'alli', 'allianc', 'allow', 'alm', 'almain', 'almighti', 'almost', 'aloft', 'alon', 'along', 'aloud', 'alreadi', 'also', 'alter', 'although', 'altitud', 'altogeth', 'alway', 'amain', 'amamon', 'amaz', 'ambassador', 'amber', 'ambigu', 'ambit', 'ambiti', 'ambl', 'ambush', 'amen', 'amend', 'amiabl', 'amiss', 'amiti', 'among', 'amongst', 'amor', 'ampl', 'ancestor', 'ancient', 'ancu', 'anew', 'angel', 'angelo', 'anger', 'angl', 'angri', 'anim', 'animi', 'anjou', 'ann', 'annex', 'annoy', 'anoint', 'anon', 'anoth', 'answer', 'anthoni', 'anthropophagi', 'antiat', 'antic', 'anticip', 'antiqu', 'antoni', 'antonio', 'antr', 'apac', 'apart', 'ape', 'apiec', 'apish', 'apolog', 'apoplex', 'appal', 'appar', 'apparel', 'apparit', 'appeal', 'appear', 'appeas', 'appertin', 'appetit', 'applaud', 'applaus', 'apple-john', 'appli', 'appoint', 'apprehend', 'apprehens', 'approach', 'approb', 'approv', 'appurten', 'april', 'apt', 'aptli', 'arabian', 'arbitr', 'arch', 'arch-mock', 'archbishop', 'ardour', 'argu', 'argument', 'aright', 'aris', 'ariseth', 'arithmet', 'arithmetician', 'arm', 'armagnac', 'armi', 'armour', 'arra', 'arraign', 'arrant', 'array', 'arrest', 'arriv', 'arrog', 'arrow', 'art', 'artemidoru', 'arteri', 'articl', 'artifici', 'artilleri', 'ascend', 'ascrib', 'ash', 'asham', 'ashor', 'asid', 'ask', 'asleep', 'aspect', 'aspic', 'aspir', 'ass', 'assail', 'assault', 'assay', 'assembl', 'assign', 'assist', 'assum', 'assur', 'assyrian', 'astonish', 'athwart', 'attain', 'attaind', 'attaint', 'attempt', 'attend', 'attest', 'attir', 'attorney', 'attract', 'attribut', 'audaci', 'audibl', 'audienc', 'audit', 'aufidiu', 'aught', 'augment', 'auguri', 'auld', 'aunt', 'aunt-moth', 'author', 'avail', 'avaunt', 'ave', 'avez', 'avoid', 'avouch', 'awak', 'away', 'awe', 'awhil', 'awri', 'axe', 'ay', 'babi', 'baboon', 'bachelor', 'back', 'back-wound', 'backward', 'bacon', 'bacon-f', 'bad', 'bade', 'bae', 'baffl', 'bag', 'bagpip', 'bail', 'bake', 'baker', 'balanc', 'bald', 'bale', 'ball', 'ballad', 'balm', 'balmi', 'band', 'banish', 'bank', 'bann', 'banner', 'baptism', 'baptista', 'bar', 'barbar', 'barbari', 'barbarian', 'barber', 'bard', 'bardolph', 'bare', 'bargain', 'bark', 'barnardin', 'baron', 'barren', 'barrow', 'basan', 'base', 'baser', 'basest', 'basi', 'basilisk', 'basket', 'basset', 'bastard', 'bastardi', 'bastinado', 'bat', 'bate', 'bath', 'batten', 'batteri', 'battl', 'bawd', 'bawdi', 'bawdri', 'bawdy-hous', 'bay', 'baynard', \"be'st\", 'be-le', 'be-net', 'beadl', 'beam', 'bear', \"bear'st\", 'bear-whelp', 'beard', 'bearer', 'bearest', 'bearing-cloth', 'beast', 'beastli', 'beat', 'beaten', 'beaufort', 'beaumont', 'beauteou', 'beauti', 'becam', 'beck', 'beckon', 'becom', 'bed', 'bed-chamb', 'bed-tim', 'bedash', 'bedchamb', 'bedford', 'bedlam', 'beer', 'beer-barrel', 'beest', 'befal', 'befallen', 'befel', 'befit', 'before-breach', 'beg', 'bega', 'began', 'beget', 'begg', 'beggar', 'beggar-man', 'beggari', 'beggarli', 'begin', 'begon', 'begot', 'begrim', 'beguil', 'begun', 'behalf', 'behavior', 'behead', 'behind', 'behold', \"behold'st\", 'beli', 'belief', 'believ', \"believe't\", 'belik', 'bell', 'bell-weth', 'belli', 'bellow', 'belong', 'belov', 'bencher', 'bend', 'beneath', 'benedicit', 'benefit', 'benison', 'bent', 'bequeath', 'bereft', 'bernardo', 'berwick', 'beseech', 'beseem', 'beshrew', 'besid', 'besmear', 'besmirch', 'besort', 'best', 'bestial', 'bestow', \"bestow't\", 'bestrid', 'bet', 'beteem', 'bethink', 'bethought', 'betim', 'betoken', 'betray', 'betroth', 'better', 'betwixt', 'bevi', 'bewail', 'bewar', 'beweep', 'bewitch', 'bewray', 'beyond', 'bia', 'bianca', 'bianco', 'bicker', 'bid', 'bide', 'big', 'bigger', 'bilbo', 'bill', 'billet', 'bind', 'birch', 'bird', 'birdlim', 'birth', 'bishop', 'bit', 'bitch', 'bite', 'bitter', 'bitterli', 'blab', 'black', 'black-fac', 'blackberri', 'blackest', 'bladder', 'blame', 'blank', 'blast', 'bleak', 'blear', 'bleed', \"bleed'st\", 'blemish', 'blench', 'bless', 'blessedli', 'blest', 'blind', 'bliss', 'blister', 'bloat', 'block', 'blood', 'bloodi', 'bloody-hunt', 'blossom', 'blot', 'blow', 'blown', 'blue', 'blue-cap', 'blunt', 'bluntli', 'blur', 'blush', 'board', 'boarish', 'boast', 'boat', 'bobb', 'bode', 'bodi', 'bodili', 'bodkin', 'bodykin', 'boggler', 'boil', 'bold', 'bold-beat', 'bolder', 'boldli', 'bolingbrok', 'bolster', 'bolt', 'bolter', 'bombast', 'bona', 'bond', 'bondag', 'bondman', 'bondmen', 'bone', 'bonfire-light', 'bonnet', 'bonni', 'book', 'bookish', 'boon', 'boot', 'bootless', 'bore', 'born', 'borrow', 'bosom', 'botch', 'bottl', 'bottom', 'bought', 'bound', 'bounteou', 'bounti', 'bourbon', 'bourn', 'bout', 'bow', 'bowcas', 'bowel', 'bowl', 'box', 'boy', 'boyish', 'brabant', 'brabantio', 'brace', 'braci', 'brag', 'brain', 'brain-sick', 'brainsick', 'brakenburi', 'branch', 'branchless', 'brand', 'brandish', 'brass', 'brat', 'brave', 'braveri', 'brawl', 'bray', 'braze', 'brazen', 'breach', 'bread', 'breadth', 'break', \"break'st\", 'breaker', 'breakfast', 'breast', 'breastplat', 'breath', 'breathing-whil', 'breathless', 'breech', 'breed', 'breeder', 'brentford', 'brethren', 'brew', 'brewag', 'brewer', 'bribe', 'bride', 'bridegroom', 'bridg', 'bridget', 'brief', 'briefli', 'bright', 'brightest', 'brim', 'brim-ful', 'brimston', 'bring', \"bring'st\", 'bringings-forth', 'brinish', 'british', 'broach', 'broad', 'broil', 'broke', 'broken', 'brokenli', 'brook', 'brother', 'brotherhood', 'brotherlik', 'brought', 'brow', 'brown', 'bruis', 'bruit', 'brundusium', 'brute', 'brutish', 'brutu', 'bubbl', 'buck', 'buck-basket', 'buckingham', 'buckl', 'buckler', 'bucklersburi', 'buckram', 'budg', 'buff', 'buffet', 'bug', 'build', 'buildeth', 'built', 'bulk', 'bull', 'bullet', 'bulwark', 'bunch', 'bung-hol', 'bungl', 'buoy', 'burden', 'burgundi', 'buri', 'burli', 'burn', 'burning-glass', 'burst', 'burthen', 'bush', 'busi', 'bustl', 'butcher', 'butt', 'butt-end', 'butter', 'buy', 'buyer', 'buz', 'buzz', 'c', 'c.', 'cabbag', 'cabin', 'cabl', 'cade', 'caesar', 'cain', 'caitiff', 'caiu', 'calai', 'calam', 'calendar', 'calf', 'caliv', 'call', \"call't\", 'calm', 'calpurnia', 'calumni', 'calv', 'cambridg', 'cambys', 'came', 'camel', 'camest', 'camomil', 'camp', 'canakin', 'cancel', 'candi', 'canidiu', 'canker', 'cannib', 'cannon', 'canon', 'canopi', 'canst', 'canterburi', 'canvass', 'cap', 'capabl', 'capac', 'caper', 'capit', 'capitol', 'capon', 'captain', 'captiv', 'car', 'carack', 'carbonado', 'carbuncl', 'carcass', 'card', 'cardin', 'care', 'career', 'carnal', 'carous', 'carp', 'carri', 'carriag', 'carrion', 'cart', 'carv', 'casca', 'case', 'cashier', 'cassio', 'cassiu', 'cast', 'castig', 'castl', 'cat', 'cat-a-mountain', 'catch', 'catech', 'caterpillar', 'catesbi', 'cato', 'caught', 'caus', 'causeless', 'causer', 'causest', 'cautel', 'caution', 'cave', 'cavern', 'caviar', 'ceas', 'cedar', 'celer', 'cell', 'cellarag', 'censor', 'censorinu', 'censur', 'cerement', 'ceremoni', 'certain', 'certainli', 'certainti', 'certifi', 'chace', 'chafe', 'chain', 'chair', 'chalic', 'challeng', 'chamber', 'chamberlain', 'chameleon', 'champion', 'chanc', 'chandler', 'chang', 'changeabl', 'changel', 'chanson', 'chantri', 'chao', 'chap-fallen', 'chapless', 'charact', 'characteri', 'charg', 'chariot', 'chariot-wheel', 'charit', 'chariti', 'charl', 'charm', 'charmer', 'charmian', 'charter', 'chase', 'chast', 'chastis', 'chastiti', 'chat', 'chatillon', 'chatter', 'cheap', 'cheat', 'cheater', 'cheek', 'cheer', 'cheerli', 'chees', 'chequ', 'cher', 'cherish', 'cherri', 'chertsey', 'cherub', 'cherubin', 'chew', 'chid', 'chidden', 'chide', 'chief', 'chiefest', 'chiefli', 'child', 'childish', 'childish-foolish', 'children', 'chimney', 'chin', 'chirp', 'choic', 'choke', 'choler', 'choos', 'chop', 'chopin', 'choru', 'chose', 'chosen', 'chough', 'christendom', 'christian', 'chronicl', 'chrysolit', 'chuck', 'chuff', 'church', 'churchman', 'churchmen', 'churchyard', 'churlish', 'cicero', 'cimber', 'cinder', 'cinna', 'circumcis', 'circumfer', 'circumscript', 'circumst', 'circumv', 'cistern', 'citadel', 'cite', 'citi', 'citizen', 'civil', 'civilli', 'claim', 'clamber', 'clamor', 'clamour', 'clap', 'clapp', 'clarenc', 'claudio', 'claudiu', 'clay', 'clean', 'cleanli', 'clear', 'cleav', 'cleopatra', 'clepe', 'cliff', 'clifford', 'climat', 'climb', 'climber-upward', 'clime', 'clink', 'clip', 'clipper', 'clitu', 'cloak', 'clock', 'close', 'closer', 'closet', 'cloth', 'cloud', 'cloudi', 'clout', 'clown', 'club', 'clyster-pip', 'cneiu', \"co'fil\", 'coach-fellow', 'coagul', 'coast', 'coat', 'cobham', 'cock', 'cod', 'coelestibu', 'coffer', 'cog', 'coil', 'coin', 'coinag', 'cold', 'cold-heart', 'coldli', 'collect', 'colli', 'coloquintida', 'colour', 'colt', 'combat', 'combin', 'come', 'comedi', 'comest', 'comfort', 'comfortless', 'cominiu', 'comma', 'command', \"command'st\", 'commenc', 'commend', 'comment', 'commingl', 'commiss', 'commission', 'commit', 'commod', 'common', 'commonli', 'commonw', 'commonwealth', 'commun', 'compact', 'compani', 'companion', 'compar', 'comparison', 'compass', 'compel', 'complain', 'complaint', 'complement', 'complet', 'complexion', 'compli', 'compliment', 'complot', 'compos', 'compost', 'compound', 'compris', 'compt', 'compuls', 'comput', 'conceal', 'conceit', 'conceiv', 'concept', 'concern', 'conclud', 'conclus', 'condemn', 'condign', 'condit', 'conduct', 'conduit', 'confer', 'confess', 'confess.', 'confessor', 'confin', 'confirm', 'confisc', 'confound', 'confus', 'confut', 'congeal', 'congreg', 'conjoin', 'conjunct', 'conjur', 'conquer', 'conqueror', 'conquest', 'conscienc', 'conscion', 'consecr', 'consent', 'consequ', 'conserv', 'consid', 'consider', 'consign', 'consist', 'consistori', 'conson', 'consort', 'conspir', 'conspiraci', 'constabl', 'constanc', 'constant', 'constantinopl', 'constantli', 'constru', 'consul', 'consum', 'consumm', 'contagi', 'contagion', 'contain', 'contamin', \"contemned'st\", 'contempl', 'contempt', 'contend', 'content', 'contin', 'continu', 'contract', 'contradict', 'contrari', 'contribut', 'contrit', 'contriv', 'contrivedst', 'control', 'contum', 'conveni', 'convent', 'conventicl', 'convers', 'convert', 'convey', 'convinc', 'convoc', 'convoy', 'cony-catch', 'cook', 'cool', 'cope', 'copi', 'copper', 'cord', 'cordelia', 'core', 'coriolanu', 'corioli', 'corn', 'corner', 'cornuto', 'cornwal', 'coron', 'corpor', 'corps', 'corpul', 'correct', 'corrig', 'corrupt', 'cors', 'cost', 'couch', 'cough', 'could', 'couldst', 'council', 'council-hous', 'counsel', 'counsellor', 'count', 'counten', 'countenanc', 'counter', 'counter-cast', 'counter-g', 'counterfeit', 'countermand', 'counti', 'countri', 'countryman', 'countrymen', 'coupl', 'courag', 'cours', 'courser', 'court', 'courtesi', 'courtier', 'courtship', 'cousin', 'coven', 'coventri', 'cover', 'covert', 'covet', 'coward', 'cowardli', 'coxcomb', 'coz', 'cozen', 'cozenag', 'crab', 'crack', 'cradl', 'craft', 'cram', 'cramm', 'crassu', 'crave', 'craven', 'crawl', 'craze', 'cream', 'creat', 'creator', 'creatur', 'credit', 'creditor', 'credul', 'creep', 'crept', 'crest', 'crest-fallen', 'crete', 'cri', 'crib', 'criedst', 'crime', 'crimeless', 'crimin', 'cring', 'crippl', 'crispian', 'crispianu', 'crispin', 'critic', 'croak', 'crocodil', 'crook', 'cropp', 'crosbi', 'cross', 'cross-bow', 'crouch', 'crown', 'crownet', 'cruel', 'cruelli', 'cruelti', 'crush', 'crutch', 'cuckold', 'cuckoldli', 'cuckoo', 'cudgel', 'cue', 'cuff', 'culpabl', 'cun', \"cunning'st\", 'cup', 'cupid', 'curb', 'curd', 'cure', 'curios', 'curiou', 'curl', 'current', 'curs', 'curst', 'curtail', 'curtain', 'curtsi', 'cushion', 'custodi', 'custom', 'customari', 'cut', 'cutpurs', 'cypru', 'cyprus.', 'daedalu', \"daff't\", 'dagger', 'daili', 'daintier', 'dalli', 'dallianc', 'dam', 'damask', 'dame', 'damn', 'damnabl', 'damnat', 'damon', 'danc', 'dancer', 'dane', 'danger', 'danish', 'dardaniu', 'dare', 'darest', 'dark', 'darken', 'darkest', 'darl', 'dart', 'dash', 'datchet-lan', 'date', 'daub', 'daughter', 'daunt', 'dauphin', 'daventri', 'davi', 'daw', 'dawn', 'day', 'dazzl', 'de', 'dead', 'deadli', 'deaf', 'deal', 'dealt', 'dear', 'dearer', 'dearest', 'dearth', 'death', \"death's-head\", 'death-b', 'death.', 'deathb', 'debas', 'debat', 'debitor', 'debt', 'debtor', 'decay', 'deceas', 'deceit', 'deceiv', 'deceiveth', 'deciu', 'deck', 'declin', 'decorum', 'decre', 'deed', 'deep', 'deeper', 'deer', 'deess', 'defac', 'defeat', \"defeat'st\", 'defect', 'defenc', 'defend', 'defi', 'defil', 'defin', 'definit', 'deform', 'defunct', 'degre', 'deiti', 'deject', 'delabreth', 'delat', 'delay', 'delic', 'delight', 'deliv', 'delv', 'demand', 'demeanor', 'demerit', 'demi-devil', 'demon', 'demonstr', 'den', 'deni', 'denial', 'denier', 'denmark', 'denot', 'denounc', 'depart', \"depart'st\", 'depend', 'depos', 'depriv', 'depth', 'deput', 'deputi', 'derbi', 'derceta', 'deriv', 'descant', 'descend', 'descent', 'describ', 'descript', 'desdemona', 'desert', 'deserv', 'deservest', 'design', 'desir', 'desol', 'despair', 'desper', 'despis', 'despit', 'despoil', 'destini', 'destroy', 'destruct', 'detain', 'detect', 'determin', 'detest', 'detract', 'deum', 'devest', 'devic', 'devil', 'devilish', 'devin', 'devis', 'devot', 'devour', 'devout', 'devoutli', 'dew', 'dexter', 'diablo', 'diadem', 'dial', 'diamond', 'dian', 'diana', 'dice', 'dicer', 'diction', 'dido', 'didst', 'die', 'diest', 'diet', 'differ', 'difficulti', 'dig', 'digest', 'digniti', 'dilat', 'dilatori', 'dilig', 'dim', 'diminut', 'dimm', 'din', 'dine', 'diom', 'dire', 'direct', 'directli', 'dirt', 'dirti', 'disagre', 'disanim', 'disastr', 'disbench', 'disburs', 'discandi', 'discard', \"discern'st\", 'discharg', 'disciplin', 'disclaim', 'disclos', 'discolour', 'discomfort', 'discont', 'discord', 'discours', 'discov', 'discoveri', 'discredit', 'discreet', 'discret', 'disdain', 'diseas', 'disembark', 'disgrac', 'disgraci', 'disguis', 'dish', 'dishearten', 'dishonour', 'disinherit', 'disjoin', 'dislimn', 'disloy', 'dismal', 'dismantl', 'dismay', 'dismemb', 'dismiss', 'disobedi', 'disobey', 'disord', 'dispatch', 'dispatch.', 'dispens', 'dispers', 'displant', 'displeasur', 'disport', 'dispos', 'disposit', 'disprais', 'disproperti', 'disproport', 'disquiet', 'disquietli', 'disrelish', 'dissembl', 'dissens', 'dissenti', 'dissolut', 'distanc', 'distast', 'distemp', 'distil', 'distinctli', 'distinguish', 'distract', 'distrain', 'distraught', 'distress', 'distribut', 'distrust', 'disturb', 'dive', 'diver', 'divid', 'divin', 'divis', 'divorc', 'dizzi', 'do', \"do't\", 'doctor', 'dodg', 'doe', 'doer', \"does't\", 'doest', 'dog', 'doit', 'dolabella', 'dole', 'dolor', 'dolphin', 'domest', 'domitiu', 'donc', 'done', \"done't\", 'doom', 'doomsday', 'door', 'dorset', 'dost', 'dotag', 'dote', 'doth', 'doubl', 'doublet', 'doubt', 'doubtless', 'doughty-hand', 'dougla', 'dove', 'dover', 'dower', 'dowla', 'down-feath', 'downfal', 'downright', 'dowri', 'dozen', 'drab', 'drachma', 'draff', 'drag', 'dragon', 'dragonish', 'drain', 'dram', 'draught', 'draw', 'drawbridg', 'drawer', 'drawn', 'dread', 'dream', 'dreamt', 'dress', 'dressi', 'drew', \"drew'st\", 'dri', 'dribbl', 'drift', 'drink', \"drink'st\", 'drive', 'driven', 'drone', 'drop', 'dropp', 'drove', 'drown', 'drowsi', 'drowsili', 'drug', 'drum', 'drunk', 'drunkard', 'drunken', 'du', 'dub', 'dubb', 'ducat', 'duchess', 'duchi', 'duck', 'due', 'dug', 'duke', 'dukedom', 'dull', 'dumb', 'dumb-show', 'dumbshow', 'dungeon', 'dunghil', 'dungi', 'durst', 'dust', 'dutch', 'duteou', 'duti', 'dwell', 'dwindl', 'dy', \"e'en\", \"e'er\", 'eagl', 'eal', 'ean', 'ear', 'ear-pierc', 'earl', 'earldom', 'earli', 'earliest', 'earn', 'earnest', 'earnestli', 'earth', 'earthli', 'eas', 'easi', 'easier', 'easili', 'east', 'eastcheap', 'eat', 'eaten', 'ebb', 'ebrew', 'ecc', 'echo', 'eclips', 'ecstasi', 'edg', 'edgar', 'edmund', 'edward', 'effect', 'effemin', 'effus', 'egg', 'egg-shel', 'egregi', 'egypt', 'egyptian', 'eight', 'eighteen', 'eighth', 'eisel', 'either', 'elbow', 'eld', 'elder', 'eleanor', 'elect', 'element', 'eleven', 'elf-skin', 'eli', 'elizabeth', 'eloqu', 'els', 'elsinor', 'eltham', 'elysium', 'embark', 'embassi', 'embowel', 'embrac', 'embroid', 'emilia', 'emin', 'emperi', 'emperor', 'emphasi', 'empir', 'employ', 'empress', 'empti', 'emul', 'enact', 'encamp', 'encav', 'enchant', 'enclos', 'encloseth', 'encompass', 'encompasseth', 'encount', 'encourag', 'encumb', 'end', 'endang', 'endeavour', 'endur', 'enemi', 'enfeebl', 'enfett', 'enforc', 'enfranch', 'enfranchis', 'engag', 'engend', 'engin', 'engirt', 'england', 'english', 'englishman', 'englishwoman', 'enjoy', 'enkindl', 'enlarg', 'enlink', 'enmesh', 'enmiti', 'ennobl', 'enobarbu', 'enough', 'enow', 'enrag', 'enrich', 'enrol', 'enschedul', 'ensconc', 'enseam', 'ensnar', 'ensu', 'entail', 'entangl', 'enter', 'enterpris', 'entertain', 'entir', 'entrail', 'entreat', 'entreati', 'envelop', 'envenom', 'envi', 'enviou', 'epicur', 'epilepsi', 'epilogu', 'epitaph', 'epithet', 'equal', 'equinox', 'equiti', 'equivoc', 'er', 'ere', \"ere't\", 'erebu', 'eringo', 'ero', 'erpingham', 'err', 'errand', 'error', 'erst', 'escalu', 'escap', 'escot', 'especi', 'espous', 'esquir', 'essay', 'essenc', 'essenti', 'est', 'establish', 'estat', 'esteem', 'estim', 'et', 'ete', 'etern', 'etna', 'eunuch', 'euphroniu', 'europ', 'europa', 'evad', 'evan', 'evas', 'even', 'event', 'ever', 'ever-burn', 'ever-gentl', 'ever-preserv', 'ever-run', 'everi', 'everlast', 'evermor', 'evid', 'evil', 'ewe', 'exact', 'examin', 'exampl', 'exce', 'exceed', 'excel', 'except', 'excess', 'exchang', 'exchequ', 'excit', 'exclaim', 'excurs', 'excus', 'execut', 'execution', 'exempt', 'exercis', 'exet', 'exeunt', 'exhal', 'exhibit', 'exhort', 'exig', 'exil', \"exist'st\", 'exit', 'expect', 'expedi', 'expedit', 'expel', 'expend', 'expens', 'experi', 'expir', 'exploit', 'expos', 'expostul', 'express', 'exsuffl', 'extant', 'extempor', 'extend', 'extent', 'extenu', 'exterior', 'extern', 'extol', 'extract', 'extraordinari', 'extrem', 'extremest', 'eye', 'eye-bal', 'eyelid', 'fabl', 'face', 'facil', 'fact', 'faction', 'factiou', 'faculti', 'fail', 'fain', 'faint', 'faint-heart', 'faintli', 'fair', 'fairer', 'fairi', 'fairli', 'faith', 'falcon', 'fall', 'fallen', 'fallibl', 'fals', 'false-play', 'falsehood', 'falstaff', 'fame', 'famili', 'familiar', 'famou', 'fan', 'fanci', 'fang', 'fantasi', 'fantast', 'far', 'far-off', 'farc', 'fardel', 'fare', 'farewel', 'farm', 'farther', 'farthingal', 'fashion', 'fast', 'fasten', 'faster', 'fastolf', 'fat', 'fatal', 'fate', 'father', 'fathom', 'fattest', 'fatuu', 'fauconberg', 'fault', 'faultless', 'favour', 'favourit', 'fawn', 'fay', 'fear', \"fear'st\", 'fearless', 'feast', 'feat', 'feather', 'featur', 'fed', 'fee', 'feebl', 'feed', 'feeder', 'feel', 'feelingli', 'feet', 'felic', 'fell', \"fell'st\", 'fellow', 'fellow-stud', 'fellowship', 'felon', 'feloni', 'felt', 'fenc', 'fenton', 'ferret', 'fertil', 'fet', 'fetch', \"fetch't\", 'fetter', 'fever', 'fewer', 'fickl', 'fiction', 'fie', 'field', 'fiend', 'fierc', 'fieri', 'fife', 'fifteen', 'fifteenth', 'fifth', 'fifti', 'fig', \"fig's-end\", 'fight', 'fighter', 'figur', 'filch', 'fill', 'film', 'filth', 'filthi', 'find', \"find'st\", 'find-fault', 'finder', 'fine', 'fineless', 'finest', 'finger', 'finish', 'fire', 'firm', 'firmament', 'first', 'first-conceiv', 'fish', 'fishermen', 'fishmong', 'fit', 'fitter', 'fitteth', 'five', 'fix', 'fixtur', 'flag', 'flame', 'flamen', 'flannel', 'flash', 'flat', 'flatter', 'flatteri', 'flaviu', 'flaw', 'fled', 'fleec', 'fleer', 'fleet', 'flesh', 'flew', 'flexur', 'fli', 'flight', 'flint', 'flinti', 'flock', 'flood', 'flood-gat', 'florentin', 'flourish', 'flout', 'flow', 'flower', 'flower-de-luc', 'fluellen', 'flush', 'fluster', 'foam', 'fob', 'foe', 'foh', 'foil', 'foison', 'foix', 'fold', 'folli', 'follow', 'fond', 'fondli', 'food', 'fool', 'fooleri', 'foolish', 'foolish-hang', 'foot', 'fopperi', \"for't\", 'forbear', 'forbid', 'forbidden', 'forborn', 'forc', 'ford', 'fordo', 'fore-hand', 'fore-rank', 'forecast', 'forego', 'foregon', 'forehead', 'foreign', 'foremost', 'forenam', 'forerun', 'forest', 'foretold', 'forfeit', 'forfend', 'forg', 'forget', \"forget'st\", 'forgiv', 'forgon', 'forgot', 'forgotten', 'fork', 'forlorn', 'form', 'formal', 'former', 'forsak', 'forsaken', 'forsooth', 'forswear', 'forswor', 'forsworn', 'fort', 'forth', 'forthwith', 'forti', 'fortif', 'fortifi', 'fortinbra', 'fortun', 'forum', 'forward', 'fought', 'foul', 'foul-fac', 'fouler', 'found', 'fount', 'fountain', 'four', 'fourth', 'fowl', 'fox', 'fragment', 'frail', 'frailti', 'frame', 'franc', 'francisca', 'frank', 'franker', 'frankli', 'fraught', 'fray', 'frederick', 'free', 'freedom', 'freeli', 'french', 'frenchmen', 'frenzi', 'fresh', 'fresh-fair', 'fresher', 'freshli', 'fret', 'friar', 'friend', 'friendli', 'friendship', 'fright', 'fritter', 'frivol', 'frize', 'fro', 'frock', 'front', 'frontier', 'frost', 'frosti', 'frown', 'frowningli', 'fruit', 'fruition', 'frustrat', 'ful', 'full', 'full-fraught', 'full-mann', 'fuller', 'fulli', 'fulsom', 'fulvia', 'fumblest', 'fun', 'function', 'funer', 'furi', 'furiou', 'furnish', 'further', 'fust', 'g', 'gad', 'gadshil', 'gaff', 'gage', 'gain', 'gain-giv', 'gainer', 'gait', 'gall', 'gallant', 'gallop', 'gallow', 'gam', 'gambol', 'game', 'gamesom', 'gamest', 'gaoler', 'gape', 'garb', 'garboil', 'garden', 'garland', 'garment', 'garner', 'garnish', 'garrison', 'garter', 'gash', 'gasp', 'gast', 'gate', 'gather', 'gaudi', 'gaunt', 'gave', \"gave't\", 'gavest', 'gay', 'gaze', 'gazer', 'gees', 'gem', 'gemini', 'gender', 'gener', 'geniu', 'gennet', 'gentl', 'gentle-folk', 'gentleman', 'gentlemen', 'gentler', 'gentlewoman', 'gentlewomen', 'gentli', 'gentri', 'georg', 'german', 'gertrud', 'gest', 'gestur', 'get', \"get'st\", 'ghost', 'ghostli', 'gib', 'gibbet', 'gibe', 'giber', 'giddi', 'gift', 'gild', 'gilt', 'gipsi', 'gird', 'girdl', 'girl', 'give', \"give't\", 'given', 'givest', 'glad', 'gladli', 'glanc', 'glare', 'glass', 'glean', 'glendow', 'glimps', 'glister', 'globe', 'glori', 'glorifi', 'gloriou', 'gloucest', 'glove', 'glow', 'glutton', 'gnarl', 'gnaw', 'go', \"go'st\", 'go-between', 'goal', 'goat', 'goblin', 'god', 'god-a-merci', 'god-den', 'god-lik', 'goddess', 'godfath', 'godli', 'goe', 'gold', 'golden', 'goliath', 'gone', 'goneril', 'gonzago', 'good', 'goodli', 'goos', 'gorbelli', 'gore', 'gorg', 'gossip', 'got', 'gout', 'govern', 'governor', 'gower', 'gown', 'grace', 'graceless', 'graciou', 'gracious', 'gradat', 'grain', 'grand', 'grand-juror', 'grandam', 'grandfath', 'grandpr', 'grandsir', 'grang', 'grant', 'grape', 'grasp', 'grass', 'grate', 'grati', 'gratiano', 'gratifi', 'gratul', 'grave', 'grave-mak', 'gravel', 'graviti', 'graybeard', 'graze', 'greas', 'greasi', 'great', 'great-grandfath', 'great-grown', 'greater', 'greatest', 'greatli', 'greedi', 'green', 'green-ey', 'greenli', 'greet', 'gregori', 'grew', 'grey', 'greyhound', 'grief', 'griev', 'grievanc', 'grievou', 'grievous', 'grim', 'grim-visag', 'grin', 'grind', 'gripe', 'grizzl', 'groan', 'groat', 'groom', 'grope', 'gross', 'grosser', 'grossli', 'ground', 'groundl', 'grow', 'grown', 'growth', 'grudg', 'grunt', 'guard', 'guess', 'guessingli', 'guest', 'guiana', 'guichard', 'guid', 'guil', 'guildenstern', 'guildhal', 'guilt', 'guilti', 'guiltless', 'guilty-lik', 'guinea-hen', 'gule', 'gulf', 'gull', 'gum', 'gun-ston', 'gunpowd', 'gurnet', 'gust', 'gut', 'gyve', 'ha', \"ha't\", 'habit', 'hack', 'hadst', 'hag', 'haggard', 'hail', 'hailston', 'hair', 'hair-breadth', 'hal', 'halberd', 'halbert', 'half', 'half-achiev', 'half-sword', 'halfpenni', 'hall', 'hallow', 'halt', 'halter', 'ham', 'hamlet', 'hammer', 'hampton', 'hand', 'hand-saw', 'handkerchief', 'handl', 'handsaw', 'handsom', 'hang', 'hanger', 'hangman', 'hap', 'hapless', 'hapli', 'happ', 'happi', 'happier', 'happili', 'har', 'harbour', 'hard', 'hard-favour', 'hardest', 'hardi', 'hardli', 'hare', 'harfleur', 'hark', 'harlot', 'harlotri', 'harm', 'harmless', 'harmoni', 'harp', 'harri', 'harsh', 'hart', 'harvest', 'harvest-hom', 'hast', 'hasten', 'hasti', 'hastili', 'hat', 'hatch', 'hate', 'hath', 'hatr', 'haughti', 'haunch', 'haunt', 'hautboy', \"have't\", 'hawk', 'hawthorn-bud', 'hawthorn-bush', 'hazard', 'head', 'headi', 'headshak', 'headstrong', 'heal', 'health', 'heap', 'hear', \"hear'st\", \"hear't\", 'heard', 'hearer', 'hears', 'heart', \"heart's-eas\", 'heart-ach', 'heart-burn', 'heart.', 'hearti', 'heartili', 'heartstr', 'heat', 'heathen', 'heav', 'heaven', 'heaven-kiss', 'heavenli', 'heavi', 'heavier', 'heaviest', 'heavili', 'heavy-head', 'hector', 'hecuba', 'hedg', 'heed', 'heel', 'height', 'heinous', 'heir', 'heir-appar', 'held', 'hell', 'hell-black', 'hell-fir', 'hell-pain', 'hellespont', 'hellish', 'helm', 'helmet', 'help', 'hen', 'henc', 'henceforth', 'henri', 'hent', 'her', 'herald', 'heraldri', 'herb', 'hercul', 'herd', 'hereaft', 'hereford', 'herein', 'hereto', 'heretofor', 'hern', 'hero', 'herod', 'hew', 'hey', 'hey-day', 'hic', 'hid', 'hidden', 'hide', 'hideou', 'hie', 'high', 'high-sight', 'higher', 'highli', 'hill', 'hillo', 'hilt', 'hind', 'hinder', 'hindmost', 'hing', 'hint', 'hip', 'hipparchu', 'hire', 'hiss', 'histori', 'hit', 'hither', 'hitherto', 'ho', 'hoard', 'hobby-hors', 'hobgoblin', 'hoist', 'holborn', 'hold', 'hole', 'holi', 'holla', 'holland', 'hollow', 'hollowli', 'holp', 'homag', 'home', 'honest', 'honesti', 'honey', 'honey-heavi', 'honour', 'hoodman-blind', 'hoof', 'hook', 'hope', 'horatio', 'horn', 'horolog', 'horribl', 'horrid', 'horridli', 'horror', 'hors', 'horse-sho', 'horseback', 'horsemen', 'hose', 'hospit', 'host', 'hostess', 'hostil', 'hostiliu', 'hot', 'hot-blood', 'hotspur', 'hotter', 'hound', 'hour', 'hourli', 'hous', 'house-affair', 'house-hold', 'household', 'housew', 'housewif', 'housewiferi', 'hovel', 'hover', 'howbeit', 'howev', 'howl', 'howsoev', 'hue', 'huge', 'hugh', 'hulk', 'hum', 'human', 'humbl', 'humbler', 'hume', 'humil', 'humour', 'humphrey', 'hundr', 'hung', 'hunt', 'hunter', 'huntingdon', 'huntsman', 'hurl', 'hurly-', 'hurt', 'husband', 'husbandri', 'hush', 'husk', 'hyperion', 'hypocrisi', 'hypocrit', 'hyrcanian', 'hyssop', \"i'ld\", 'i.', 'iago', 'icaru', 'ice', 'ice-brook', 'ici', 'ide', 'iden', 'idl', \"if't\", 'igni', 'ignobl', 'ignor', 'ii', 'iii', 'ill', 'ill-favoredli', 'ill-got', 'ill-nurtur', 'ill-starr', 'ill-temp', 'imag', 'imagin', 'imit', 'imman', 'immedi', 'immin', 'immodest', 'immort', 'impal', 'impart', 'imparti', 'impast', 'impati', 'impawn', 'impeach', 'impedi', 'imperfect', 'imperfectli', 'imperi', 'impieti', 'impiou', 'implor', 'import', 'importun', 'impos', 'imposit', 'imposs', 'imposthum', 'impress', 'imprison', 'impud', 'impur', 'imput', 'incag', 'incens', 'incestu', 'inch', 'incit', 'inclin', 'inconst', 'incorpor', 'increas', 'increaseth', 'incur', 'inde', 'indentur', 'index', 'indi', 'indian', 'indict', 'indiffer', 'indigest', 'indign', 'indirect', 'indiscret', 'indistinct', 'indu', 'induc', 'induct', 'indulg', 'industri', 'inevit', 'inexplic', 'infam', 'infami', 'infanc', 'infant', 'infect', 'infer', 'inferior', 'inferreth', 'infidel', 'infinit', 'infirm', 'inflam', 'inflict', 'influenc', 'inform', 'infortun', 'infring', 'infus', 'ingeni', 'ingot', 'ingrat', 'inherit', 'inheritor', 'inhoop', 'inhuman', 'iniqu', 'injunct', 'injur', 'injuri', 'injustic', 'inkhorn', 'inki', 'inmost', 'inn', 'innkeep', 'innoc', 'inocul', 'inquir', 'inquiri', 'insens', 'insert', 'inshipp', 'insid', 'insinu', 'insol', 'instal', 'instanc', 'instant', 'instantli', 'instat', 'instead', 'instig', 'instinct', 'institut', 'instruct', 'instrument', 'insupport', 'insuppress', 'insurrect', 'integr', 'intellig', 'intend', 'intent', 'inter', 'interim', 'interpos', 'interpret', 'interr', 'intertissu', \"into't\", 'intoler', 'intrud', 'inurn', 'invad', 'invent', 'inventori', 'invest', 'invis', 'invit', 'inward', 'ionian', 'ira', 'ireland', 'irk', 'irksom', 'iron', 'irreconcil', 'irrevoc', \"is't\", 'isabel', 'isabella', 'isl', 'island', 'isle.', 'israel', 'issu', 'itali', 'italian', 'itch', 'item', 'iter', 'iv', 'ix', 'jack', 'jack-a-l', 'jack-an-ap', 'jade', 'janu', 'jaqu', 'jar', 'jaw', 'jaw-bon', 'je', 'jealou', 'jealousi', 'jephthah', 'jerkin', 'jerusalem', 'jess', 'jest', 'jesu', 'jet', 'jew', 'jewel', 'jewri', 'jig', 'jig-mak', 'john', 'john-a-dream', 'join', 'joint', 'jolli', 'jot', 'jourdain', 'journal', 'journey', 'journeymen', 'jove', 'jowl', 'joy', 'judg', 'judgest', 'judgment', 'judici', 'juliu', 'jump', 'jumpeth', 'jupit', 'jure', 'justic', 'justifi', 'justli', 'jutti', 'kate', 'katharin', 'keen', 'keep', \"keep'st\", \"keep't\", 'keeper', 'keepest', 'kendal', 'kent', 'kentish', 'kept', 'kerchief', 'ketli', 'kettle-drum', 'key', 'kibe', 'kick', 'kidney', 'kill', 'killingworth', 'kin', 'kind', 'kinder', 'kindl', 'kindless', 'kindr', 'kine', 'king', 'kingdom', 'kingli', 'kinsman', 'kinsmen', 'kiss', 'kissing-comfit', 'kitchen', 'kite', 'knave', 'knaveri', 'knavish', 'knee', 'knee-crook', 'kneel', 'knew', \"knew'st\", 'knife', 'knight', 'knit', 'knive', 'knock', 'knot', 'know', \"know'st\", \"know't\", 'knowest', 'knowist', 'knowledg', 'known', 'la', 'labeo', 'labour', \"labour'st\", 'lack', 'lackey', 'lad', 'ladder', 'lade', 'laden', 'ladi', 'ladyship', 'laert', 'lag', 'laid', \"laid'st\", 'lamb', 'lame', 'lament', 'lamp', 'lancast', 'land', 'languag', 'lantern', 'lap', 'laps', 'lard', 'larg', 'larger', 'lascivi', 'last', 'late', 'late-walk', 'latest', 'lath', 'latter', 'laud', 'laugh', 'laughter', 'law', 'law-day', 'lawyer', 'lay', \"lay'st\", \"lay't\", 'layer', 'lazaru', 'le', 'lead', 'leaden', 'leader', 'leaf', 'leagu', 'lean', 'leap', 'leap-frog', 'lear', 'learn', 'least', 'leather', 'leav', \"leave't\", 'leaven', 'lecher', 'lecheri', 'lectur', 'led', 'leda', 'leer', 'leet', 'left', 'leg', 'legat', 'leger', 'legion', 'leisur', 'lena', 'lend', 'length', 'leniti', 'lent', 'lepidu', 'less', 'lessen', 'lesson', 'lest', 'lestral', 'let', 'leth', 'lethargi', 'letter', 'lettuc', 'level', 'lever', 'levi', 'leviathan', 'lewd', 'lewdli', 'lewi', 'liar', 'libel', 'liber', 'liberal-conceit', 'liberti', 'licenc', 'licenti', 'licha', 'lick', 'lie', 'lief', 'liefest', 'lieg', 'liegeman', 'liest', 'lieuten', 'lieutenantri', 'liev', 'life', 'life-tim', 'lift', 'ligariu', 'light', 'light-w', 'lightli', 'lightn', 'like', 'likedst', 'likelihood', 'likewis', 'limb', 'lime', 'lime-kiln', 'limit', 'lincolnshir', 'line', 'lineal', 'lineament', 'linen', 'linger', 'link', 'lion', 'lip', 'liquid', 'liquor', 'lisp', 'list', 'listen', 'litter', 'littl', 'live', 'liveri', 'livest', 'liveth', 'lo', 'load', 'loam', 'loath', 'lobbi', 'lock', 'lockram', 'locust', 'lodg', 'lodovico', 'lodowick', 'loggat', 'loin', 'london', 'long', 'longer', 'look', \"look'st\", 'looker', 'looking-glass', 'loop', 'loos', 'lord', 'lord-ship', 'lordship', 'lose', \"lose't\", 'loser', 'loss', 'lost', 'lot', 'lotteri', 'loud', 'lour', 'love', 'love-suit', 'lovedst', 'lovel', 'loveli', 'lover', 'lovest', 'loveth', 'lovingli', 'low', 'lower', 'lowest', 'lowli', 'lown', 'loyal', 'loyalti', 'lucianu', 'lucif', 'luciliu', 'lucio', 'luciu', 'luck', 'lucki', 'luckless', 'ludlow', 'lug', 'luke', 'lump', 'lunat', 'lung', 'lurch', 'lurk', 'lusciou', 'lust', 'lust-diet', 'lust-stain', 'lusti', 'lustr', 'lute', 'luxuri', 'lyingest', 'mace', 'machiavel', 'machin', 'mackerel', 'mad', 'madam', 'made', 'madest', 'madli', 'madman', 'madmen', 'maggot', 'magic', 'magistr', 'magnifico', 'maid', 'maiden', 'maim', 'main', 'mainli', 'maintain', 'majest', 'majesti', 'major', 'make', 'maker', 'makest', 'male', 'malefact', 'malic', 'malici', 'malign', 'malignantli', 'malkin', 'mallecho', 'man', 'manag', 'mandat', 'mandragora', 'mangl', 'manhood', 'mani', 'manifest', 'mankind', 'manli', 'manner', 'manor', 'manur', 'map', 'mar', 'marbl', 'marcellu', 'march', 'marcheth', 'marcian', 'marciu', 'marcu', 'mardian', 'margaret', 'marian', 'mariana', 'mark', 'market', 'market-plac', 'market-town', 'marketplac', 'marl', 'marquess', 'marri', 'marriag', 'marriage-dowri', 'marriage-vow', 'marrow', 'marshal', 'mart', 'marvel', 'masham', 'mask', 'mass', 'master', \"master's-m\", 'masterli', 'match', 'mate', 'matron', 'matter', 'mauritania', 'maw', 'may', 'mayor', 'mayst', 'mazzard', 'meal', 'mean', \"mean'st\", 'meanest', 'meant', 'meantim', 'measur', 'meat', 'mecaena', 'mechan', 'meddl', 'mediat', 'medicin', 'medit', 'meed', 'meet', \"meet'st\", 'meetest', 'meg', 'melancholi', 'mellow', 'melt', 'member', 'memento', 'memor', 'memori', 'men', 'mend', 'meneniu', 'mercenari', 'merchandis', 'merci', 'mercuri', 'mere', 'merit', 'mermaid', 'merri', 'merriest', 'merrili', 'merriment', 'mess', 'messala', 'messeng', 'met', 'metal', 'metellu', 'meteor', 'methink', 'method', 'methought', 'mettl', 'mew', 'mich', 'michael', 'micher', 'mickl', 'mid-day', 'middl', 'midnight', 'midwif', 'mienn', 'might', 'mightest', 'mighti', 'mightiest', 'mightst', 'mild', 'mildew', 'mile', 'million', 'millston', 'minc', 'mind', 'mine', 'miner', 'mingl', 'minion', 'minist', 'mino', 'minut', 'minx', 'miracl', 'miracul', 'mirror', 'mirth', 'mis-shap', 'misbegotten', 'miscarri', 'mischanc', 'mischief', 'mischiev', 'misconstru', 'miscreat', 'misdoubteth', 'miser', 'miseri', 'misgiv', 'mislead', 'mislik', 'miss', 'mist', 'mistak', 'misthink', 'mistress', 'mistrust', 'misus', 'mitig', 'moan', 'moat', 'mobl', 'mock', 'model', 'modest', 'modesti', 'moe', 'moi', 'moieti', 'moist', 'mole', 'molehil', 'moment', 'mon', 'monarch', 'monarchi', 'monasteri', 'mond', 'monday', 'money', 'monkey', 'monster', 'monster-lik', 'monstrou', 'montagu', 'montano', 'montgomeri', 'month', 'montjoy', 'monument', 'mood', 'moodi', 'moon', 'moor', 'moorship', 'mope', 'moral', 'mordak', 'moreov', 'mori', 'morn', 'morrow', 'morsel', 'mortal', 'mortim', 'mote', 'mother', 'motion', 'motiv', 'moult', 'moulten', 'mount', 'mountain', 'mourn', 'mourner', 'mous', 'mouse-trap', 'mouth', 'move', 'moveabl', 'mover', 'mow', 'much', 'mud', 'muddy-mettl', 'muffl', 'mule', 'multipli', 'multitud', 'mummi', 'munit', 'murder', 'muse', 'music', 'musician', 'muss', 'mussel-shel', 'must', 'musti', 'mute', 'mutin', 'mutini', 'mutter', 'mutual', 'mysteri', 'n', \"n't\", 'nail', 'nake', 'naked', 'name', 'napkin', 'napl', 'napless', 'narrow', 'nasti', 'nation', 'nativ', 'natur', 'naught', 'naughti', 'navi', 'nay', \"ne'er\", 'near', 'nearer', 'nearli', 'neat', 'necess', 'necessari', 'neck', 'need', 'needi', 'needl', 'neglect', 'neglig', 'neigh', 'neighbour', 'neighbourhood', 'neither', 'nell', 'nemean', 'nephew', 'neptun', 'nero', 'nerv', 'nessu', 'nestor', 'net', 'nether', 'nettl', 'neutral', 'never', 'new', 'new-ad', 'new-christen', 'new-deliv', 'new-light', 'new-mad', 'new-marri', 'new-year', 'newli', 'news', 'next', 'nice', 'nicely-gawd', 'nick-nam', 'niec', 'niggard', 'nigh', 'night', 'night-brawl', 'night-cap', 'night-crow', 'night-dog', 'night-gown', 'nightingal', 'nightli', 'nile', 'nilu', 'nimbl', 'nine', 'nineteen', 'niob', 'nip', 'nobi', 'nobil', 'nobl', 'nobleman', 'nobler', 'noblest', 'nobli', 'nobodi', 'nod', 'nois', 'nomin', 'none', 'nonsuit', 'normandi', 'north', 'north-north-west', 'northerli', 'northumberland', 'nose', 'nostril', 'notabl', 'note', 'notedli', 'noth', 'notic', 'notwithstand', 'nought', 'nourish', 'nourisheth', 'novelti', 'novic', 'numa', 'number', 'nunneri', 'nuptial', 'nurs', 'nut', 'nym', 'nymph', \"o'clock\", \"o'er\", \"o'er-count\", \"o'er-crow\", \"o'er-leaven\", \"o'er-reach\", \"o'er-run\", \"o'er-s\", \"o'er-watch\", \"o'erbear\", \"o'erblow\", \"o'ercharg\", \"o'ercom\", \"o'erdo\", \"o'erflow\", \"o'ergrown\", \"o'ergrowth\", \"o'erhang\", \"o'erheard\", \"o'erlook\", \"o'ermast\", \"o'erreach\", \"o'erstep\", \"o'ertak\", \"o'erthrown\", \"o'erween\", \"o'erweigh\", \"o'erwhelm\", \"o'erworn\", 'oak', 'oak-', 'oath', 'obdur', 'obedi', 'obey', 'object', 'oblig', 'oblivion', 'obscur', 'obsequi', 'observ', 'observingli', 'obstacl', 'obtain', 'occas', 'occult', 'occup', 'occurr', 'ocean', 'octavia', 'octaviu', 'ocular', 'odd', 'oddest', 'oeillad', 'off-capp', 'offal', 'offenc', 'offenceless', 'offend', 'offer', 'offic', 'office-badg', 'oft', 'often', 'oh', 'oil', 'old', 'olympu', 'olympus-high', 'omin', 'omit', 'omnipot', 'one', 'ooz', 'ope', 'open', 'ophelia', 'opinion', 'oppos', 'opposeless', 'opposit', 'oppress', 'oppressor', 'oracl', 'orat', 'orb', 'ordain', 'order', 'ordin', 'ordnanc', 'organ', 'origin', 'orison', 'orlean', 'ornament', 'orphan', 'osric', 'ossa', 'ostler', 'oswald', 'othello', 'other', 'otherwis', 'otter', 'ottomit', 'ourself', 'out-herod', 'out-tongu', 'outfac', 'outlaw', 'outliv', 'outrag', 'outran', 'outright', 'outroar', 'outrun', 'outsid', 'outsport', 'outstretch', 'outstrip', 'outward', 'over-aw', 'over-blown', 'over-earnest', 'over-measur', 'over-read', 'overdon', 'overgon', 'overheard', 'overmuch', 'overplu', 'overtak', 'overthrow', 'overtopp', 'overween', 'owe', 'owedst', 'owen', 'owest', 'owl', 'oxford', 'pace', 'pacifi', 'pack', 'pack-hors', 'packet', 'paddl', 'paddock', 'pagan', 'page', 'pageant', 'pah', 'paid', 'pain', 'paint', 'pair', 'pajock', 'palac', 'palat', 'pale', 'pali', 'pall', 'palm', 'palsi', 'palter', 'pander', 'pang', 'pant', 'paper', 'paradox', 'paragon', 'parallel', 'paramour', 'parcel', 'parch', 'parchment', 'pardo', 'pardon', 'pare', 'parent', 'pari', 'park', 'park-corn', 'parl', 'parley', 'parliament-hous', 'parlor', 'parlou', 'part', 'partak', 'parthia', 'parti', 'particl', 'particular', 'partlet', 'partli', 'partner', 'pass', 'passag', 'passeng', 'passeth', 'passion', 'passport', 'past', 'pastur', 'pat', 'patch', 'pate', 'patent', 'path', 'patienc', 'patient', 'patrick', 'patron', 'patronag', 'pattern', 'paul', 'paus', 'pave', 'pavilion', 'pawn', 'pay', 'peac', 'peacemak', 'peach', 'peak', 'pear', 'pearl', 'peasant', 'peck', 'peculiar', 'pedlar', 'peel', 'peep', 'peer', 'peerless', 'peevish', 'peg', 'pen', 'penanc', 'pendent', 'penetr', 'penit', 'penker', 'penni', 'peopl', 'pepper', 'peppercorn', 'peradventur', 'perceiv', 'perch', 'perchanc', 'perci', 'perdi', 'perdit', 'perdur', 'peremptori', 'peremptorili', 'perfect', 'perfectli', 'perforc', 'perform', 'perhap', 'peril', 'period', 'perish', 'periwig-p', 'perjur', 'perjuri', 'permiss', 'permit', 'pernici', 'perpendicular', 'perpetu', 'perplex', 'persecutor', 'person', 'persuad', 'persuas', 'pertain', 'pertin', 'perturb', 'perus', 'pervers', 'pervert', 'pestifer', 'pestil', 'petard', 'peter', 'petit', 'peto', 'petti', 'petticoat', 'phantasma', 'pharaoh', 'philippi', 'philosophi', 'phoebu', 'phrase', 'physic', 'pick', 'picker', 'pickt-hatch', 'pictur', 'pie', 'piec', 'pierc', 'pieti', 'pigeon-liv', 'pike', 'pilfer', 'pilgrimag', 'pill', 'pillag', 'pillar', 'pillow', 'pilot', 'pin', 'pinch', 'pindaru', 'pine', 'pinnac', 'pint-pot', 'pioner', 'piou', 'pipe', 'pirat', 'pish', 'piss', 'pistol', 'pit', 'pitch', 'pitchi', 'piteou', 'pith', 'piti', 'pizzl', 'place', 'plagu', 'plain', 'plainest', 'plainli', 'plaint', 'planet', 'plant', 'plantagenet', 'platform', 'plausibl', 'plausiv', 'play', \"play'st\", 'player', 'playfellow', 'pleach', 'plead', 'pleader', 'pleas', 'pleasant', 'pleasest', 'pleasur', 'plebeian', 'plebeii', 'pledg', 'plenteou', 'plenti', 'pli', 'pliant', 'plighter', 'plod', 'plot', 'plough', 'plu', 'pluck', 'plum', 'plum-tre', 'plume', 'plummet', 'plump', 'plung', 'pocket', 'poin', 'point', 'pois', 'poison', 'polack', 'poland', 'pole', 'polici', 'polit', 'politician', 'poloniu', 'pomfret-castl', 'pomp', 'pompeiu', 'pompey', 'ponder', 'pontic', 'poop', 'poor', \"poor'st\", 'pope', 'popiliu', 'popp', 'poppi', 'popul', 'popular', 'port', 'portag', 'portal', 'portanc', 'portend', 'porter', 'portia', 'portion', 'portli', 'portraitur', 'posi', 'posit', 'possess', 'possibl', 'post', 'post-hors', 'postern', 'postur', 'pot', 'potat', 'potato', 'potenc', 'potent', 'potenti', 'pother', 'potion', 'pottl', 'pottle-deep', 'poulter', 'pound', 'pour', 'poverti', 'powder', 'power', 'pox', 'practis', 'prais', 'prank', 'prate', 'prater', 'prattl', 'pray', \"pray'st\", 'prayer', 'pre-contract', 'preach', 'preacher', 'preced', 'precept', 'preciou', 'precis', 'predict', 'predomin', 'prefer', 'preferr', 'prefix', 'pregnant', 'prelat', 'premedit', 'prepar', 'preposter', 'prerogativ', 'prescrib', 'presenc', 'present', 'presenteth', 'preserv', 'press', 'pressur', 'presum', 'presumpt', 'presumptu', 'pretend', 'pretti', 'prevail', 'prevent', 'prey', 'pri', 'priam', 'price', 'prick', 'pride', 'priest', 'priesthood', 'prime', 'primero', 'princ', 'princess', 'princip', 'prison', 'prithe', 'privat', 'privi', 'privileg', 'privili', 'prize', 'prizest', 'probal', 'probat', 'proceed', 'process', 'proclaim', 'proclam', 'procreant', 'proculeiu', 'procur', 'prodig', 'produc', 'profan', 'profess', 'professor', 'proffer', 'profit', 'progenitor', 'progress', 'prologu', 'prolong', 'promethean', 'promis', 'promise-breach', 'promise-cram', \"promised'st\", 'promontori', 'promot', 'prompt', 'prompter', 'promulg', 'pronounc', 'proof', 'proper', 'properti', 'propheci', 'prophesi', 'prophet', 'propont', 'proport', 'propos', 'proprieti', 'proscript', 'prosecut', 'prospect', 'prosper', 'protect', 'protector', 'protectress', 'protest', 'proteu', 'proud', 'proudli', 'provand', 'prove', 'provend', 'proverb', 'proveth', 'provid', 'provinc', 'provinci', 'provis', 'provoc', 'provok', 'provokest', 'provost', 'prudent', 'prune', 'psalm', 'public', 'publicli', 'publish', 'publiu', 'pud', 'puff', 'puissanc', 'pull', 'pullet-sperm', 'pulpit', 'puls', 'puni', 'punish', 'puppet', 'puppi', 'purchas', 'pure', 'purer', 'purest', 'purg', 'purgat', 'purger', 'purpl', 'purpos', 'purs', 'pursi', 'pursu', 'push', 'put', 'puzzl', 'pyramid', 'pyrrhu', 'quadrangl', 'quail', 'quaintli', 'quak', 'qualif', 'qualifi', 'qualiti', 'qualm', 'quand', 'quantiti', 'quarrel', 'quarri', 'quart', 'quarter', 'quat', 'quay', 'queen', 'quench', 'quest', 'question', 'quick', 'quick-sand', 'quicken', 'quickli', 'quidditi', 'quiet', 'quietli', 'quietu', 'quillet', 'quintess', 'quintu', 'quip', 'quit', 'quittanc', 'r', 'rabbit-suck', 'rabbl', 'race', 'rack', 'racket', 'radish', 'rag', 'ragamuffin', 'rage', 'ragozin', 'rail', 'rain', 'rainbow', 'raini', 'rais', 'ram', 'rambur', 'ran', 'rancor', 'rancour', 'rang', 'rank', 'ranker', 'rankest', 'rannest', 'ransom', 'rant', 'rapier', 'raptur', 'rare', 'rascal', 'rascalliest', 'rash', 'rashli', 'rat', 'ratcliff', 'rate', 'rather', 'ratifi', 'rattl', 'ravel', 'raven', 'ravish', 'raw', 'rawer', 'raze', 'razur', 're-ent', 're-tel', 're-word', 'reach', 'read', 'readi', 'readiest', 'realm', 'reap', 'reason', 'rebel', 'rebelli', 'rebellion', 'rebuk', 'recal', 'receiv', \"receive't\", 'receivest', 'reckless', 'reckon', 'recogniz', 'recoil', 'recompens', 'reconcil', 'record', 'recount', 'recours', 'recov', 'recoveri', 'recreat', 'rectorship', 'red', 'red-lattic', 'red-nos', 'redeem', 'redempt', 'redress', 'reechi', 'reek', 'reel', 'refer', 'reflect', 'reform', 'refrain', 'refresh', 'refus', 'regal', 'regan', 'regard', 'regent', 'region', 'reguerdon', 'rehears', 'reign', 'reignier', 'rein', 'reinforc', 'rejoic', 'rel', 'relaps', 'relat', 'releas', 'relent', 'reli', 'relief', 'reliev', 'religi', 'religion', 'relish', 'relum', 'remain', 'remedi', 'rememb', 'remembr', 'remiss', 'remit', 'remonstr', 'remors', 'remorseless', 'remov', 'rend', 'render', 'renounc', 'renown', 'rent', 'repaid', 'repair', 'repay', 'repeal', 'repent', 'repin', 'replet', 'repli', 'replic', 'report', 'repos', 'reprehend', 'repriev', 'reproach', 'reproof', 'reprov', 'reput', 'request', 'requir', 'requireth', 'requisit', 'requit', 'rescu', 'resembl', 'reserv', 'resid', 'resign', 'resolut', 'resolv', 'respect', 'respit', 'rest', 'restitut', 'restor', 'restrain', 'restraint', 'retir', 'retort', 'retreat', 'return', 'returneth', 'reveal', 'revel', 'reveng', 'revenu', 'rever', 'reverend', \"revisit'st\", 'reviv', 'revolt', 'revolut', 'revolv', 'reward', 'reynaldo', 'rhapsodi', 'rhenish', 'rheum', 'rhode', 'rhyme', 'rib', 'rich', 'richard', 'richer', 'richest', 'richli', 'ridden', 'riddl', 'ride', 'ridg', 'right', 'righteou', 'rightli', 'rigor', 'rim', 'ring', 'ripe', 'ripen', 'rise', 'riseth', 'rite', 'river', 'rivet', 'road', 'roar', 'roast', 'rob', 'robb', 'robber', 'robberi', 'robe', 'robin', 'robusti', 'rock', 'rod', 'roderigo', 'roger', 'rogu', 'rogueri', 'roman', 'rome', 'rood', 'roof', 'rook', 'room', 'root', 'rope', 'rosciu', 'rose', 'rose-lipp', 'rosencrantz', 'rot', 'rotten', 'rouen', 'rough', 'rough-hew', 'roughli', 'round', 'round-womb', 'rous', 'roussi', 'rout', 'row', 'rowland', 'roy', 'royal', 'royalti', 'rub', 'rubb', 'rudder', 'ruddi', 'rude', 'rue', 'ruffian', 'ruffl', 'rug', 'ruin', 'ruinou', 'rule', 'ruler', 'rumin', 'rumour', 'run', \"runn'st\", 'ruptur', 'rush', 'rust', 'rusti', 'rut-tim', 'ruth', 'rutland', 'sabl', 'sack', 'sacr', 'sacrific', 'sad', 'sad-heart', 'saddl', 'safe', 'safeguard', 'safer', 'safeti', 'sage', 'sagittari', 'said', \"said'st\", 'sail', 'sailor', 'saint', 'sake', 'salamand', 'salanio', 'salari', 'salarino', 'saliqu', 'salisburi', 'sallet', 'salmon', 'salt', 'salt-butt', 'salut', 'salvat', 'san', 'sanctimoni', 'sand', 'sap', 'sapl', 'sardi', 'sat', 'sate', 'satieti', 'satir', 'satisfact', 'satisfi', 'satyr', 'sauci', 'saucili', 'saunder', 'savag', 'save', 'savour', 'savouri', 'saw', \"saw't\", 'say', \"say'st\", 'sayest', 'scale', 'scambl', 'scan', 'scandal', 'scann', 'scant', 'scantli', 'scape', 'scar', 'scarc', 'scarecrow', 'scarf', 'scarlet', 'scaru', 'scath', 'scatter', 'scene', 'sceptr', 'scholar', 'school', 'school-boy', 'schoolfellow', 'schoolmast', 'scienc', 'scion', 'scold', 'sconc', 'scope', 'scorch', 'score', 'scorn', 'scot', 'scotland', 'scourg', 'scriptur', 'scriven', 'scroop', 'scrupl', 'scrupul', 'scullion', 'scurvi', 'scut', 'scutcheon', 'scyth', 'sea', 'sea-fight', 'sea-gown', 'sea-lik', 'sea-mark', 'sea-port', 'sea-sid', 'seal', 'seal-r', 'sear', 'search', 'season', 'seat', 'second', 'secondari', 'secreci', 'secret', 'secretli', 'sect', 'secur', 'see', \"see'st\", \"see't\", 'seed', 'seedsman', 'seek', 'seel', 'seem', 'seemer', 'seemeth', 'seen', 'seest', 'seiz', 'seld-shown', 'seldom', 'self', 'self-bounti', 'self-lov', 'self-off', 'self-slaught', 'selfsam', 'sell', 'semblabl', 'semblanc', 'semi-circl', 'senat', 'senate-hous', 'send', 'sender', 'sennet', 'sens', 'sensual', 'sent', 'sentenc', 'sentinel', 'separ', 'sepulchr', 'sequel', 'sequent', 'sequest', 'sequestr', 'sere', 'sergeant', 'seriou', 'serious', 'serpent', 'serpigo', 'serv', 'servant', 'servest', 'serveth', 'servic', 'servil', 'serving-man', 'serving-men', 'servingmen', 'servitor', 'servitud', 'session', 'set', \"set'st\", 'settl', 'seven', 'seven-fold', 'seventi', 'sever', 'sew', 'sex', 'sexton', 'sextu', 'shade', 'shadow', 'shake', 'shaken', 'shall', 'shallow', 'shalt', 'shambl', 'shame', 'shamest', 'shape', 'share', 'sharp', 'sharp-point', 'shave', 'shaw', \"she'ld\", 'she-mercuri', 'shear', 'sheath', 'shed', 'sheep', 'sheepskin', 'sheet', 'shelf', 'shell', 'shelter', 'shelvi', 'shent', 'shepherd', 'sheriff', 'shew', 'shield', 'shift', 'shill', 'shine', 'ship', 'ship-tir', 'shipwreck', 'shirt', 'shock', 'shoe', 'shook', 'shop', 'shore', 'short', 'shorter', 'shortli', 'shot', 'shot-fre', 'shotten', 'shoulder', 'shouldst', 'shout', 'shove', 'shovel', 'show', 'shower', 'shown', 'shred', 'shrewd', 'shrewdli', 'shrewsburi', 'shriek', 'shrift', 'shrill', 'shrill-shriek', 'shrink', 'shriving-tim', 'shrub', 'shuffl', 'shun', 'shut', 'shuttl', 'sibyl', 'sicilia', 'sick', 'sicken', 'sickli', 'sicyon', 'side', 'sieg', 'sift', 'sigh', 'sight', 'sign', 'signal', 'signet', 'signifi', 'signior', 'signiori', 'signum', 'silenc', 'silent', 'silk', 'silken', 'silli', 'silver', 'simil', 'simpcox', 'simpl', 'sin', 'sinc', 'sincer', 'sinew', 'sing', 'singer', 'singl', 'sinist', 'sink', 'sinner', 'sinon', 'sir', 'sire', 'sirrah', 'sister', 'sit', 'sith', 'six', 'sixpenc', 'sixteen', 'sixth', 'size', 'skil', 'skill', 'skillet', 'skin', 'skirmish', 'skirr', 'skirt', 'skull', 'sky', 'skyey', 'slack', 'slain', 'slander', 'slaughter', 'slaughter-hous', 'slaughtermen', 'slave', 'slaveri', 'slay', 'sleep', \"sleep'st\", 'sleeper', 'sleepi', 'sleev', 'slender', 'slept', 'slew', 'sli', 'slight', 'slightli', 'slili', 'slime', 'sling', 'slip', 'slipper', 'slipperi', 'slough', 'slovenri', 'slow', 'slower', 'slumber', 'small', 'smallest', 'smatch', 'smear', 'smell', \"smell'st\", 'smelt', 'smile', 'smirch', 'smithfield', 'smock', 'smooth', 'smote', 'smother', 'snaffl', 'snarl', 'snatch', 'snatcher', 'sneak', 'sneak-cup', 'snipe', 'snort', 'snow', 'snowbal', 'snuff', 'soak', 'soar', 'sob', 'sober', 'societi', 'sock', \"soe'er\", 'soever', 'soft', 'softli', 'soil', 'solac', 'sold', 'soldier', 'soldier-breed', 'soldiership', 'sole', 'solemn', 'solemnli', 'solicit', 'solid', 'somebodi', 'somerset', 'someth', 'sometim', 'somewhat', 'son', 'son-in-law', 'song', 'soon', 'sooner', 'soonest', 'sooth', 'soothsay', 'sore', 'sorri', 'sorrow', 'sort', 'sought', 'soul', 'sound', 'soundless', 'soundli', 'sour', 'sous', 'southerli', 'southwel', 'sovereign', 'sovereignti', 'sow', 'space', 'spaciou', 'spade', 'spain', 'spake', 'span', 'spaniel', 'spare', 'sparingli', 'spark', 'sparkl', 'sparrow', 'speak', \"speak'st\", 'speaker', 'speakest', 'special', 'spectacl', 'spectat', 'specul', 'speech', 'speed', 'speedili', 'spell', 'spend', 'spendest', 'spi', 'spider', 'spill', 'spilt', 'spinster', 'spirit', 'spirit-stir', 'spiritu', 'spirt', 'spit', 'spite', 'spitteth', 'spleen', 'splenit', 'splinter', 'split', 'spoil', 'spoke', 'spoken', 'spong', 'sport', 'sportiv', 'spot', 'spotless', \"sprang'st\", \"sprawl'st\", 'spread', 'sprightli', 'spring', 'sprite', 'spur', 'spurn', 'squadron', 'squar', 'squarest', 'squeez', 'squier', 'squir', 'st.', 'stab', 'stabb', 'staff', 'stag', 'stage', 'stain', 'stair', 'stake', 'stale', 'stall', 'stamp', 'stand', 'standers-bi', 'standing-tuck', 'stanley', 'star', 'stare', 'start', 'starv', 'starvel', 'state', 'statesman', 'station', 'statist', 'statut', 'stay', 'stead', 'steal', 'stealer', 'steed', 'steel', 'steep', 'steep-down', 'stell', 'step', 'stephen', 'steril', 'stern', 'stew', 'sti', 'stick', 'stiff', 'stiffen', 'stiffli', 'stifl', 'still', 'sting', 'stink', 'stinkingli', 'stir', 'stirr', 'stirrer', 'stithi', 'stock', 'stock-fish', 'stol', 'stole', 'stolen', 'stomach', 'stone', 'stony-heart', 'stood', 'stool', 'stoop', 'stop', 'stopp', 'store', 'stori', 'storm', 'stormi', 'stoup', 'stout', 'stouter', 'stow', 'straight', 'straightway', 'strain', 'strait', 'straiter', 'strang', 'stranger', 'strangl', 'strappado', 'stratagem', 'strato', 'straw', 'strawberri', 'stray', 'stream', 'street', 'strength', 'strengthen', 'stretch', 'strew', 'stricken', 'strict', 'strictur', 'strife', 'strike', 'strikest', 'string', 'strip', 'stripe', 'stripl', 'strive', 'strivest', 'stroke', 'strong', 'stronger', 'strongli', 'struck', 'strucken', 'strumpet', 'strut', 'stubborn', 'stuck', 'studi', 'stuff', 'stumbl', 'sturdi', 'style', 'su', 'subdu', 'subject', 'suborn', 'subscrib', 'subsidi', 'substanc', 'substanti', 'substitut', 'subtl', 'subtli', 'subvers', 'succe', 'success', 'succor', 'such-a-on', 'such-lik', 'suck', 'suckl', 'sudden', 'suddenli', 'sue', 'suffer', \"suffer'st\", 'suffic', 'sufficeth', 'suffici', 'suffoc', 'suffolk', 'sugar', 'suggest', 'suit', 'suitor', 'sulphur', 'sultri', 'sum', 'summer', 'summon', 'sumptuou', 'sun', 'sun-burn', 'sunder', 'sung', 'sup', 'superflu', 'superscript', 'supersubtl', 'supervis', 'supervisor', 'supp', 'supper', 'suppertim', 'suppli', 'suppliant', 'support', 'suppos', 'supposed-evil', 'suppress', 'supremaci', 'sur', 'sure', 'surer', 'sureti', 'surg', 'surgeon', 'surgeri', 'surli', 'surmis', 'surpris', 'survey', 'suspect', 'suspici', 'suspicion', 'suspir', 'sustain', 'sutton', 'swaddling-clout', 'swag-belli', 'swagger', 'swain', 'swallow', 'swan', 'sway', 'swear', \"swear't\", 'swearer', 'sweat', 'sweep', 'sweet', 'sweeter', 'sweetli', 'swell', 'swerv', 'swift', 'swill', 'swine-keep', 'swinish', 'sword', 'sword-hilt', 'swore', 'sworest', 'sworn', 'syllabl', 'symbol', 'sympathi', 'syrup', \"ta'en\", 'tabl', 'tabourin', 'tack', 'tail', 'tailor', \"tailor's-yard\", 'taint', 'take', 'taken', 'talbot', 'tale', 'talk', 'tall', 'tallow', 'talon', 'tame', 'tantaen', 'taper', 'tapster', 'tardi', 'tarentum', 'target', 'tarquin', 'tarri', 'tartar', 'task', 'tast', 'tatter', 'taught', 'taunt', 'tauru', 'tavern', 'tawni', 'tawny-coat', 'tax', 'teach', 'teachest', 'tear', 'tear-stain', 'tediou', 'teem', 'teeth', 'tell', 'tellest', 'temper', 'tempest', 'tempestu', 'tempt', 'ten', 'ten-fold', 'tenabl', 'tend', 'tender', 'tender-feel', 'tenderli', 'tenor', 'tent', 'tenth', 'tenur', 'term', 'termag', 'terren', 'terribl', 'terror', 'test', 'testi', 'testimoni', 'tewksburi', 'th', 'thame', 'thank', 'thaso', 'thaw', 'theatr', 'thee', 'thee.', 'theft', 'theme', 'thenc', 'theoric', 'thereabout', 'therebi', 'therefor', 'therein', 'thereof', 'thereon', 'thereto', 'thereunto', 'thereupon', 'therewith', 'theti', \"they'ld\", 'thi', 'thick', 'thicken', 'thicket', 'thief', 'thiev', 'thigh', 'thin', 'thine', 'thing', 'think', \"think'st\", 'thinkest', 'thinli', 'third', 'thirti', 'thirtieth', 'this.', 'thither', 'thoma', 'thorn', 'thorni', 'thoroughli', 'thou', \"thou'lt\", \"thou'rt\", 'though', 'thought', 'thought-sick', 'thousand', 'thousand-fold', 'thrall', 'thread', 'threat', 'threaten', 'three', 'threescor', 'threshold', 'threw', 'thrice', 'thrice-driven', 'thrice-gorg', 'thrice-nobl', 'thrift', 'thrifti', 'thrill', 'thrive', 'throat', 'throne', 'throng', 'throughout', 'throw', 'thrown', 'thrust', 'thu', 'thumb', 'thumb-r', 'thunder', 'thunderbolt', 'thwart', 'thyme', 'thyreu', 'thyself', 'ti', 'tiber', 'tickl', 'tickle-brain', 'tide', 'tie', 'tiger', 'tight', 'tightli', 'till', 'tilt', 'time', 'time-pleas', 'timeless', 'timeli', 'timor', 'tin', 'tinderbox', 'tip-to', 'tire', 'tire-vali', 'tith', 'titiniu', 'titl', \"to't\", 'to-day', 'to-morrow', 'to-night', 'toad', 'toast', 'toasts-and-butt', 'toe', 'toge', 'togeth', 'toil', 'token', 'told', 'tomb', 'tombless', 'tomorrow', 'tongu', 'tongue-ti', 'tongueless', 'tonight', 'took', \"took't\", 'tooth', 'top', 'topp', 'torch', 'torment', 'torrent', 'tortur', 'toryn', 'toss', 'total', 'touch', 'tough', 'tow', 'toward', 'tower', 'town', 'town-crier', 'townsman', 'toy', 'trace', 'tractabl', 'trade', 'trade-fallen', 'traduc', 'tragedi', 'tragic', 'train', 'traitor', 'tranc', 'tranquil', 'transform', 'translat', 'transmigr', 'transport', 'trap', 'trash', 'travel', 'travers', 'tre', 'treacher', 'treacheri', 'tread', 'treason', 'treasur', 'treasuri', 'treati', 'trebl', 'treble-sinew', 'treboniu', 'tree', 'trembl', 'tremblest', 'trencher', 'trespass', 'tri', 'trial', 'trial-day', 'tribe', 'tribun', 'tribut', 'tributari', 'trick', 'trickl', 'trifl', 'trim', 'trimm', 'trip', 'triple-turn', 'trippingli', 'trist', 'triumph', 'trivial', 'trodden', 'troop', 'tropic', 'troth', 'troubl', 'troublou', 'troy', 'truant', 'truce', 'trudg', 'true', 'true-heart', 'truepenni', 'truer', 'truli', 'truly-fals', 'trump', 'trumpet', 'truncheon', 'trunk', 'trust', 'truster', 'trusti', 'truth', 'tucket', 'tug', 'tullu', 'tumbl', 'tumult', 'tumultu', 'tune', 'turban', 'turf', 'turk', 'turkish', 'turn', 'tush', 'tut', 'tutor', 'twa', 'twain', 'tweak', 'twelv', 'twenti', 'twentieth', 'twice', 'twig', 'twin-born', 'twinn', 'two', 'two-leg', 'tyrann', 'tyranni', 'tyrant', 'ubiqu', 'ugli', 'ulcer', 'ulyss', 'umbrag', 'umpir', 'unaccustom', 'unarm', 'unauthor', 'unawar', 'unbit', 'unblest', 'unbonnet', 'unbookish', 'unborn', 'unbound', 'unbuckl', 'unburthen', 'uncap', 'uncaught', 'uncl', 'uncle-fath', 'uncleanli', 'uncoin', 'unconfin', 'unction', 'uncurb', 'uncurr', 'undergo', 'understand', 'understood', 'undertak', 'undeserv', 'undid', 'undiscov', 'undo', 'undon', 'uneath', 'unequ', 'uneven', 'unfashion', 'unfeel', 'unfinish', 'unfit', 'unfold', 'unforc', 'unfortun', 'unfurnish', 'ungal', 'ungentl', 'ungotten', 'unhallow', 'unhand', 'unhang', 'unhelp', 'unhous', 'unhurt', 'union', 'unit', 'univers', 'unjust', 'unjustli', 'unkennel', 'unkind', 'unknown', 'unlac', 'unless', 'unlick', 'unlik', 'unload', 'unlock', 'unlook', 'unlucki', 'unmak', 'unmann', 'unmeet', 'unmerci', 'unmerit', 'unmix', 'unmov', 'unnatur', 'unnobl', 'unpack', 'unpeg', 'unpeopl', 'unpregn', 'unprepar', 'unpress', 'unprofit', 'unprop', 'unprovid', 'unpurpos', 'unquest', 'unreconcil', 'unregist', 'unremov', 'unright', 'unruli', 'unsati', 'unsatisfi', 'unsavouri', 'unseal', 'unseen', 'unshapen', 'unshunn', 'unsist', 'unskil', 'unspot', 'unstat', 'unsuit', 'unsur', 'unswear', 'untaint', 'untemp', 'untir', 'unto', \"unto't\", 'untouch', 'unus', 'unusu', 'unvarnish', 'unwash', 'unweed', 'unwil', 'unwish', 'unwit', 'unwittingli', 'unworthi', 'unwrung', 'up-spr', 'upbraid', 'uphold', 'upmost', 'upo', 'upon', 'upright', 'upris', 'upward', 'urg', 'urgent', 'urn', 'us', 'usag', 'use', 'useth', 'usual', 'usur', 'usurp', 'utmost', 'utter', 'utterli', 'uttermost', 'v', 'v.', 'vacant', 'vain', 'vale', 'valenc', 'valentinu', 'valiant', 'valiantli', 'valour', 'valu', 'vanish', 'vanishest', 'vaniti', 'vanquish', 'vantag', 'vapor', 'vapour', 'variabl', 'varlet', 'varriu', 'varro', 'vassal', 'vast', 'vasti', 'vaudemont', 'vaughan', 'vault', 'vaunt', 'vehem', 'vehement', 'veil', 'vein', 'venetian', 'veng', 'vengeanc', 'venial', 'venic', 'venom', 'vent', 'ventag', 'ventidiu', 'ventur', 'verbatim', 'veriest', 'verit', 'veriti', 'vernon', 'vers', 'vesper', 'vessel', 'vestur', 'vex', 'vexat', 'vi', 'via', 'viand', 'vice', 'viciou', 'vicious', 'victor', 'victori', 'vienna', 'view', 'vigil', 'vii', 'viii', 'vile', 'villag', 'villain', 'villan', 'villani', 'vincentio', 'violat', 'violenc', 'violent', 'violet', 'viper', 'virgilia', 'virgin', 'virtu', 'virtuou', 'virtuous', 'visag', 'visibl', 'vision', 'visit', 'vital', 'vocat', 'voic', 'void', 'volsc', 'volubl', 'volum', 'volumnia', 'volumniu', 'voluntari', 'vomit', 'votr', 'vou', 'vouch', 'voucher', 'vouchsaf', 'vow', 'voyag', 'vulcan', 'vulgar', 'wag', 'wage', 'wager', 'wail', 'waist', 'wait', 'wake', 'waken', 'wale', 'walk', 'wall', 'walter', 'wand', 'wander', 'wann', 'want', \"want'st\", 'wanton', 'war', 'war-proof', 'ward', 'warder', 'wardrob', 'wari', 'warlik', 'warm', 'warp', 'warrant', 'warrior', 'wart', 'warwick', 'warwickshir', \"was't\", 'wash', 'waspish', 'wassail', 'wast', 'watch', 'watchmen', 'water', 'water-fli', 'water-flow', 'water-stand', 'wave', 'waver', 'wax', 'waxen', 'way', \"we'ld\", 'weak', 'weak.', 'weaker', 'weal', 'wealth', 'weapon', 'wear', 'wearest', 'weari', 'weasel', 'weaver', 'web', 'wed', 'wednesday', 'weed', 'weeder-out', 'week', 'weep', \"weep'st\", 'weet', 'weigh', \"weigh'st\", 'weight', 'weighti', 'welcom', 'well', 'well-advis', 'well-balanc', 'well-chosen', 'well-favor', 'well-hallow', 'well-learn', 'well-mind', 'well-paint', 'well-seem', 'well-spoken', 'well-warr', 'welsh', 'welshman', 'wench', 'wend', 'went', \"went'st\", 'wept', \"were't\", 'wert', 'west', 'westmoreland', 'wet', 'whale', \"whate'\", 'whatsoev', 'wheaten', 'wheel', 'whelp', 'whenc', 'whensoev', 'wherefor', 'wherein', 'whereinto', 'whereof', 'whereon', 'wheresoev', 'whereto', 'whereupon', 'wherewith', 'whet', 'whether', 'whew', 'while', 'whilst', 'whine', 'whip', 'whipp', 'whipster', 'whipt', 'whirlwind', 'whisper', 'whistl', 'whit', 'white', 'white-friar', 'whiter', 'whitest', 'whither', 'whitmor', 'whizz', 'whole', 'wholesom', 'wholesomest', 'whoop', 'whore', 'whoremast', 'whoreson', 'whose', 'wi', 'wick', 'wicked', 'wide', 'wider', 'widow', 'wield', 'wife', 'wight', 'wil', 'wild', 'wild-cat', 'wild-duck', 'wild-gees', 'wilder', 'wildfir', 'will', \"will't\", 'william', 'willing', 'willingli', 'wilt', 'win', 'winc', 'winchest', 'wind', 'windi', 'winding-sheet', 'window', 'windsor', 'wine', 'wing', 'wink', 'winner', 'winnow', 'winter', 'wipe', 'wisdom', 'wise', 'wisest', 'wish', 'wit', 'witch', 'witchcraft', 'withal', 'withdraw', 'withdrew', 'wither', 'withhold', 'within', 'without', 'withstand', 'witless', 'wittenberg', 'wittingli', 'wittolli', 'wive', 'woe', 'woful', 'wolf', 'wolv', 'woman', 'womanhood', 'womb', 'women', 'wonder', 'wonder-wound', 'wondrou', 'wont', 'woo', \"woo't\", 'wood', 'woodman', 'woodvil', 'wooe', 'worcest', 'word', 'wore', 'work', 'working-day', 'workman', 'world', 'worldli', 'worm', 'wormwood', 'worn', 'worri', 'wors', 'worser', 'worship', 'worshipp', 'worst', 'wort', 'worth', 'worthi', 'worthier', 'worthiest', 'worthless', 'wot', 'would', 'wouldst', 'wound', 'wrangl', 'wrangler', 'wrap', 'wrath', 'wreath', 'wreck', 'wren', 'wrest', 'wrestl', 'wretch', 'wretched', 'wring', 'wrinkl', 'writ', 'write', 'writer', 'written', 'wrong', 'wronger', 'wrote', 'wrought', 'wrung', 'x.', 'xi', 'xii', 'xiii', 'xv', 'y-clad', 'yard', 'yare', 'yaw', 'yawn', 'ye', 'yea', 'year', 'yearli', 'yearn', 'yedward', 'yell', 'yeoman', 'yerk', 'yesterday', 'yesti', 'yet', 'yield', 'yoke', 'yoke-devil', 'yon', 'yond', 'yonder', 'yorick', 'york', \"you'ld\", 'you.', 'young', 'younger', 'youngest', 'youngli', 'younker', 'youth', 'zone']\n"
          ]
        }
      ],
      "source": [
        "terms = tfidf_vectorizer.get_feature_names()\n",
        "print(terms)"
      ]
    },
    {
      "cell_type": "markdown",
      "metadata": {
        "id": "u1hSd3NZqL9d"
      },
      "source": [
        "# Finding cosine similarity"
      ]
    },
    {
      "cell_type": "code",
      "execution_count": null,
      "metadata": {
        "id": "d4M2QOSEqL9d"
      },
      "outputs": [],
      "source": [
        "def get_cosine_matrix(sentence):\n",
        "    vect = tfidf_vectorizer.transform([sentence])\n",
        "    dictionary = dict()\n",
        "    for i in range(tfidf_matrix.shape[0]):\n",
        "        dictionary[df['Play'].iloc[i]]=1-cosine_similarity(vect,tfidf_matrix[i])[0][0]#1-0-1\n",
        "    dictionary = dict(sorted(dictionary.items(), key=lambda item: item[1]))\n",
        "    return dictionary"
      ]
    },
    {
      "cell_type": "markdown",
      "metadata": {
        "id": "0mlFYHaQqL9e"
      },
      "source": [
        "# Inserting the query and find similar search"
      ]
    },
    {
      "cell_type": "code",
      "execution_count": null,
      "metadata": {
        "id": "1orJszLPqL9e",
        "outputId": "8962de23-a2e6-4475-ad7e-984a5fe362f3"
      },
      "outputs": [
        {
          "name": "stdout",
          "output_type": "stream",
          "text": [
            "Enter the PlayerLine of Play to get recommendation :- \n",
            "# But I have that within which passeth show /// It is not nor it cannot come to good /// And makes each petty artery in this body /// That you must teach me. But let me conjure you, by /// Exit \n",
            "\n",
            "Related Plays and Players:- \n",
            " ['Henry VI Part 2', 'Henry IV', 'Henry VI Part 1', 'Henry VI Part 3', 'Antony and Cleopatra']\n"
          ]
        }
      ],
      "source": [
        "sentence = input(\"Enter the PlayerLine of Play to get recommendation :- \\n\")\n",
        "matrix1 = get_cosine_matrix(sentence)\n",
        "matrix = list(get_cosine_matrix(sentence).keys())\n",
        "lst = []\n",
        "for i in range(5):\n",
        "    lst.append(matrix[i])\n",
        "print(\"\\nRelated Plays and Players:- \\n\",lst)"
      ]
    },
    {
      "cell_type": "code",
      "execution_count": null,
      "metadata": {
        "id": "aRHXDyT1qL9e"
      },
      "outputs": [],
      "source": [
        "# some example of queries\n",
        "\n",
        "# You tread upon my patience: but be sure /// Danger and disobedience in thine eye /// Whose tongue shall ask me for one penny cost /// We licence your departure with your son /// Betwixt that Holmedon and this seat of ours\n",
        "# More dazzled and drove back his enemies /// Except it be to pray against thy foes /// These news would cause him once more yield the ghost /// Exit /// BISHOP\n",
        "# But I have that within which passeth show /// It is not nor it cannot come to good /// And makes each petty artery in this body /// That you must teach me. But let me conjure you, by /// Exit\n",
        "# It speaks against her with the other proofs /// Yet be content /// Is my lord angry /// When it hath blown his ranks into the air /// To kiss in private /// From this time forth I never will speak word\n",
        "# hostess of the tavern a most sweet wench /// time and oft /// Thou hast the most unsavoury similes and art indeed /// Christendom /// and I paid nothing for it neither, but was paid for\n",
        "# He has no equal /// Come, sir, come, we know you well enough /// In that there's comfort /// But hearts for the event /// And we will follow\n",
        "# Escalus /// That does affect it. Once more, fare you well /// Goes all decorum. /// Enter ISABELLA and FRANCISCA /// Even like an o'ergrown lion in a cave,"
      ]
    },
    {
      "cell_type": "markdown",
      "metadata": {
        "id": "5tosgtx3qL9e"
      },
      "source": [
        "# Learning Outcomes"
      ]
    },
    {
      "cell_type": "markdown",
      "metadata": {
        "id": "lHi0JRsdqL9e"
      },
      "source": [
        "1. Get detailed knowledge of pre processing steps with it's importnace & technical terms like corpus,vectorize\n",
        "2. Get to know the importnace of the filtering process for the corpus and methodology\n",
        "3. Get to know what is cosine similarity,term frquency,tf-idf and their pros&cons."
      ]
    },
    {
      "cell_type": "code",
      "execution_count": null,
      "metadata": {
        "id": "PCN1xCfmqL9f"
      },
      "outputs": [],
      "source": []
    }
  ],
  "metadata": {
    "kernelspec": {
      "display_name": "Python 3",
      "language": "python",
      "name": "python3"
    },
    "language_info": {
      "codemirror_mode": {
        "name": "ipython",
        "version": 3
      },
      "file_extension": ".py",
      "mimetype": "text/x-python",
      "name": "python",
      "nbconvert_exporter": "python",
      "pygments_lexer": "ipython3",
      "version": "3.7.6"
    },
    "colab": {
      "provenance": []
    }
  },
  "nbformat": 4,
  "nbformat_minor": 0
}