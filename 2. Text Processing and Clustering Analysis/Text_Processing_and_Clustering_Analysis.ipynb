{
  "cells": [
    {
      "cell_type": "code",
      "execution_count": null,
      "metadata": {
        "id": "PA3ed6BSqK8L"
      },
      "outputs": [],
      "source": [
        "# Importing necessary libraries\n",
        "\n",
        "import nltk\n",
        "from nltk.corpus import stopwords\n",
        "from nltk.stem import PorterStemmer\n",
        "import pandas as pd\n",
        "import matplotlib.pyplot as plt\n",
        "from wordcloud import WordCloud\n",
        "import numpy as np\n",
        "from PIL import Image\n",
        "from scipy.cluster.hierarchy import ward, dendrogram\n",
        "from sklearn.feature_extraction.text import TfidfVectorizer\n",
        "from sklearn.metrics.pairwise import cosine_similarity"
      ]
    },
    {
      "cell_type": "code",
      "execution_count": null,
      "metadata": {
        "id": "L58Xnel3qK8O"
      },
      "outputs": [],
      "source": [
        "# making documents(strings) to perform pre-processing\n",
        "\n",
        "\n",
        "document1='Hello,How are you?'\n",
        "document2='I\"m fine and what about you?'\n",
        "document3='All good. I\"m glad to know you are also fine.'\n",
        "document4='I\"m always fine and fit. By the way, how are you doing in your academics?'\n",
        "document5='Not stable as I\"m also preparing for Master\"s.'\n"
      ]
    },
    {
      "cell_type": "code",
      "execution_count": null,
      "metadata": {
        "id": "k71PSdAaqK8O",
        "outputId": "a04a65e5-cf59-47d4-e5bf-0856a8686f94"
      },
      "outputs": [
        {
          "name": "stdout",
          "output_type": "stream",
          "text": [
            "[['you', '?', 'are', ',', 'How', 'Hello'], ['you', \"''\", '?', 'and', 'm', 'what', 'fine', 'about', 'I'], ['glad', 'you', 'know', '.', \"''\", 'm', 'to', 'are', 'also', 'good', 'fine', 'All', 'I'], ['?', 'the', 'By', 'your', 'way', '.', 'and', 'm', ',', 'are', 'always', 'fine', 'academics', 'in', 'you', 'doing', 'how', 'fit', \"''\", 'I'], ['.', \"''\", 'for', 'stable', 'm', 'as', 'Not', 'preparing', 'also', 's', 'Master', 'I']]\n"
          ]
        }
      ],
      "source": [
        "# tokenize the documents\n",
        "\n",
        "tokenized_document=[]\n",
        "for x in range(1,6):\n",
        "    tokenized_document.append(list(set(nltk.word_tokenize(eval('document{}'.format(x))))))\n",
        "\n",
        "print(tokenized_document)"
      ]
    },
    {
      "cell_type": "code",
      "execution_count": null,
      "metadata": {
        "id": "fqQ-ZFt7qK8P",
        "outputId": "cb187da8-c8f3-462d-fe44-7b9a6c77dfc6"
      },
      "outputs": [
        {
          "name": "stdout",
          "output_type": "stream",
          "text": [
            "[['you', '?', 'are', ',', 'how', 'hello'], ['you', \"''\", '?', 'and', 'm', 'what', 'fine', 'about', 'i'], ['glad', 'you', 'know', '.', \"''\", 'm', 'to', 'are', 'also', 'good', 'fine', 'all', 'i'], ['?', 'the', 'by', 'your', 'way', '.', 'and', 'm', ',', 'are', 'always', 'fine', 'academics', 'in', 'you', 'doing', 'how', 'fit', \"''\", 'i'], ['.', \"''\", 'for', 'stable', 'm', 'as', 'not', 'preparing', 'also', 's', 'master', 'i']]\n"
          ]
        }
      ],
      "source": [
        "# lowercase conversion of tokens\n",
        "\n",
        "for x in range(0,5):\n",
        "    tokenized_document[x]=[y.lower() for y in tokenized_document[x]]\n",
        "\n",
        "print(tokenized_document)"
      ]
    },
    {
      "cell_type": "code",
      "execution_count": null,
      "metadata": {
        "id": "eHlDaXNVqK8Q",
        "outputId": "9546aecf-2d2e-440b-9a1a-b67819fd63f1"
      },
      "outputs": [
        {
          "name": "stdout",
          "output_type": "stream",
          "text": [
            "[['hello'], ['fine'], ['glad', 'know', 'also', 'good', 'fine'], ['way', 'always', 'fine', 'academics', 'fit'], ['stable', 'preparing', 'also', 'master']]\n"
          ]
        }
      ],
      "source": [
        "# removing stop words from documents\n",
        "\n",
        "stop_words=stopwords.words('english')\n",
        "stop_words.extend([',','?','\"\"',\"''\",'.'])\n",
        "# print(stop_words)\n",
        "\n",
        "for x in stop_words:\n",
        "    for y in range(0,5):\n",
        "        if x in tokenized_document[y]:\n",
        "            tokenized_document[y].remove(x)\n",
        "\n",
        "print(tokenized_document)"
      ]
    },
    {
      "cell_type": "code",
      "execution_count": null,
      "metadata": {
        "id": "09AweN9JqK8Q",
        "outputId": "02305f0c-ca6e-4483-f3e6-6dd44405c101"
      },
      "outputs": [
        {
          "name": "stdout",
          "output_type": "stream",
          "text": [
            "[['hello'], ['fine'], ['glad', 'know', 'also', 'good', 'fine'], ['way', 'alway', 'fine', 'academ', 'fit'], ['stabl', 'prepar', 'also', 'master']]\n"
          ]
        }
      ],
      "source": [
        "# performing stemming after removing stop words\n",
        "\n",
        "stemmed_document=tokenized_document\n",
        "ps = PorterStemmer()\n",
        "for x in range(0,5):\n",
        "    stemmed_document[x]=[ps.stem(y) for y in tokenized_document[x]]\n",
        "\n",
        "print(stemmed_document)"
      ]
    },
    {
      "cell_type": "code",
      "execution_count": null,
      "metadata": {
        "id": "y5fAQPArqK8R",
        "outputId": "f236f9b6-6b3d-4189-e5da-eac4217ea850"
      },
      "outputs": [
        {
          "name": "stdout",
          "output_type": "stream",
          "text": [
            "['glad', 'know', 'prepar', 'academ', 'stabl', 'also', 'fine', 'good', 'master', 'alway', 'fit', 'hello', 'way']\n"
          ]
        }
      ],
      "source": [
        "# collecting distinct words in the saperate list\n",
        "\n",
        "total_words=[]\n",
        "for x in range(0,5):\n",
        "    temp=[y for y in stemmed_document[x]]\n",
        "    total_words.extend(temp)\n",
        "\n",
        "total_words=list(set(total_words))\n",
        "\n",
        "print(total_words)"
      ]
    },
    {
      "cell_type": "code",
      "execution_count": null,
      "metadata": {
        "id": "2Yw6ZbQuqK8R",
        "outputId": "fe2c5de5-674d-4014-f8f8-e2c9bf180cbb"
      },
      "outputs": [
        {
          "name": "stdout",
          "output_type": "stream",
          "text": [
            "\t\t glad \tknow \tprepar \tacadem \tstabl \talso \tfine \tgood \tmaster \talway \tfit \thello \tway \t\n",
            "document1\t0\t0\t0\t0\t0\t0\t0\t0\t0\t0\t0\t1\t0\t\n",
            "document2\t0\t0\t0\t0\t0\t0\t1\t0\t0\t0\t0\t0\t0\t\n",
            "document3\t1\t1\t0\t0\t0\t1\t1\t1\t0\t0\t0\t0\t0\t\n",
            "document4\t0\t0\t0\t1\t0\t0\t1\t0\t0\t1\t1\t0\t1\t\n",
            "document5\t0\t0\t1\t0\t1\t1\t0\t0\t1\t0\t0\t0\t0\t\n"
          ]
        }
      ],
      "source": [
        "# making matrix of word-document relation\n",
        "\n",
        "relation=[]\n",
        "print(\"\\t\\t\",end=\" \")\n",
        "for x in total_words:\n",
        "    print(x+\" \",end=\"\\t\")\n",
        "print()\n",
        "for x in range(0,5):\n",
        "    print('document{}'.format(x+1),end=\"\\t\")\n",
        "    temp=[]\n",
        "    for element in total_words:\n",
        "        if element in stemmed_document[x]:\n",
        "            temp.extend([1])\n",
        "            print(\"1\",end=\"\\t\")\n",
        "        else:\n",
        "            temp.extend([0])\n",
        "            print(\"0\",end=\"\\t\")\n",
        "    print()\n",
        "    relation.append(temp)\n",
        "\n",
        "# prinr(relation)"
      ]
    },
    {
      "cell_type": "code",
      "execution_count": null,
      "metadata": {
        "id": "jldxZEbkqK8S",
        "outputId": "f8783a74-68ad-4ac5-ba6b-d76316727a66"
      },
      "outputs": [
        {
          "name": "stdout",
          "output_type": "stream",
          "text": [
            "glad -> 1\tknow -> 1\tprepar -> 1\tacadem -> 1\tstabl -> 1\talso -> 2\tfine -> 3\tgood -> 1\tmaster -> 1\talway -> 1\tfit -> 1\thello -> 1\tway -> 1\t"
          ]
        }
      ],
      "source": [
        "# Represent term frequencies for each unique words\n",
        "\n",
        "freq=total_words[:]\n",
        "for x in range(len(total_words)):\n",
        "    freq[x]=[row[x] for row in relation].count(1)\n",
        "# print(freq)\n",
        "\n",
        "document_count=[]\n",
        "for x in relation:\n",
        "    document_count.extend([x.count(1)])\n",
        "# print(document_count)\n",
        "\n",
        "for x in range(len(total_words)):\n",
        "        print(total_words[x],\"->\",str(freq[x]),end=\"\\t\")"
      ]
    },
    {
      "cell_type": "code",
      "execution_count": null,
      "metadata": {
        "id": "_EvKC0F6qK8T",
        "outputId": "d36472cb-bbad-4a97-f8c1-87e73d2364a5"
      },
      "outputs": [
        {
          "data": {
            "image/png": "[encoded data removed]",
            "text/plain": [
              "<Figure size 864x576 with 1 Axes>"
            ]
          },
          "metadata": {
            "needs_background": "light"
          },
          "output_type": "display_data"
        }
      ],
      "source": [
        "# visualize the data using histogram\n",
        "# Plot word frequencies\n",
        "\n",
        "freq_series = pd.Series(freq)\n",
        "\n",
        "y_labels = total_words[:]\n",
        "\n",
        "# Plot the figure.\n",
        "plt.figure(figsize=(12, 8))\n",
        "ax = freq_series.plot(kind='barh')\n",
        "ax.set_title('Words - Frequency')\n",
        "ax.set_xlabel('Frequency')\n",
        "ax.set_ylabel('Words')\n",
        "ax.set_yticklabels(y_labels)\n",
        "ax.set_xlim(min(freq)-2,max(freq)+1) # expand xlim to make labels easier to read\n",
        "\n",
        "rects = ax.patches"
      ]
    },
    {
      "cell_type": "code",
      "execution_count": null,
      "metadata": {
        "id": "w6qXrY6cqK8U",
        "outputId": "4067b866-a741-423e-b472-47ac0ec33460"
      },
      "outputs": [
        {
          "data": {
            "image/png": "[encoded data removed]",
            "text/plain": [
              "<Figure size 432x288 with 1 Axes>"
            ]
          },
          "metadata": {
            "needs_background": "light"
          },
          "output_type": "display_data"
        }
      ],
      "source": [
        "# visualize the documnet using histogram\n",
        "\n",
        "freq_series = pd.Series(document_count)\n",
        "\n",
        "y_labels = [('document{}'.format(x)) for x in range(1,6)]\n",
        "\n",
        "# Plot the figure.\n",
        "# plt.figure(figsize=(12, 8))\n",
        "ax = freq_series.plot(kind='barh')\n",
        "ax.set_title('document - Frequency')\n",
        "ax.set_xlabel('Frequency')\n",
        "ax.set_ylabel('documnet')\n",
        "ax.set_yticklabels(y_labels)\n",
        "ax.set_xlim(min(document_count)-2,max(document_count)+2) # expand xlim to make labels easier to read\n",
        "\n",
        "rects = ax.patches"
      ]
    },
    {
      "cell_type": "code",
      "execution_count": null,
      "metadata": {
        "id": "P5nz-LWEqK8U",
        "outputId": "829d7963-5158-4cd7-c9cb-dd375e905f35"
      },
      "outputs": [
        {
          "data": {
            "image/png": "[encoded data removed]",
            "text/plain": [
              "<Figure size 864x864 with 1 Axes>"
            ]
          },
          "metadata": {
            "needs_background": "light"
          },
          "output_type": "display_data"
        }
      ],
      "source": [
        "# Show word cloud\n",
        "\n",
        "def show_wordcloud(data, title = None):\n",
        "    wordcloud = WordCloud(\n",
        "        background_color='black',\n",
        "        max_words=200,\n",
        "        max_font_size=40,\n",
        "        scale=3,\n",
        "        random_state=1 # chosen at random by flipping a coin; it was heads\n",
        "        ).generate(str(data))\n",
        "\n",
        "    fig = plt.figure(1, figsize=(12, 12))\n",
        "    plt.axis('off')\n",
        "    if title:\n",
        "        fig.suptitle(title, fontsize=20)\n",
        "        fig.subplots_adjust(top=2.3)\n",
        "\n",
        "    plt.imshow(wordcloud)\n",
        "    plt.show()\n",
        "\n",
        "show_wordcloud(total_words,title='Word-Cloud')"
      ]
    },
    {
      "cell_type": "code",
      "execution_count": null,
      "metadata": {
        "id": "Ke5ERub5qK8V"
      },
      "outputs": [],
      "source": [
        "# clustering\n",
        "\n",
        "#define vectorizer parameters\n",
        "tfidf_vectorizer = TfidfVectorizer( max_features=200000,\n",
        "                                  stop_words='english',\n",
        "                                 use_idf=True, ngram_range=(1,3))\n",
        "\n",
        "tfidf_matrix = tfidf_vectorizer.fit_transform(total_words) #fit the vectorizer to synopses\n",
        "\n",
        "# print(tfidf_matrix.shape)"
      ]
    },
    {
      "cell_type": "code",
      "execution_count": null,
      "metadata": {
        "id": "coDMjPL_qK8V"
      },
      "outputs": [],
      "source": [
        "dist = 1 - cosine_similarity(tfidf_matrix)"
      ]
    },
    {
      "cell_type": "code",
      "execution_count": null,
      "metadata": {
        "id": "cfgQHx3wqK8V",
        "outputId": "142be762-8884-4f0d-ffa4-c9001ff0e42e"
      },
      "outputs": [
        {
          "data": {
            "image/png": "[encoded data removed]",
            "text/plain": [
              "<Figure size 864x864 with 1 Axes>"
            ]
          },
          "metadata": {
            "needs_background": "light"
          },
          "output_type": "display_data"
        }
      ],
      "source": [
        "linkage_matrix = ward(dist) #define the linkage_matrix using ward clustering pre-computed distances\n",
        "\n",
        "fig, ax = plt.subplots(figsize=(12,12)) # set size\n",
        "ax = dendrogram(linkage_matrix, orientation=\"right\", labels=total_words);\n",
        "\n",
        "plt.tick_params(\\\n",
        "    axis= 'x',          # changes apply to the x-axis\n",
        "    which='both',      # both major and minor ticks are affected\n",
        "    bottom='off',      # ticks along the bottom edge are off\n",
        "    top='off',         # ticks along the top edge are off\n",
        "    labelbottom='off')\n",
        "\n",
        "plt.tight_layout()\n",
        "\n",
        "plt.savefig('ward_clusters.png', dpi=200) #save figure as ward_clusters"
      ]
    },
    {
      "cell_type": "code",
      "execution_count": null,
      "metadata": {
        "id": "Ww8sNH3JqK8V"
      },
      "outputs": [],
      "source": []
    },
    {
      "cell_type": "code",
      "execution_count": null,
      "metadata": {
        "id": "OBCABel5qK8V"
      },
      "outputs": [],
      "source": []
    },
    {
      "cell_type": "code",
      "execution_count": null,
      "metadata": {
        "id": "h064xlSqqK8W"
      },
      "outputs": [],
      "source": [
        "# calculating the IDF values for corpus\n",
        "\n",
        "IDF=freq[:]\n",
        "for x in range(len(freq)):\n",
        "    temp=math.log((len(document_count)+1)/(freq[x]+1))+1\n",
        "    IDF[x]=temp\n",
        "# print(IDF)"
      ]
    },
    {
      "cell_type": "code",
      "execution_count": null,
      "metadata": {
        "id": "9rysUUDWqK8W"
      },
      "outputs": [],
      "source": [
        "# calculating the TF values for document\n",
        "\n",
        "TF=relation[:]\n",
        "for x in range(len(relation)):\n",
        "    TF[x]=[y/document_count[x] for y in (relation[x])]\n",
        "\n",
        "# print(TF)"
      ]
    },
    {
      "cell_type": "code",
      "execution_count": null,
      "metadata": {
        "id": "GtF0HFNrqK8W"
      },
      "outputs": [],
      "source": [
        "# TF-IDF matrix without normalize\n",
        "\n",
        "TF_IDF=TF[:]\n",
        "for x in range(len(TF)):\n",
        "    TF_IDF[x]=[TF[x][y]*IDF[y] for y in range(len(TF[x]))]\n",
        "\n",
        "# print(TF_IDF)"
      ]
    },
    {
      "cell_type": "code",
      "execution_count": null,
      "metadata": {
        "id": "8yjet9PDqK8W"
      },
      "outputs": [],
      "source": [
        "# TF-IDF matrix with normalize\n",
        "\n",
        "for x in range(len(TF_IDF)):\n",
        "    temp=sum([y*y for y in TF_IDF[x]])\n",
        "    TF_IDF[x]=[y/math.sqrt(temp) for y in (TF_IDF[x])]\n",
        "\n",
        "# print(TF_IDF)"
      ]
    },
    {
      "cell_type": "code",
      "execution_count": null,
      "metadata": {
        "id": "h8rEhtMtqK8W"
      },
      "outputs": [],
      "source": [
        "# TF-IDF representation\n",
        "\n",
        "print(\"\\t\\t\",end=\" \")\n",
        "for x in total_words:\n",
        "    print(x+\" \",end=\"\\t\")\n",
        "print()\n",
        "for x in range(0,len(document_count)):\n",
        "    print('document{}'.format(x+1),end=\"\\t\")\n",
        "    for y in TF_IDF[x]:\n",
        "        print(round(y,4),end=\"\\t\")\n",
        "    print()\n"
      ]
    },
    {
      "cell_type": "code",
      "execution_count": null,
      "metadata": {
        "id": "VeNQU70QqK8W"
      },
      "outputs": [],
      "source": [
        "# enter query for the search\n",
        "\n",
        "text=input(\"Enter the text :- \")"
      ]
    },
    {
      "cell_type": "code",
      "execution_count": null,
      "metadata": {
        "id": "M6UO-wDqqK8W"
      },
      "outputs": [],
      "source": [
        "# pre-processing the query\n",
        "\n",
        "tokens=list(set(nltk.word_tokenize(text)))\n",
        "print('tokens:-',tokens)\n",
        "print()\n",
        "\n",
        "tokens_lower=[y.lower() for y in tokens]\n",
        "print('lower:-',tokens_lower)\n",
        "print()\n",
        "\n",
        "for x in stop_words:\n",
        "    if x in tokens_lower:\n",
        "        tokens_lower.remove(x)\n",
        "print('stopword removed:-',tokens_lower)\n",
        "print()\n",
        "\n",
        "stemmed_query=[ps.stem(y) for y in tokens_lower]\n",
        "print('stemmed form:-',stemmed_query)\n",
        "print()\n"
      ]
    },
    {
      "cell_type": "code",
      "execution_count": null,
      "metadata": {
        "id": "i92kXAtXqK8X"
      },
      "outputs": [],
      "source": [
        "# representation of query\n",
        "\n",
        "query_vector=[]\n",
        "for x in total_words:\n",
        "    if x in stemmed_query:\n",
        "        query_vector.extend([1])\n",
        "    else:\n",
        "        query_vector.extend([0])\n",
        "\n",
        "# print(query_vector)\n",
        "\n",
        "print(\"\\t\",end=\" \")\n",
        "for x in total_words:\n",
        "    print(x+\" \",end=\"\\t\")\n",
        "print()\n",
        "print('query',end='\\t')\n",
        "for x in query_vector:\n",
        "    print(str(x)+\" \",end='\\t')\n",
        "print()"
      ]
    },
    {
      "cell_type": "code",
      "execution_count": null,
      "metadata": {
        "id": "XuCDoztJqK8X"
      },
      "outputs": [],
      "source": [
        "# TF_IDF representation of the query\n",
        "\n",
        "query_freq=query_vector.count(int(1))\n",
        "query_vector=[query_vector[y]*IDF[y]/query_freq for y in range(len(query_vector))]\n",
        "\n",
        "print(\"\\t\",end=\" \")\n",
        "for x in total_words:\n",
        "    print(x+\" \",end=\"\\t\")\n",
        "print()\n",
        "print('query',end='\\t')\n",
        "for x in query_vector:\n",
        "    print(str(round(x,4))+\" \",end='\\t')\n",
        "print()"
      ]
    },
    {
      "cell_type": "code",
      "execution_count": null,
      "metadata": {
        "id": "G3__BoZPqK8X"
      },
      "outputs": [],
      "source": [
        "# cosine similarity\n",
        "\n",
        "cosine_values=[0 for x in range(len(TF_IDF))]\n",
        "squared_values=[0 for x in range(len(TF_IDF))]\n",
        "for x in range(len(TF_IDF)):\n",
        "    for y in range(len(TF_IDF[x])):\n",
        "        cosine_values[x]+=TF_IDF[x][y]*query_vector[y]\n",
        "        squared_values[x]+=TF_IDF[x][y]*TF_IDF[x][y]\n",
        "\n",
        "query_square=sum([y*y for y in query_vector])\n",
        "final_similarity=[0 for x in range(len(TF_IDF))]\n",
        "for x in range(len(final_similarity)):\n",
        "    final_similarity[x]=cosine_values[x]/(math.sqrt(squared_values[x])*math.sqrt(query_square))\n",
        "\n",
        "order=sorted(final_similarity)\n",
        "order=order[::-1]\n",
        "print(\"\\t\\tCosine-Similarity\")\n",
        "print()\n",
        "for x in range(0,len(order)):\n",
        "    print('document{}'.format(final_similarity.index(order[x])+1),end=\"\\t\")\n",
        "    print(round(order[x],5),end=\"\\t\")\n",
        "    print()"
      ]
    },
    {
      "cell_type": "code",
      "execution_count": null,
      "metadata": {
        "id": "WNpqWMzsqK8X"
      },
      "outputs": [],
      "source": []
    },
    {
      "cell_type": "code",
      "execution_count": null,
      "metadata": {
        "id": "DsZHL-TeqK8X"
      },
      "outputs": [],
      "source": []
    }
  ],
  "metadata": {
    "kernelspec": {
      "display_name": "Python 3",
      "language": "python",
      "name": "python3"
    },
    "language_info": {
      "codemirror_mode": {
        "name": "ipython",
        "version": 3
      },
      "file_extension": ".py",
      "mimetype": "text/x-python",
      "name": "python",
      "nbconvert_exporter": "python",
      "pygments_lexer": "ipython3",
      "version": "3.7.6"
    },
    "colab": {
      "provenance": []
    }
  },
  "nbformat": 4,
  "nbformat_minor": 0
}