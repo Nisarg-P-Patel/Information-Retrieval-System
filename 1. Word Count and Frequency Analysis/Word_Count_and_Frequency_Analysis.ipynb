{
  "cells": [
    {
      "cell_type": "markdown",
      "metadata": {
        "id": "fdS8rpMyqJEf"
      },
      "source": [
        "Objective : Write a small program that will accept a sentence from the user, and provide a number of words, and a list of words as the output. Assume that the words are separated by blank space."
      ]
    },
    {
      "cell_type": "code",
      "execution_count": null,
      "metadata": {
        "id": "ascqO-a0qJEl",
        "outputId": "16ba2a03-8df0-4be3-b564-b24b91782c54"
      },
      "outputs": [
        {
          "name": "stdout",
          "output_type": "stream",
          "text": [
            "hey how are you? All good?\n",
            "Number of the words :-  6\n",
            "['hey', 'how', 'are', 'you?', 'All', 'good?']\n"
          ]
        }
      ],
      "source": [
        "# counting words using method split\n",
        "\n",
        "x=input().split(\" \")\n",
        "print(\"Number of the words :- \",len(x))\n",
        "print(x)"
      ]
    },
    {
      "cell_type": "code",
      "execution_count": null,
      "metadata": {
        "id": "HVRhVZ5AqJEo",
        "outputId": "0721afbf-83ec-4248-816f-c754688dc202"
      },
      "outputs": [
        {
          "name": "stdout",
          "output_type": "stream",
          "text": [
            "hey how are you? All good?\n",
            "Number of the words :-  8\n",
            "['hey', 'how', 'are', 'you', '?', 'All', 'good', '?']\n"
          ]
        }
      ],
      "source": [
        "# counting words using nltk\n",
        "\n",
        "import nltk\n",
        "\n",
        "x_1=nltk.word_tokenize(input())\n",
        "print(\"Number of the words :- \",len(x_1))\n",
        "print(x_1)"
      ]
    },
    {
      "cell_type": "code",
      "execution_count": null,
      "metadata": {
        "id": "VLpgSDiSqJEp",
        "outputId": "385934ba-603b-4918-9544-be31fcec883a"
      },
      "outputs": [
        {
          "name": "stdout",
          "output_type": "stream",
          "text": [
            "Yup All good and what are you doing?\n",
            " doing? = 1\n",
            " All = 2\n",
            " good? = 1\n",
            " how = 1\n",
            " what = 1\n",
            " you? = 1\n",
            " hey = 1\n",
            " Yup = 1\n",
            " good = 1\n",
            " you = 1\n",
            " are = 2\n",
            " and = 1\n"
          ]
        }
      ],
      "source": [
        "# counting the frequency of unique the words using split\n",
        "\n",
        "x_2=input().split()\n",
        "x_3=x[:]\n",
        "x_3.extend(x_2)\n",
        "\n",
        "unique=list(set(x_3))\n",
        "for word in unique:\n",
        "    print(\"\",word,\"=\",x_3.count(word))"
      ]
    },
    {
      "cell_type": "code",
      "execution_count": null,
      "metadata": {
        "id": "2YSFiv2GqJEq",
        "outputId": "49df4bc0-9cad-42f9-b345-1c4e4f624dcc"
      },
      "outputs": [
        {
          "name": "stdout",
          "output_type": "stream",
          "text": [
            "Yup All good and what are you doing?\n",
            " doing = 1\n",
            " All = 2\n",
            " ? = 3\n",
            " how = 1\n",
            " what = 1\n",
            " hey = 1\n",
            " Yup = 1\n",
            " good = 2\n",
            " you = 2\n",
            " are = 2\n",
            " and = 1\n"
          ]
        }
      ],
      "source": [
        "# counting the frequency of unique the words using nltk\n",
        "\n",
        "x_4=nltk.word_tokenize(input())\n",
        "x_5=x_1[:]\n",
        "x_5.extend(x_4)\n",
        "\n",
        "unique=list(set(x_5))\n",
        "for word in unique:\n",
        "    print(\"\",word,\"=\",x_5.count(word))"
      ]
    },
    {
      "cell_type": "code",
      "execution_count": null,
      "metadata": {
        "id": "h69ZsOOyqJEq"
      },
      "outputs": [],
      "source": []
    }
  ],
  "metadata": {
    "kernelspec": {
      "display_name": "Python 3",
      "language": "python",
      "name": "python3"
    },
    "language_info": {
      "codemirror_mode": {
        "name": "ipython",
        "version": 3
      },
      "file_extension": ".py",
      "mimetype": "text/x-python",
      "name": "python",
      "nbconvert_exporter": "python",
      "pygments_lexer": "ipython3",
      "version": "3.7.6"
    },
    "colab": {
      "provenance": []
    }
  },
  "nbformat": 4,
  "nbformat_minor": 0
}